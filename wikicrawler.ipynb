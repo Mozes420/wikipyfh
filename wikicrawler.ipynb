{
 "cells": [
  {
   "cell_type": "code",
   "execution_count": 1,
   "metadata": {},
   "outputs": [],
   "source": [
    "#imports\n",
    "from bs4 import BeautifulSoup\n",
    "import requests\n",
    "import pandas as pd\n",
    "import datetime"
   ]
  },
  {
   "cell_type": "code",
   "execution_count": 2,
   "metadata": {},
   "outputs": [],
   "source": [
    "#get page to soup\n",
    "page = requests.get('https://en.wikipedia.org/wiki/Natural_language_processing')\n",
    "#page = requests.get('https://en.wikipedia.org/wiki/Sturm–Picone_comparison_theorem')\n",
    "\n",
    "soup = BeautifulSoup(page.content, 'html.parser')"
   ]
  },
  {
   "cell_type": "code",
   "execution_count": 3,
   "metadata": {},
   "outputs": [],
   "source": [
    "#article name / headline\n",
    "headline = soup.findAll('h1')[0].getText()"
   ]
  },
  {
   "cell_type": "code",
   "execution_count": 15,
   "metadata": {},
   "outputs": [],
   "source": [
    "#limit soup to actual article content\n",
    "body = soup.select('#mw-content-text > div.mw-parser-output')[0]"
   ]
  },
  {
   "cell_type": "code",
   "execution_count": 16,
   "metadata": {},
   "outputs": [
    {
     "name": "stdout",
     "output_type": "stream",
     "text": [
      "<span class=\"mw-headline\" id=\"References\"\n",
      "<span class=\"mw-headline\" id=\"Notes\"\n",
      "<span class=\"mw-headline\" id=\"Sources\"\n",
      "<span class=\"mw-headline\" id=\"External_links\"\n",
      "<span class=\"mw-headline\" id=\"Notes,_citations,_and_references\"\n",
      "<span class=\"mw-headline\" id=\"Bibliography\"\n",
      "<span class=\"mw-headline\" id=\"See_also\"\n",
      "<span class=\"mw-headline\" id=\"Further_reading\"\n",
      "<span class=\"mw-headline\" id=\"Works_cited\"\n"
     ]
    }
   ],
   "source": [
    "#drop content after 'References' section\n",
    "ref_id = ['\"References\"', '\"Notes\"', '\"Sources\"', '\"External_links\"','\"Notes,_citations,_and_references\"', '\"Bibliography\"', '\"See_also\"', '\"Further_reading\"', '\"Works_cited\"']\n",
    "for id in ref_id:\n",
    "\ttry:\n",
    "\t\tbody_str = str(body).split(f'<span class=\"mw-headline\" id={id}')[0]\n",
    "\t\tbody = BeautifulSoup(body_str, 'html.parser')\n",
    "\t\t#body.find('span', {'class':'mw-headline', 'id':id}).decompose()\n",
    "\texcept:\n",
    "\t\tprint(id+': No such element found!')\n",
    "\t"
   ]
  },
  {
   "cell_type": "code",
   "execution_count": 17,
   "metadata": {},
   "outputs": [],
   "source": [
    "#get number of images in the article\n",
    "img_count = len(body.findAll('img'))"
   ]
  },
  {
   "cell_type": "code",
   "execution_count": 18,
   "metadata": {},
   "outputs": [
    {
     "data": {
      "text/plain": [
       "4"
      ]
     },
     "execution_count": 18,
     "metadata": {},
     "output_type": "execute_result"
    }
   ],
   "source": [
    "img_count"
   ]
  },
  {
   "cell_type": "code",
   "execution_count": 19,
   "metadata": {},
   "outputs": [
    {
     "name": "stdout",
     "output_type": "stream",
     "text": [
      "No TOC found\n"
     ]
    }
   ],
   "source": [
    "try:\n",
    "\tbody.find('div', {'class':'toc'}).decompose()\n",
    "except:\n",
    "\tprint('No TOC found')\n",
    "\t\n",
    "try:\n",
    "\tfor tag in body.findAll('math'):\n",
    "\t\ttag.decompose()\t\t\n",
    "except:\n",
    "\tpass\n",
    "\n",
    "try:\n",
    "\tfor tag in body.findAll('li', {'class':'gallerybox'}):\n",
    "\t\ttag.decompose()\n",
    "except:\n",
    "\tpass"
   ]
  },
  {
   "cell_type": "code",
   "execution_count": 20,
   "metadata": {},
   "outputs": [],
   "source": [
    "article_content_text = body.findAll(['p','ul','dl','ol','li', 'pre', 'h2', 'h3', 'h4'])"
   ]
  },
  {
   "cell_type": "code",
   "execution_count": 21,
   "metadata": {},
   "outputs": [
    {
     "name": "stdout",
     "output_type": "stream",
     "text": [
      "In mathematics, in the field of ordinary differential equations, the Sturm–Picone comparison theorem, named after Jacques Charles François Sturm and Mauro Picone, is a classical theorem which provides criteria for the oscillation and non-oscillation of solutions of certain linear differential equations in the real domain.\n",
      "\n",
      "Let pi, qi i = 1, 2, be real-valued continuous functions on the interval [a, b] and let\n",
      "\n",
      "\n",
      "\n",
      "\n",
      "\n",
      "be two homogeneous linear second order differential equations in self-adjoint form with\n",
      "\n",
      "\n",
      "and\n",
      "\n",
      "\n",
      "Let u be a non-trivial solution of (1) with successive roots at z1 and z2 and let v be a non-trivial solution of (2). Then one of the following properties holds.\n",
      "\n",
      "There exists an x in (z1, z2) such that v(x) = 0; or\n",
      "there exists a λ in R such that v(x) = λ u(x).\n",
      "There exists an x in (z1, z2) such that v(x) = 0; or\n",
      "there exists a λ in R such that v(x) = λ u(x).\n",
      "The first part of the conclusion is due to Sturm (1836),[1] while the second (alternative) part of the theorem is due to Picone (1910)[2][3] whose simple proof was given using his now famous Picone identity. In the special case where both equations are identical one obtains the Sturm separation theorem.[4]\n",
      "\n",
      "\n"
     ]
    }
   ],
   "source": [
    "for tag in article_content_text:\n",
    "\tprint(tag.getText())"
   ]
  },
  {
   "cell_type": "code",
   "execution_count": null,
   "metadata": {},
   "outputs": [],
   "source": []
  }
 ],
 "metadata": {
  "interpreter": {
   "hash": "24642cfffd41a7693f5e40509b6e9050163e9bec7e9c4cea87142ba03ca1717f"
  },
  "kernelspec": {
   "display_name": "Python 3.9.7 64-bit ('dsall': conda)",
   "name": "python3"
  },
  "language_info": {
   "codemirror_mode": {
    "name": "ipython",
    "version": 3
   },
   "file_extension": ".py",
   "mimetype": "text/x-python",
   "name": "python",
   "nbconvert_exporter": "python",
   "pygments_lexer": "ipython3",
   "version": "3.9.7"
  },
  "orig_nbformat": 4
 },
 "nbformat": 4,
 "nbformat_minor": 2
}
