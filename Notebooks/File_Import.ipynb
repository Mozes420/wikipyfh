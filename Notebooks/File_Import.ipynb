{
 "cells": [
  {
   "cell_type": "markdown",
   "metadata": {},
   "source": [
    "# File Import\n",
    "\n",
    "Scraping Wikipedia articles and reading metadata is possible, but it becomes inefficient due to the difficulties that arise if too many users try to do this on too many pages at the same time. \n",
    "Mediawiki allows access to current and historical information on the one hand via the API and on the other hand via so-called backup dumps, where the complete Wikipedia articles of certain data are made available for download in compressed form: https://dumps.wikimedia.org/enwiki/\n",
    "\n",
    "For this project, the dumps from 1 February 2022 were used. The code available on the following page and adapted to our needs was used as the basis for the data import: https://github.com/WillKoehrsen/wikipedia-data-science/blob/master/notebooks/Downloading%20and%20Parsing%20Wikipedia%20Articles.ipynb"
   ]
  },
  {
   "cell_type": "markdown",
   "metadata": {},
   "source": [
    "Packages used:\n",
    "  \n",
    "**requests:** https://docs.python-requests.org/en/latest/  \n",
    "**BeautifulSoup:** https://www.crummy.com/software/BeautifulSoup/  \n",
    "**keras:** https://keras.io/  \n",
    "**segmentation_models:** https://github.com/qubvel/segmentation_models  \n",
    "**tensorflow:** https://www.tensorflow.org/  \n",
    "**pandas:** https://pandas.pydata.org/  \n",
    "**matplotlib:** https://matplotlib.org/  \n"
   ]
  },
  {
   "cell_type": "code",
   "execution_count": 12,
   "metadata": {},
   "outputs": [],
   "source": [
    "import requests\n",
    "from bs4 import BeautifulSoup\n",
    "import keras as tf\n",
    "import segmentation_models as sm\n",
    "sm.set_framework('tf.keras')\n",
    "sm.framework()\n",
    "import tensorflow\n",
    "from tensorflow.keras.utils import get_file\n",
    "import pandas as pd\n",
    "import matplotlib.pyplot as plt\n",
    "%matplotlib inline\n",
    "import os"
   ]
  },
  {
   "cell_type": "markdown",
   "metadata": {},
   "source": [
    "## Get Dumps"
   ]
  },
  {
   "cell_type": "markdown",
   "metadata": {},
   "source": [
    "The dumps.wikimedia.org page lists the latest available wiki dumps. \n",
    "We pass Python the url as `base_url` and retrieve the text of the page - the `index` - with `requests`. \n",
    "BeautifulSoup \"translates\" the page using an html parser into `soup_index`. "
   ]
  },
  {
   "cell_type": "code",
   "execution_count": 3,
   "metadata": {},
   "outputs": [
    {
     "name": "stdout",
     "output_type": "stream",
     "text": [
      "Getting Dumps from: \n",
      "\n",
      " https://dumps.wikimedia.org/enwiki/ \n",
      "\n",
      "Page content (String): \n",
      "\n",
      " <html>\n",
      "<head><title>Index of /enwiki/</title></head>\n",
      "<body bgcolor=\"white\">\n",
      "<h1>Index of /enwiki/</h1><hr><pre><a href=\"../\">../</a>\n",
      "<a href=\"20211101/\">20211101/</a>                                          21-Dec-2021 01:30                   -\n",
      "<a href=\"20211120/\">20211120/</a>                                          02-Jan-2022 01:27                   -\n",
      "<a href=\"20211201/\">20211201/</a>                                          21-Jan-2022 01:30                   -\n",
      "<a href=\"20211220/\">20211220/</a>                                          02-Feb-2022 01:26                   -\n",
      "<a href=\"20220101/\">20220101/</a>                                          07-Jan-2022 17:05                   -\n",
      "<a href=\"20220120/\">20220120/</a>                                          22-Jan-2022 02:47                   -\n",
      "<a href=\"20220201/\">20220201/</a>                                          19-Feb-2022 17:00                   -\n",
      "<a href=\"latest/\">latest/</a>                                            19-Feb-2022 17:00                   -\n",
      "</pre><hr></body>\n",
      "</html>\n",
      " \n",
      "\n",
      "readable html: \n",
      "\n",
      " <html>\n",
      "<head><title>Index of /enwiki/</title></head>\n",
      "<body bgcolor=\"white\">\n",
      "<h1>Index of /enwiki/</h1><hr/><pre><a href=\"../\">../</a>\n",
      "<a href=\"20211101/\">20211101/</a>                                          21-Dec-2021 01:30                   -\n",
      "<a href=\"20211120/\">20211120/</a>                                          02-Jan-2022 01:27                   -\n",
      "<a href=\"20211201/\">20211201/</a>                                          21-Jan-2022 01:30                   -\n",
      "<a href=\"20211220/\">20211220/</a>                                          02-Feb-2022 01:26                   -\n",
      "<a href=\"20220101/\">20220101/</a>                                          07-Jan-2022 17:05                   -\n",
      "<a href=\"20220120/\">20220120/</a>                                          22-Jan-2022 02:47                   -\n",
      "<a href=\"20220201/\">20220201/</a>                                          19-Feb-2022 17:00                   -\n",
      "<a href=\"latest/\">latest/</a>                                            19-Feb-2022 17:00                   -\n",
      "</pre><hr/></body>\n",
      "</html>\n",
      "\n"
     ]
    }
   ],
   "source": [
    "base_url = 'https://dumps.wikimedia.org/enwiki/'\n",
    "print('Getting Dumps from: \\n\\n', base_url, '\\n')\n",
    "\n",
    "index = requests.get(base_url).text\n",
    "print('Page content (String): \\n\\n', index, '\\n')\n",
    "\n",
    "soup_index = BeautifulSoup(index, 'html.parser')\n",
    "print('readable html: \\n\\n', soup_index)"
   ]
  },
  {
   "cell_type": "markdown",
   "metadata": {},
   "source": [
    "Now the links of the last available backups are retrieved as `dumps`. The names correspond to the date of the dump. "
   ]
  },
  {
   "cell_type": "code",
   "execution_count": 25,
   "metadata": {},
   "outputs": [
    {
     "data": {
      "text/plain": [
       "['../',\n",
       " '20211101/',\n",
       " '20211120/',\n",
       " '20211201/',\n",
       " '20211220/',\n",
       " '20220101/',\n",
       " '20220120/',\n",
       " '20220201/',\n",
       " 'latest/']"
      ]
     },
     "execution_count": 25,
     "metadata": {},
     "output_type": "execute_result"
    }
   ],
   "source": [
    "dumps = [a['href'] for a in soup_index.find_all('a') if a.has_attr('href')]\n",
    "dumps"
   ]
  },
  {
   "cell_type": "markdown",
   "metadata": {},
   "source": [
    "To get the latest version, we choose the last date and pass this string together with the `base_url` as `dump_url`."
   ]
  },
  {
   "cell_type": "code",
   "execution_count": 5,
   "metadata": {},
   "outputs": [
    {
     "data": {
      "text/plain": [
       "'https://dumps.wikimedia.org/enwiki/20220201/'"
      ]
     },
     "execution_count": 5,
     "metadata": {},
     "output_type": "execute_result"
    }
   ],
   "source": [
    "dump_url = base_url + '20220201/'\n",
    "dump_url"
   ]
  },
  {
   "cell_type": "markdown",
   "metadata": {},
   "source": [
    "`dump_url` is the website where all possible compressed backup versions (e.g. 7zip, bz2, multistream) are downloadable. To get to the desired entry, this page is called as `dump_html`."
   ]
  },
  {
   "cell_type": "code",
   "execution_count": 6,
   "metadata": {},
   "outputs": [
    {
     "name": "stdout",
     "output_type": "stream",
     "text": [
      "Data Type:  <class 'str'> \n",
      "\n",
      "First 500 elements in dump_html: \n",
      "\n",
      " <!DOCTYPE html PUBLIC \"-//W3C//DTD XHTML 1.0 Strict//EN\"\n",
      "        \"http://www.w3.org/TR/xhtml1/DTD/xhtml1-strict.dtd\">\n",
      "\n",
      "<html xmlns=\"http://www.w3.org/1999/xhtml\" xml:lang=\"en\" lang=\"en\">\n",
      "<head>\n",
      "        <meta http-equiv=\"Content-Type\" content=\"text/html; charset=utf-8\"/>\n",
      "        <title>enwiki dump progress on 20220201</title>\n",
      "        <link rel=\"stylesheet\" type=\"text/css\" href=\"/dumps.css\" />\n",
      "        <style type=\"text/css\">\n",
      "                .siteinfo {\n",
      "                        text-align: center;\n",
      "  \t\t..........\n"
     ]
    }
   ],
   "source": [
    "dump_html = requests.get(dump_url).text\n",
    "print('Data Type: ', type(dump_html), '\\n\\nFirst 500 elements in dump_html: \\n\\n', dump_html[:500], '\\t\\t..........')\n"
   ]
  },
  {
   "cell_type": "markdown",
   "metadata": {},
   "source": [
    "With BeautifulSoup this page is converted from class `string` into a readable class type `bs4`: `soup_dump`."
   ]
  },
  {
   "cell_type": "code",
   "execution_count": 7,
   "metadata": {},
   "outputs": [
    {
     "name": "stdout",
     "output_type": "stream",
     "text": [
      "Data Type:  <class 'bs4.BeautifulSoup'> \n",
      "\n",
      "First 500 elements in soup_dump: \n",
      "\n",
      " <!DOCTYPE html PUBLIC \"-//W3C//DTD XHTML 1.0 Strict//EN\"\n",
      "        \"http://www.w3.org/TR/xhtml1/DTD/xhtml1-strict.dtd\">\n",
      "\n",
      "<html lang=\"en\" xml:lang=\"en\" xmlns=\"http://www.w3.org/1999/xhtml\">\n",
      "<head>\n",
      "<meta content=\"text/html; charset=utf-8\" http-equiv=\"Content-Type\"/>\n",
      "<title>enwiki dump progress on 20220201</title>\n",
      "<link href=\"/dumps.css\" rel=\"stylesheet\" type=\"text/css\"/>\n",
      "<style type=\"text/css\">\n",
      "                .siteinfo {\n",
      "                        text-align: center;\n",
      "                }\n",
      "                 \t\t..........\n"
     ]
    }
   ],
   "source": [
    "soup_dump = BeautifulSoup(dump_html, 'html.parser')\n",
    "print('Data Type: ', type(soup_dump), '\\n\\nFirst 500 elements in soup_dump: \\n\\n', str(soup_dump)[:500], '\\t\\t..........')"
   ]
  },
  {
   "cell_type": "markdown",
   "metadata": {},
   "source": [
    "Now all links leading to a dump file must be found. The correct path can be found via the browser extension with the help of the element selection tool. In this case, the search is for enumerations `li` of the class `file`."
   ]
  },
  {
   "cell_type": "code",
   "execution_count": 8,
   "metadata": {},
   "outputs": [
    {
     "name": "stdout",
     "output_type": "stream",
     "text": [
      "Data Type:  <class 'bs4.element.ResultSet'> \n",
      "\n",
      "Links in dump_files: \n",
      "\n",
      " [<li class=\"file\"><a href=\"/enwiki/20220201/enwiki-20220201-pages-articles-multistream.xml.bz2\">enwiki-20220201-pages-articles-multistream.xml.bz2</a> 19.1 GB</li>, <li class=\"file\"><a href=\"/enwiki/20220201/enwiki-20220201-pages-articles-multistream-index.txt.bz2\">enwiki-20220201-pages-articles-multistream-index.txt.bz2</a> 228.3 MB</li>, <li class=\"file\"><a href=\"/enwiki/20220201/enwiki-20220201-pages-articles-multistream1.xml-p1p41242.bz2\">enwiki-20220201-pages-articles-multistream1.xml-p1p41 ..........\n"
     ]
    }
   ],
   "source": [
    "dump_files = soup_dump.find_all('li', {'class': 'file'})\n",
    "print('Data Type: ', type(dump_files), '\\n\\nLinks in dump_files: \\n\\n', str(dump_files)[:500], '..........')"
   ]
  },
  {
   "cell_type": "markdown",
   "metadata": {},
   "source": [
    "The next step is to search `dump_files` for the relevant file links. In this case we restrict ourselves to files that have `meta-history1.xml` in their name. The result is saved in a list named `files`. "
   ]
  },
  {
   "cell_type": "code",
   "execution_count": 10,
   "metadata": {},
   "outputs": [
    {
     "name": "stdout",
     "output_type": "stream",
     "text": [
      "Number of stored Links in List:  109 \n",
      "Data Type of List-Elements:  <class 'tuple'> \n",
      "\n",
      " Text before splitting:  enwiki-20220201-site_stats.sql.gz 816 bytes \n",
      "\n",
      " Text after splitting:  ('enwiki-20220201-stub-meta-history1.xml.gz', ['2.6', 'GB'])\n"
     ]
    }
   ],
   "source": [
    "files = []\n",
    "\n",
    "# Search through all files\n",
    "for file in soup_dump.find_all('li', {'class': 'file'}):\n",
    "    text = file.text\n",
    "    # Select the relevant files\n",
    "    if 'meta-history1.xml' in text:\n",
    "        splitted_text = (text.split()[0], text.split()[1:])\n",
    "        files.append(splitted_text)\n",
    "        \n",
    "print('Number of stored Links in List: ', len(files), '\\nData Type of List-Elements: ', type(files[0]), '\\n\\n Text before splitting: ', text, '\\n\\n Text after splitting: ', splitted_text)"
   ]
  },
  {
   "cell_type": "code",
   "execution_count": 41,
   "metadata": {},
   "outputs": [],
   "source": [
    "#use this by removing the hashtag, if you have to reset the list: \n",
    "\n",
    "#files.clear()"
   ]
  },
  {
   "cell_type": "markdown",
   "metadata": {},
   "source": [
    "Since we are not only looking exclusively for files with `meta-history1`, but also focus on the compression versions `bz2`, we filter the list again. To avoid \"collective downloads\", we also select the filter `.xml-p`."
   ]
  },
  {
   "cell_type": "code",
   "execution_count": 11,
   "metadata": {},
   "outputs": [
    {
     "name": "stdout",
     "output_type": "stream",
     "text": [
      "Number of stored Links in List:  54 \n",
      "Data Type of List-Elements:  <class 'str'>\n"
     ]
    }
   ],
   "source": [
    "files_to_download = [file[0] for file in files if '.xml-p' and '.bz2' in file[0]]\n",
    "len(files_to_download)\n",
    "print('Number of stored Links in List: ', len(files_to_download), '\\nData Type of List-Elements: ', type(files_to_download[0]))"
   ]
  },
  {
   "cell_type": "code",
   "execution_count": 43,
   "metadata": {},
   "outputs": [],
   "source": [
    "#use this by removing the hashtag, if you have to reset the list: \n",
    "\n",
    "#files_to_download.clear()"
   ]
  },
  {
   "cell_type": "markdown",
   "metadata": {},
   "source": [
    "A storage location is specified for the files to be downloaded. "
   ]
  },
  {
   "cell_type": "code",
   "execution_count": 27,
   "metadata": {},
   "outputs": [],
   "source": [
    "home = 'C:/Users/ninap/.keras/datasets/'"
   ]
  },
  {
   "cell_type": "code",
   "execution_count": 45,
   "metadata": {},
   "outputs": [],
   "source": [
    "#use this by removing the hashtags, if you have to reset the lists: \n",
    "\n",
    "#data_paths.clear()\n",
    "#file_info.clear()"
   ]
  },
  {
   "cell_type": "markdown",
   "metadata": {},
   "source": [
    "Two lists are created:   \n",
    "`data_paths` stores the complete url to the dump file and `file_info` stores the file information.  \n",
    "The function now iterates through each file. If the path does not yet exist, the file is downloaded. \n",
    "If the file already exists at the location, only the file information is retrieved again. "
   ]
  },
  {
   "cell_type": "code",
   "execution_count": 20,
   "metadata": {},
   "outputs": [],
   "source": [
    "data_paths = []\n",
    "file_info = []\n",
    "\n",
    "for file in files_to_download:\n",
    "    path = home + file\n",
    "\n",
    "    if not os.path.exists(home + file):\n",
    "        print('Downloading')\n",
    "        data_paths.append(get_file(fname=file, origin = dump_url+file))\n",
    "        file_size = os.stat(path).st_size / 1e6\n",
    "\n",
    "        file_articles = int(file.split('p')[-1].split('.')[-2]) - int(file.split('p')[-2])\n",
    "        file_info.append((file, file_size, file_articles))\n",
    "        \n",
    "    else:\n",
    "        data_paths.append(path)\n",
    "        file_size = os.stat(path).st_size / 1e6\n",
    "        \n",
    "        file_number = int(file.split('p')[-1].split('.')[-2]) - int(file.split('p')[-2])\n",
    "        file_info.append((file.split('-')[-1], file_size, file_number))"
   ]
  },
  {
   "cell_type": "markdown",
   "metadata": {},
   "source": [
    "# Check Files"
   ]
  },
  {
   "cell_type": "code",
   "execution_count": 21,
   "metadata": {},
   "outputs": [
    {
     "name": "stdout",
     "output_type": "stream",
     "text": [
      "Number of downloaded Files:  54 \n",
      "\n",
      "First 5 Files: \n",
      " ['C:/Users/ninap/.keras/datasets/enwiki-20220201-pages-meta-history1.xml-p1p857.bz2', 'C:/Users/ninap/.keras/datasets/enwiki-20220201-pages-meta-history1.xml-p858p1649.bz2', 'C:/Users/ninap/.keras/datasets/enwiki-20220201-pages-meta-history1.xml-p1650p2403.bz2', 'C:/Users/ninap/.keras/datasets/enwiki-20220201-pages-meta-history1.xml-p2404p3385.bz2', 'C:/Users/ninap/.keras/datasets/enwiki-20220201-pages-meta-history1.xml-p3386p4156.bz2']\n"
     ]
    }
   ],
   "source": [
    "data_paths = []\n",
    "\n",
    "for file in files_to_download:\n",
    "    path = home + file\n",
    "    data_paths.append(path)\n",
    "\n",
    "print('Number of downloaded Files: ', len(data_paths), '\\n\\nFirst 5 Files: \\n', data_paths[:5])"
   ]
  },
  {
   "cell_type": "code",
   "execution_count": 145,
   "metadata": {},
   "outputs": [],
   "source": [
    "#data_paths.clear()\n",
    "#file_info.clear()"
   ]
  },
  {
   "cell_type": "markdown",
   "metadata": {},
   "source": [
    "An overview graphic of the file sizes can be created from the file information:"
   ]
  },
  {
   "cell_type": "code",
   "execution_count": 26,
   "metadata": {},
   "outputs": [
    {
     "name": "stdout",
     "output_type": "stream",
     "text": [
      "The total size of files on disk is 119.004913083 GB\n"
     ]
    },
    {
     "data": {
      "image/png": "[encoded data removed]",
      "text/plain": [
       "<Figure size 864x432 with 1 Axes>"
      ]
     },
     "metadata": {
      "needs_background": "light"
     },
     "output_type": "display_data"
    }
   ],
   "source": [
    "file_df = pd.DataFrame(file_info, columns = ['file', 'size (MB)', 'articles']).set_index('file')\n",
    "file_df['size (MB)'].plot.bar(color = 'red', figsize = (12, 6));\n",
    "print(f\"The total size of files on disk is {file_df['size (MB)'].sum() / 1e3} GB\")"
   ]
  },
  {
   "cell_type": "markdown",
   "metadata": {},
   "source": [
    "These files are then used to continue working on the project.    \n",
    "For the sake of simplicity, only the first dump file `p1p857.bz2` will be used for the next steps. "
   ]
  }
 ],
 "metadata": {
  "kernelspec": {
   "display_name": "Python 3",
   "name": "python3"
  },
  "language_info": {
   "codemirror_mode": {
    "name": "ipython",
    "version": 3
   },
   "file_extension": ".py",
   "mimetype": "text/x-python",
   "name": "python",
   "nbconvert_exporter": "python",
   "pygments_lexer": "ipython3",
   "version": "3.9.7"
  },
  "orig_nbformat": 2
 },
 "nbformat": 4,
 "nbformat_minor": 2
}
