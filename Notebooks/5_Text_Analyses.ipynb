{
 "cells": [
  {
   "cell_type": "markdown",
   "metadata": {},
   "source": [
    "# Text Analyses\n",
    "\n",
    "In the basic analysis, we were able to gain a basic overview of the data package.  \n",
    "With the following text analysis we want to compare how the history of the articles has affected the text. To do this, we compare the original version of the text (initial creation) with the most recently available version of the same article. "
   ]
  },
  {
   "cell_type": "code",
   "execution_count": null,
   "metadata": {},
   "outputs": [],
   "source": [
    "import numpy as np\n",
    "import pandas as pd\n",
    "import seaborn as sns\n",
    "import matplotlib.pyplot as plt\n",
    "%matplotlib inline\n",
    "from bs4 import BeautifulSoup\n",
    "import requests\n",
    "import datetime\n",
    "import re\n",
    "import urllib\n",
    "import shutil\n",
    "import matplotlib.image as mpimg\n",
    "import time\n",
    "import crawlerlib as cl\n",
    "import wikipedia\n",
    "import nltk\n",
    "nltk.download('punkt')\n",
    "nltk.download('averaged_perceptron_tagger')\n",
    "nltk.download('maxent_ne_chunker')\n",
    "nltk.download('words')\n",
    "import matplotlib as mpl"
   ]
  },
  {
   "cell_type": "markdown",
   "metadata": {},
   "source": [
    "### Preparation"
   ]
  },
  {
   "cell_type": "markdown",
   "metadata": {},
   "source": [
    "For our text analysis we have extended the crawlerlib with some functions: \n",
    "    getOldSoup: gets whole ur of the first version of a given wikipedia article with pagetitle\n",
    "    getRecentSoup: gets whole ur of the recent version of a given wikipedia article with pagetitle\n",
    "    getTextDF: gets original text and recent text of a given article\n",
    "    getVD: gets vocabularity density for a given text\n",
    "    getWPS: gets words per sentence for given text\n",
    "    getWPT: gets words per text for given text\n",
    "    tokenize: function to tokenize text\n",
    "    untokenize: function to untokenize text\n",
    "    equalize: funtion to equalize 2 texts\n",
    "    insert_newlines: function to visualize comparison of texts human-readable\n",
    "    show_comparison: tokenize, equalize and show comparison of texts"
   ]
  },
  {
   "cell_type": "markdown",
   "metadata": {},
   "source": [
    "**Original Wiki-URL**"
   ]
  },
  {
   "cell_type": "markdown",
   "metadata": {},
   "source": [
    "In this section, the function getOldSoup is used to get the link ot the first version of a wikipedia article."
   ]
  },
  {
   "cell_type": "code",
   "execution_count": 2,
   "metadata": {},
   "outputs": [],
   "source": [
    "def getOldSoup(wikititle):\n",
    "\tsoup = requests.get(\"https://en.wikipedia.org/w/index.php?title=\"+wikititle+\"&dir=prev&action=history\")\n",
    "\tsoup = BeautifulSoup(soup.content, 'html.parser')\n",
    "\tsoup = soup.findAll(\"a\", {\"class\": \"mw-changeslist-date\"})[0]['href']\n",
    "\treturn 'https://en.wikipedia.org/'+soup"
   ]
  },
  {
   "cell_type": "markdown",
   "metadata": {},
   "source": [
    "**Recent Wiki-URL**"
   ]
  },
  {
   "cell_type": "markdown",
   "metadata": {},
   "source": [
    "In this section, the function getRecentSoup is used to get the link ot the most recent version of a wikipedia article."
   ]
  },
  {
   "cell_type": "code",
   "execution_count": 3,
   "metadata": {},
   "outputs": [],
   "source": [
    "def getRecentSoup(wikititle):\n",
    "\twiki = 'https://en.wikipedia.org/wiki/'\n",
    "\trecent = wiki+wikititle\n",
    "\treturn recent"
   ]
  },
  {
   "cell_type": "markdown",
   "metadata": {},
   "source": [
    "**Wiki-Texts**"
   ]
  },
  {
   "cell_type": "markdown",
   "metadata": {},
   "source": [
    "In This section the Text of the original article and the most recent articel is saved into a dataframe. This is done in order to compare changes in vocubalarity density, Words per Sentence and Words per text between different versions of the same article."
   ]
  },
  {
   "cell_type": "code",
   "execution_count": 4,
   "metadata": {},
   "outputs": [],
   "source": [
    "def getTextDF(urlis):\n",
    "    textdf = pd.DataFrame(columns=['page_title', 'original', 'recent'])\n",
    "    for i in range(len(urlis)):\n",
    "        if str(getTextBody(urlis[i][0])).startswith('Redirect to'):\n",
    "            continue\n",
    "        else:\n",
    "            s1 = str(getTextBody(urlis[i][0]))\n",
    "            s2 = str(getTextBody(urlis[i][1]))\n",
    "            textdf = textdf.append({'page_title' : str.rsplit(urlis[i][1], '/', 1)[-1], 'original' : s1, 'recent' : s2}, ignore_index=True)\n",
    "    return textdf"
   ]
  },
  {
   "cell_type": "markdown",
   "metadata": {},
   "source": [
    "**Vocabulary Density**"
   ]
  },
  {
   "cell_type": "markdown",
   "metadata": {},
   "source": [
    "in this section, the vocabularity density of a given text is determined. For that, the number of unique words used in the text is divided by the total number of words in the text."
   ]
  },
  {
   "cell_type": "code",
   "execution_count": 5,
   "metadata": {},
   "outputs": [],
   "source": [
    "def getVD(text):\n",
    "  tokens = nltk.word_tokenize(text)\n",
    "  tagged = nltk.pos_tag(tokens)\n",
    "  nn = []\n",
    "  ok = 'NN' \n",
    "  for i in tagged:\n",
    "    if ok == i[1]:\n",
    "      nn.append(i[0])\n",
    "  nn1 = [re.sub('[^a-zA-Z0-9]+', '', _) for _ in nn]\n",
    "  nn2 = []\n",
    "  for i in nn1:\n",
    "    if len(i) > 2:\n",
    "      nn2.append(i)\n",
    "    else:\n",
    "      nn2.append('no text')\n",
    "  try:\n",
    "    VD = len(np.unique(nn2)) / len(nn2)\n",
    "  except ZeroDivisionError:\n",
    "    VD = 1\n",
    "  return VD"
   ]
  },
  {
   "cell_type": "markdown",
   "metadata": {},
   "source": [
    "**Words per Sentence**"
   ]
  },
  {
   "cell_type": "markdown",
   "metadata": {},
   "source": [
    "In this section, the number of words per sentence for a given text is determined. Therefore, a number of sentence ending characters are determined, and the sentences are divided into lists. From these sentences, the total number of words is calculated and then divided by the number of sentences."
   ]
  },
  {
   "cell_type": "code",
   "execution_count": 6,
   "metadata": {},
   "outputs": [],
   "source": [
    "def getWPS(text):\n",
    "  tokens = nltk.word_tokenize(text)\n",
    "  words = tokens\n",
    "  sentences = [[]]\n",
    "  ends = set(\".?!;:\")\n",
    "  for word in words:\n",
    "    if word in ends: \n",
    "      sentences.append([])\n",
    "    else: \n",
    "      sentences[-1].append(word)\n",
    "  if sentences[0]:\n",
    "    if not sentences[-1]: sentences.pop()\n",
    "    wps = sum(len(s) for s in sentences)/len(sentences)\n",
    "    #print(\"average words per sentence: \", wps)\n",
    "    return wps"
   ]
  },
  {
   "cell_type": "markdown",
   "metadata": {},
   "source": [
    "**Words per Text**"
   ]
  },
  {
   "cell_type": "markdown",
   "metadata": {},
   "source": [
    "In this section, the total number of words for a given sentence is determined. Therefore, the same function as above is taken, but is not divided by the number of sentences."
   ]
  },
  {
   "cell_type": "code",
   "execution_count": 7,
   "metadata": {},
   "outputs": [],
   "source": [
    "def getWPT(text):\n",
    "    tokens = nltk.word_tokenize(text)\n",
    "    words = tokens\n",
    "    sentences = [[]]\n",
    "    for word in words:\n",
    "        sentences.append([word])\n",
    "    wpt = len(sentences)\n",
    "    return wpt"
   ]
  },
  {
   "cell_type": "markdown",
   "metadata": {},
   "source": [
    "**Generating new DataFrame**"
   ]
  },
  {
   "cell_type": "code",
   "execution_count": 9,
   "metadata": {},
   "outputs": [
    {
     "data": {
      "text/html": [
       "<div>\n",
       "<style scoped>\n",
       "    .dataframe tbody tr th:only-of-type {\n",
       "        vertical-align: middle;\n",
       "    }\n",
       "\n",
       "    .dataframe tbody tr th {\n",
       "        vertical-align: top;\n",
       "    }\n",
       "\n",
       "    .dataframe thead th {\n",
       "        text-align: right;\n",
       "    }\n",
       "</style>\n",
       "<table border=\"1\" class=\"dataframe\">\n",
       "  <thead>\n",
       "    <tr style=\"text-align: right;\">\n",
       "      <th></th>\n",
       "      <th>page_id</th>\n",
       "      <th>page_title</th>\n",
       "      <th>revision_id</th>\n",
       "      <th>timestamp</th>\n",
       "      <th>comment</th>\n",
       "      <th>contributor_id</th>\n",
       "      <th>contributor_name</th>\n",
       "      <th>bytes</th>\n",
       "      <th>revtext</th>\n",
       "      <th>dates</th>\n",
       "      <th>times</th>\n",
       "      <th>revbytes</th>\n",
       "      <th>revperc</th>\n",
       "    </tr>\n",
       "  </thead>\n",
       "  <tbody>\n",
       "    <tr>\n",
       "      <th>0</th>\n",
       "      <td>10</td>\n",
       "      <td>AccessibleComputing</td>\n",
       "      <td>233192</td>\n",
       "      <td>2001-01-21 02:12:21</td>\n",
       "      <td>*</td>\n",
       "      <td>99</td>\n",
       "      <td>RoseParks</td>\n",
       "      <td>124</td>\n",
       "      <td>This subject covers* AssistiveTechnology* Acce...</td>\n",
       "      <td>2001-01-21</td>\n",
       "      <td>02:12:21</td>\n",
       "      <td>2848</td>\n",
       "      <td>4.353933</td>\n",
       "    </tr>\n",
       "    <tr>\n",
       "      <th>1</th>\n",
       "      <td>10</td>\n",
       "      <td>AccessibleComputing</td>\n",
       "      <td>862220</td>\n",
       "      <td>2002-02-25 15:43:11</td>\n",
       "      <td>Automated conversion</td>\n",
       "      <td>1226483</td>\n",
       "      <td>Conversion script</td>\n",
       "      <td>35</td>\n",
       "      <td>#REDIRECT [[Accessible Computing]]</td>\n",
       "      <td>2002-02-25</td>\n",
       "      <td>15:43:11</td>\n",
       "      <td>2848</td>\n",
       "      <td>1.228933</td>\n",
       "    </tr>\n",
       "    <tr>\n",
       "      <th>2</th>\n",
       "      <td>10</td>\n",
       "      <td>AccessibleComputing</td>\n",
       "      <td>15898945</td>\n",
       "      <td>2003-04-25 22:18:38</td>\n",
       "      <td>Fixing redirect</td>\n",
       "      <td>7543</td>\n",
       "      <td>Ams80</td>\n",
       "      <td>34</td>\n",
       "      <td>#REDIRECT [[Accessible_computing]]</td>\n",
       "      <td>2003-04-25</td>\n",
       "      <td>22:18:38</td>\n",
       "      <td>2848</td>\n",
       "      <td>1.193820</td>\n",
       "    </tr>\n",
       "    <tr>\n",
       "      <th>3</th>\n",
       "      <td>10</td>\n",
       "      <td>AccessibleComputing</td>\n",
       "      <td>56681914</td>\n",
       "      <td>2006-06-03 16:55:41</td>\n",
       "      <td>fix double redirect</td>\n",
       "      <td>516514</td>\n",
       "      <td>Nzd</td>\n",
       "      <td>36</td>\n",
       "      <td>#REDIRECT [[Computer accessibility]]</td>\n",
       "      <td>2006-06-03</td>\n",
       "      <td>16:55:41</td>\n",
       "      <td>2848</td>\n",
       "      <td>1.264045</td>\n",
       "    </tr>\n",
       "    <tr>\n",
       "      <th>4</th>\n",
       "      <td>10</td>\n",
       "      <td>AccessibleComputing</td>\n",
       "      <td>74466685</td>\n",
       "      <td>2006-09-08 04:16:04</td>\n",
       "      <td>cat rd</td>\n",
       "      <td>750223</td>\n",
       "      <td>Rory096</td>\n",
       "      <td>57</td>\n",
       "      <td>#REDIRECT [[Computer accessibility]] {{R from ...</td>\n",
       "      <td>2006-09-08</td>\n",
       "      <td>04:16:04</td>\n",
       "      <td>2848</td>\n",
       "      <td>2.001404</td>\n",
       "    </tr>\n",
       "  </tbody>\n",
       "</table>\n",
       "</div>"
      ],
      "text/plain": [
       "   page_id           page_title  revision_id            timestamp  \\\n",
       "0       10  AccessibleComputing       233192  2001-01-21 02:12:21   \n",
       "1       10  AccessibleComputing       862220  2002-02-25 15:43:11   \n",
       "2       10  AccessibleComputing     15898945  2003-04-25 22:18:38   \n",
       "3       10  AccessibleComputing     56681914  2006-06-03 16:55:41   \n",
       "4       10  AccessibleComputing     74466685  2006-09-08 04:16:04   \n",
       "\n",
       "                comment contributor_id   contributor_name  bytes  \\\n",
       "0                     *             99          RoseParks    124   \n",
       "1  Automated conversion        1226483  Conversion script     35   \n",
       "2       Fixing redirect           7543              Ams80     34   \n",
       "3   fix double redirect         516514                Nzd     36   \n",
       "4                cat rd         750223            Rory096     57   \n",
       "\n",
       "                                             revtext       dates     times  \\\n",
       "0  This subject covers* AssistiveTechnology* Acce...  2001-01-21  02:12:21   \n",
       "1                 #REDIRECT [[Accessible Computing]]  2002-02-25  15:43:11   \n",
       "2                 #REDIRECT [[Accessible_computing]]  2003-04-25  22:18:38   \n",
       "3               #REDIRECT [[Computer accessibility]]  2006-06-03  16:55:41   \n",
       "4  #REDIRECT [[Computer accessibility]] {{R from ...  2006-09-08  04:16:04   \n",
       "\n",
       "   revbytes   revperc  \n",
       "0      2848  4.353933  \n",
       "1      2848  1.228933  \n",
       "2      2848  1.193820  \n",
       "3      2848  1.264045  \n",
       "4      2848  2.001404  "
      ]
     },
     "execution_count": 9,
     "metadata": {},
     "output_type": "execute_result"
    }
   ],
   "source": [
    "df = pd.read_csv('p1p857.csv', index_col=0)\n",
    "df.head()"
   ]
  },
  {
   "cell_type": "markdown",
   "metadata": {},
   "source": [
    "Taking a look at the Page Titles"
   ]
  },
  {
   "cell_type": "code",
   "execution_count": 10,
   "metadata": {},
   "outputs": [
    {
     "data": {
      "text/plain": [
       "array(['AccessibleComputing', 'Anarchism', 'AfghanistanHistory',\n",
       "       'AfghanistanGeography', 'AfghanistanPeople',\n",
       "       'AfghanistanCommunications', 'AfghanistanTransportations',\n",
       "       'AfghanistanMilitary', 'AfghanistanTransnationalIssues',\n",
       "       'AssistiveTechnology', 'AmoeboidTaxa', 'Autism', 'AlbaniaHistory',\n",
       "       'AlbaniaPeople', 'AsWeMayThink', 'AlbaniaGovernment',\n",
       "       'AlbaniaEconomy', 'Albedo', 'AfroAsiaticLanguages',\n",
       "       'ArtificalLanguages', 'AbacuS', 'AbalonE', 'AbbadideS', 'AbbesS',\n",
       "       'AbbevilleFrance', 'AbbeY', 'AbboT', 'Abbreviations',\n",
       "       'AtlasShrugged', 'ArtificialLanguages', 'AtlasShruggedCharacters',\n",
       "       'AtlasShruggedCompanies', 'AyersMusicPublishingCompany',\n",
       "       'Talk:Atlas Shrugged', 'AfricanAmericanPeople', 'AdolfHitler',\n",
       "       'AbeceDarians', 'AbeL', 'AbensbergGermany', 'AberdeenSouthDakota',\n",
       "       'ArthurKoestler', 'AynRand', 'AlexanderTheGreat',\n",
       "       'AnchorageAlaska', 'ArgumentForms',\n",
       "       'ArgumentsForTheExistenceOfGod', 'AnarchY', 'AsciiArt',\n",
       "       'AcademyAwards', 'AcademyAwards/BestPicture', 'AustriaLanguage',\n",
       "       'AcademicElitism', 'AxiomOfChoice', 'AmericanFootball', 'AmericA',\n",
       "       'AnnaKournikova', 'AndorrA', 'AustroAsiaticLanguages', 'ActresseS',\n",
       "       'A', 'AnarchoCapitalism', 'AnarchoCapitalists',\n",
       "       'User:AnonymousCoward', 'ActressesS', 'AnAmericanInParis',\n",
       "       'AutoMorphism', 'ActionFilm', 'Alabama', 'AfricA', 'Achilles',\n",
       "       'AppliedStatistics', 'Abraham Lincoln', 'Aristotle',\n",
       "       'An American in Paris', 'Academy Award for Best Production Design',\n",
       "       'Academy Awards', 'Action Film', 'Actrius', 'Animalia (book)',\n",
       "       'International Atomic Time', 'Altruism', 'AutoRacing', 'Ayn Rand',\n",
       "       'Alain Connes', 'Allan Dwan', 'Algeria/People',\n",
       "       'Algeria/Transnational Issues', 'Talk:Algeria', 'Algeria',\n",
       "       'List of Atlas Shrugged characters',\n",
       "       'Topics of note in Atlas Shrugged', 'Anthropology',\n",
       "       'Agricultural science', 'Alchemy', 'Alien', 'Astronomer',\n",
       "       'Talk:Altruism/Archive 1', 'Ameboid stage', 'ASCII',\n",
       "       'Ashmore And Cartier Islands'], dtype=object)"
      ]
     },
     "execution_count": 10,
     "metadata": {},
     "output_type": "execute_result"
    }
   ],
   "source": [
    "titles = df['page_title'].unique()\n",
    "titles[:100]"
   ]
  },
  {
   "cell_type": "markdown",
   "metadata": {},
   "source": [
    "get URLs of original and recent textversion of every article in the df"
   ]
  },
  {
   "cell_type": "markdown",
   "metadata": {},
   "source": [
    "Here the URLS of both the original versions and the most recent versions for every article in our df are saved into separate lists. They will afterwards be stored as tuples in a list, where one tuple has both the original and recent URLS of an article. "
   ]
  },
  {
   "cell_type": "code",
   "execution_count": 11,
   "metadata": {},
   "outputs": [],
   "source": [
    "original = []\n",
    "recent = []\n",
    "\n",
    "for i in df['page_title'].unique():\n",
    "    original.append(getOldSoup(i))\n",
    "    recent.append(getRecentSoup(i))"
   ]
  },
  {
   "cell_type": "code",
   "execution_count": 12,
   "metadata": {},
   "outputs": [],
   "source": [
    "urlis = list(zip(original, recent))"
   ]
  },
  {
   "cell_type": "markdown",
   "metadata": {},
   "source": [
    "Now, a new dataframe is defined, with the title of every page, as well as both original and most recent texts."
   ]
  },
  {
   "cell_type": "code",
   "execution_count": 13,
   "metadata": {},
   "outputs": [],
   "source": [
    "textdf = cl.getTextDF(urlis)"
   ]
  },
  {
   "cell_type": "code",
   "execution_count": 14,
   "metadata": {},
   "outputs": [
    {
     "data": {
      "text/html": [
       "<div>\n",
       "<style scoped>\n",
       "    .dataframe tbody tr th:only-of-type {\n",
       "        vertical-align: middle;\n",
       "    }\n",
       "\n",
       "    .dataframe tbody tr th {\n",
       "        vertical-align: top;\n",
       "    }\n",
       "\n",
       "    .dataframe thead th {\n",
       "        text-align: right;\n",
       "    }\n",
       "</style>\n",
       "<table border=\"1\" class=\"dataframe\">\n",
       "  <thead>\n",
       "    <tr style=\"text-align: right;\">\n",
       "      <th></th>\n",
       "      <th>page_title</th>\n",
       "      <th>original</th>\n",
       "      <th>recent</th>\n",
       "    </tr>\n",
       "  </thead>\n",
       "  <tbody>\n",
       "    <tr>\n",
       "      <th>0</th>\n",
       "      <td>Anarchism</td>\n",
       "      <td>Anarchism is a name taken by various political...</td>\n",
       "      <td>For other uses,see Anarchism (disambiguation)....</td>\n",
       "    </tr>\n",
       "    <tr>\n",
       "      <th>1</th>\n",
       "      <td>Autism</td>\n",
       "      <td>Autism is a complex pervasive developmental di...</td>\n",
       "      <td>This article is about the classic autistic dis...</td>\n",
       "    </tr>\n",
       "    <tr>\n",
       "      <th>2</th>\n",
       "      <td>Albedo</td>\n",
       "      <td>In climatology,the albedo of a surface is the ...</td>\n",
       "      <td>For other uses,see Albedo (disambiguation).The...</td>\n",
       "    </tr>\n",
       "    <tr>\n",
       "      <th>3</th>\n",
       "      <td>Talk:Atlas Shrugged</td>\n",
       "      <td>Cleanup&amp;lt;/ 1 Cleanup2 Bias of 'Influences a...</td>\n",
       "      <td>class=ext-discussiontools-init-sectionExtern...</td>\n",
       "    </tr>\n",
       "    <tr>\n",
       "      <th>4</th>\n",
       "      <td>A</td>\n",
       "      <td>The letter A is the first letter in the Roman ...</td>\n",
       "      <td>This article is about the Roman letter.For oth...</td>\n",
       "    </tr>\n",
       "  </tbody>\n",
       "</table>\n",
       "</div>"
      ],
      "text/plain": [
       "            page_title                                           original  \\\n",
       "0            Anarchism  Anarchism is a name taken by various political...   \n",
       "1               Autism  Autism is a complex pervasive developmental di...   \n",
       "2               Albedo  In climatology,the albedo of a surface is the ...   \n",
       "3  Talk:Atlas Shrugged   Cleanup&lt;/ 1 Cleanup2 Bias of 'Influences a...   \n",
       "4                    A  The letter A is the first letter in the Roman ...   \n",
       "\n",
       "                                              recent  \n",
       "0  For other uses,see Anarchism (disambiguation)....  \n",
       "1  This article is about the classic autistic dis...  \n",
       "2  For other uses,see Albedo (disambiguation).The...  \n",
       "3    class=ext-discussiontools-init-sectionExtern...  \n",
       "4  This article is about the Roman letter.For oth...  "
      ]
     },
     "execution_count": 14,
     "metadata": {},
     "output_type": "execute_result"
    }
   ],
   "source": [
    "textdf.head()"
   ]
  },
  {
   "cell_type": "markdown",
   "metadata": {},
   "source": [
    "Afterwards all Page titles containing the strings \"talk\" or \"user are removed. Those are discussion pages and not actual articles. Also, all Pages with the name \"disambiguation\" are removed, because those pages just reference other pages, and don't contain actual information."
   ]
  },
  {
   "cell_type": "code",
   "execution_count": 15,
   "metadata": {},
   "outputs": [],
   "source": [
    "filter = (~textdf['page_title'].str.contains('^Talk:')) & (~textdf['page_title'].str.contains('^User:')) & (~textdf['page_title'].str.contains('disambiguation'))"
   ]
  },
  {
   "cell_type": "code",
   "execution_count": 16,
   "metadata": {},
   "outputs": [
    {
     "data": {
      "text/html": [
       "<div>\n",
       "<style scoped>\n",
       "    .dataframe tbody tr th:only-of-type {\n",
       "        vertical-align: middle;\n",
       "    }\n",
       "\n",
       "    .dataframe tbody tr th {\n",
       "        vertical-align: top;\n",
       "    }\n",
       "\n",
       "    .dataframe thead th {\n",
       "        text-align: right;\n",
       "    }\n",
       "</style>\n",
       "<table border=\"1\" class=\"dataframe\">\n",
       "  <thead>\n",
       "    <tr style=\"text-align: right;\">\n",
       "      <th></th>\n",
       "      <th>page_title</th>\n",
       "      <th>original</th>\n",
       "      <th>recent</th>\n",
       "    </tr>\n",
       "  </thead>\n",
       "  <tbody>\n",
       "    <tr>\n",
       "      <th>0</th>\n",
       "      <td>Anarchism</td>\n",
       "      <td>Anarchism is a name taken by various political...</td>\n",
       "      <td>For other uses,see Anarchism (disambiguation)....</td>\n",
       "    </tr>\n",
       "    <tr>\n",
       "      <th>1</th>\n",
       "      <td>Autism</td>\n",
       "      <td>Autism is a complex pervasive developmental di...</td>\n",
       "      <td>This article is about the classic autistic dis...</td>\n",
       "    </tr>\n",
       "    <tr>\n",
       "      <th>2</th>\n",
       "      <td>Albedo</td>\n",
       "      <td>In climatology,the albedo of a surface is the ...</td>\n",
       "      <td>For other uses,see Albedo (disambiguation).The...</td>\n",
       "    </tr>\n",
       "    <tr>\n",
       "      <th>4</th>\n",
       "      <td>A</td>\n",
       "      <td>The letter A is the first letter in the Roman ...</td>\n",
       "      <td>This article is about the Roman letter.For oth...</td>\n",
       "    </tr>\n",
       "    <tr>\n",
       "      <th>6</th>\n",
       "      <td>Alabama</td>\n",
       "      <td>Alternate meanings: See Alabama (disambiguatio...</td>\n",
       "      <td>This article is about the U.S.state.For the ri...</td>\n",
       "    </tr>\n",
       "  </tbody>\n",
       "</table>\n",
       "</div>"
      ],
      "text/plain": [
       "  page_title                                           original  \\\n",
       "0  Anarchism  Anarchism is a name taken by various political...   \n",
       "1     Autism  Autism is a complex pervasive developmental di...   \n",
       "2     Albedo  In climatology,the albedo of a surface is the ...   \n",
       "4          A  The letter A is the first letter in the Roman ...   \n",
       "6    Alabama  Alternate meanings: See Alabama (disambiguatio...   \n",
       "\n",
       "                                              recent  \n",
       "0  For other uses,see Anarchism (disambiguation)....  \n",
       "1  This article is about the classic autistic dis...  \n",
       "2  For other uses,see Albedo (disambiguation).The...  \n",
       "4  This article is about the Roman letter.For oth...  \n",
       "6  This article is about the U.S.state.For the ri...  "
      ]
     },
     "execution_count": 16,
     "metadata": {},
     "output_type": "execute_result"
    }
   ],
   "source": [
    "textdf1 = textdf[filter]\n",
    "textdf1.head()"
   ]
  },
  {
   "cell_type": "markdown",
   "metadata": {},
   "source": [
    "Then, the list is checked if all \"old\" entries are removed (written without space) and how many different pages are still left in the dataframe."
   ]
  },
  {
   "cell_type": "code",
   "execution_count": 17,
   "metadata": {},
   "outputs": [
    {
     "name": "stdout",
     "output_type": "stream",
     "text": [
      "entries:  160 \n",
      " ['Anarchism' 'Autism' 'Albedo' 'A' 'Alabama' 'Achilles' 'Abraham Lincoln'\n",
      " 'Aristotle' 'An American in Paris'\n",
      " 'Academy Award for Best Production Design'] ...\n"
     ]
    }
   ],
   "source": [
    "print( 'entries: ', len(textdf['page_title']), '\\n', textdf1['page_title'].unique()[:10], '...')"
   ]
  },
  {
   "cell_type": "markdown",
   "metadata": {},
   "source": [
    "create new columns with VD of old entries and VD of recent entries"
   ]
  },
  {
   "cell_type": "markdown",
   "metadata": {},
   "source": [
    "Now a couple of columns are added to the dataframe: first of all, new columns in the dataframe are created, which will provide Vocabularity Density for both versions of all articles. But before that can be done, two lists with vocabularity densities for every article are filled with values for either the first or the most recent article, before they are appended to the dataframe."
   ]
  },
  {
   "cell_type": "code",
   "execution_count": 18,
   "metadata": {},
   "outputs": [],
   "source": [
    "originalVD = []\n",
    "\n",
    "for i in textdf1['original']:\n",
    "    originalVD.append(getVD(i))"
   ]
  },
  {
   "cell_type": "code",
   "execution_count": 19,
   "metadata": {},
   "outputs": [],
   "source": [
    "recentVD = []\n",
    "\n",
    "for i in textdf1['recent']:\n",
    "    recentVD.append(getVD(i))"
   ]
  },
  {
   "cell_type": "code",
   "execution_count": 20,
   "metadata": {},
   "outputs": [
    {
     "data": {
      "text/plain": [
       "[(0.6679389312977099, 0.4892550143266476),\n",
       " (0.3984375, 0.4991896272285251),\n",
       " (0.5688888888888889, 0.4405940594059406),\n",
       " (0.5380710659898477, 0.47191011235955055),\n",
       " (0.6388888888888888, 0.4564404061998931),\n",
       " (0.6948051948051948, 0.5503626107977437),\n",
       " (0.4174454828660436, 0.5529847292919945),\n",
       " (0.6317135549872123, 0.4977416440831075),\n",
       " (0.9090909090909091, 0.6476868327402135),\n",
       " (0.8488372093023255, 0.8636363636363636)]"
      ]
     },
     "execution_count": 20,
     "metadata": {},
     "output_type": "execute_result"
    }
   ],
   "source": [
    "VDs = list(zip(originalVD, recentVD))\n",
    "VDs[:10]"
   ]
  },
  {
   "cell_type": "code",
   "execution_count": 21,
   "metadata": {},
   "outputs": [
    {
     "name": "stderr",
     "output_type": "stream",
     "text": [
      "<ipython-input-21-a67e8c74a7c3>:1: SettingWithCopyWarning: \n",
      "A value is trying to be set on a copy of a slice from a DataFrame.\n",
      "Try using .loc[row_indexer,col_indexer] = value instead\n",
      "\n",
      "See the caveats in the documentation: https://pandas.pydata.org/pandas-docs/stable/user_guide/indexing.html#returning-a-view-versus-a-copy\n",
      "  textdf1['originalVD'] = originalVD\n"
     ]
    }
   ],
   "source": [
    "textdf1['originalVD'] = originalVD"
   ]
  },
  {
   "cell_type": "code",
   "execution_count": 22,
   "metadata": {},
   "outputs": [
    {
     "name": "stderr",
     "output_type": "stream",
     "text": [
      "<ipython-input-22-ca01994fcacd>:1: SettingWithCopyWarning: \n",
      "A value is trying to be set on a copy of a slice from a DataFrame.\n",
      "Try using .loc[row_indexer,col_indexer] = value instead\n",
      "\n",
      "See the caveats in the documentation: https://pandas.pydata.org/pandas-docs/stable/user_guide/indexing.html#returning-a-view-versus-a-copy\n",
      "  textdf1['recentVD'] = recentVD\n"
     ]
    }
   ],
   "source": [
    "textdf1['recentVD'] = recentVD"
   ]
  },
  {
   "cell_type": "code",
   "execution_count": 23,
   "metadata": {},
   "outputs": [
    {
     "data": {
      "text/html": [
       "<div>\n",
       "<style scoped>\n",
       "    .dataframe tbody tr th:only-of-type {\n",
       "        vertical-align: middle;\n",
       "    }\n",
       "\n",
       "    .dataframe tbody tr th {\n",
       "        vertical-align: top;\n",
       "    }\n",
       "\n",
       "    .dataframe thead th {\n",
       "        text-align: right;\n",
       "    }\n",
       "</style>\n",
       "<table border=\"1\" class=\"dataframe\">\n",
       "  <thead>\n",
       "    <tr style=\"text-align: right;\">\n",
       "      <th></th>\n",
       "      <th>page_title</th>\n",
       "      <th>original</th>\n",
       "      <th>recent</th>\n",
       "      <th>originalVD</th>\n",
       "      <th>recentVD</th>\n",
       "    </tr>\n",
       "  </thead>\n",
       "  <tbody>\n",
       "    <tr>\n",
       "      <th>0</th>\n",
       "      <td>Anarchism</td>\n",
       "      <td>Anarchism is a name taken by various political...</td>\n",
       "      <td>For other uses,see Anarchism (disambiguation)....</td>\n",
       "      <td>0.667939</td>\n",
       "      <td>0.489255</td>\n",
       "    </tr>\n",
       "    <tr>\n",
       "      <th>1</th>\n",
       "      <td>Autism</td>\n",
       "      <td>Autism is a complex pervasive developmental di...</td>\n",
       "      <td>This article is about the classic autistic dis...</td>\n",
       "      <td>0.398438</td>\n",
       "      <td>0.499190</td>\n",
       "    </tr>\n",
       "    <tr>\n",
       "      <th>2</th>\n",
       "      <td>Albedo</td>\n",
       "      <td>In climatology,the albedo of a surface is the ...</td>\n",
       "      <td>For other uses,see Albedo (disambiguation).The...</td>\n",
       "      <td>0.568889</td>\n",
       "      <td>0.440594</td>\n",
       "    </tr>\n",
       "    <tr>\n",
       "      <th>4</th>\n",
       "      <td>A</td>\n",
       "      <td>The letter A is the first letter in the Roman ...</td>\n",
       "      <td>This article is about the Roman letter.For oth...</td>\n",
       "      <td>0.538071</td>\n",
       "      <td>0.471910</td>\n",
       "    </tr>\n",
       "    <tr>\n",
       "      <th>6</th>\n",
       "      <td>Alabama</td>\n",
       "      <td>Alternate meanings: See Alabama (disambiguatio...</td>\n",
       "      <td>This article is about the U.S.state.For the ri...</td>\n",
       "      <td>0.638889</td>\n",
       "      <td>0.456440</td>\n",
       "    </tr>\n",
       "  </tbody>\n",
       "</table>\n",
       "</div>"
      ],
      "text/plain": [
       "  page_title                                           original  \\\n",
       "0  Anarchism  Anarchism is a name taken by various political...   \n",
       "1     Autism  Autism is a complex pervasive developmental di...   \n",
       "2     Albedo  In climatology,the albedo of a surface is the ...   \n",
       "4          A  The letter A is the first letter in the Roman ...   \n",
       "6    Alabama  Alternate meanings: See Alabama (disambiguatio...   \n",
       "\n",
       "                                              recent  originalVD  recentVD  \n",
       "0  For other uses,see Anarchism (disambiguation)....    0.667939  0.489255  \n",
       "1  This article is about the classic autistic dis...    0.398438  0.499190  \n",
       "2  For other uses,see Albedo (disambiguation).The...    0.568889  0.440594  \n",
       "4  This article is about the Roman letter.For oth...    0.538071  0.471910  \n",
       "6  This article is about the U.S.state.For the ri...    0.638889  0.456440  "
      ]
     },
     "execution_count": 23,
     "metadata": {},
     "output_type": "execute_result"
    }
   ],
   "source": [
    "textdf1.head()"
   ]
  },
  {
   "cell_type": "markdown",
   "metadata": {},
   "source": [
    "Second of all, columns for Words per Text for each version of each article are appended. They are also stored in lists, before they are passed onto the Dataframe."
   ]
  },
  {
   "cell_type": "code",
   "execution_count": 24,
   "metadata": {},
   "outputs": [],
   "source": [
    "originalWPT = []\n",
    "\n",
    "for i in textdf1['original']:\n",
    "    originalWPT.append(getWPT(i))"
   ]
  },
  {
   "cell_type": "code",
   "execution_count": 25,
   "metadata": {},
   "outputs": [],
   "source": [
    "recentWPT = []\n",
    "\n",
    "for i in textdf1['recent']:\n",
    "    recentWPT.append(getWPT(i))"
   ]
  },
  {
   "cell_type": "code",
   "execution_count": 26,
   "metadata": {},
   "outputs": [
    {
     "name": "stderr",
     "output_type": "stream",
     "text": [
      "<ipython-input-26-b8b74676b60a>:1: SettingWithCopyWarning: \n",
      "A value is trying to be set on a copy of a slice from a DataFrame.\n",
      "Try using .loc[row_indexer,col_indexer] = value instead\n",
      "\n",
      "See the caveats in the documentation: https://pandas.pydata.org/pandas-docs/stable/user_guide/indexing.html#returning-a-view-versus-a-copy\n",
      "  textdf1['originalWPT'] = originalWPT\n",
      "<ipython-input-26-b8b74676b60a>:2: SettingWithCopyWarning: \n",
      "A value is trying to be set on a copy of a slice from a DataFrame.\n",
      "Try using .loc[row_indexer,col_indexer] = value instead\n",
      "\n",
      "See the caveats in the documentation: https://pandas.pydata.org/pandas-docs/stable/user_guide/indexing.html#returning-a-view-versus-a-copy\n",
      "  textdf1['recentWPT'] = recentWPT\n"
     ]
    }
   ],
   "source": [
    "textdf1['originalWPT'] = originalWPT\n",
    "textdf1['recentWPT'] = recentWPT"
   ]
  },
  {
   "cell_type": "code",
   "execution_count": 27,
   "metadata": {},
   "outputs": [
    {
     "data": {
      "text/html": [
       "<div>\n",
       "<style scoped>\n",
       "    .dataframe tbody tr th:only-of-type {\n",
       "        vertical-align: middle;\n",
       "    }\n",
       "\n",
       "    .dataframe tbody tr th {\n",
       "        vertical-align: top;\n",
       "    }\n",
       "\n",
       "    .dataframe thead th {\n",
       "        text-align: right;\n",
       "    }\n",
       "</style>\n",
       "<table border=\"1\" class=\"dataframe\">\n",
       "  <thead>\n",
       "    <tr style=\"text-align: right;\">\n",
       "      <th></th>\n",
       "      <th>page_title</th>\n",
       "      <th>original</th>\n",
       "      <th>recent</th>\n",
       "      <th>originalVD</th>\n",
       "      <th>recentVD</th>\n",
       "      <th>originalWPT</th>\n",
       "      <th>recentWPT</th>\n",
       "    </tr>\n",
       "  </thead>\n",
       "  <tbody>\n",
       "    <tr>\n",
       "      <th>0</th>\n",
       "      <td>Anarchism</td>\n",
       "      <td>Anarchism is a name taken by various political...</td>\n",
       "      <td>For other uses,see Anarchism (disambiguation)....</td>\n",
       "      <td>0.667939</td>\n",
       "      <td>0.489255</td>\n",
       "      <td>1733</td>\n",
       "      <td>10518</td>\n",
       "    </tr>\n",
       "    <tr>\n",
       "      <th>1</th>\n",
       "      <td>Autism</td>\n",
       "      <td>Autism is a complex pervasive developmental di...</td>\n",
       "      <td>This article is about the classic autistic dis...</td>\n",
       "      <td>0.398438</td>\n",
       "      <td>0.499190</td>\n",
       "      <td>857</td>\n",
       "      <td>7320</td>\n",
       "    </tr>\n",
       "    <tr>\n",
       "      <th>2</th>\n",
       "      <td>Albedo</td>\n",
       "      <td>In climatology,the albedo of a surface is the ...</td>\n",
       "      <td>For other uses,see Albedo (disambiguation).The...</td>\n",
       "      <td>0.568889</td>\n",
       "      <td>0.440594</td>\n",
       "      <td>1426</td>\n",
       "      <td>4152</td>\n",
       "    </tr>\n",
       "    <tr>\n",
       "      <th>4</th>\n",
       "      <td>A</td>\n",
       "      <td>The letter A is the first letter in the Roman ...</td>\n",
       "      <td>This article is about the Roman letter.For oth...</td>\n",
       "      <td>0.538071</td>\n",
       "      <td>0.471910</td>\n",
       "      <td>1527</td>\n",
       "      <td>2386</td>\n",
       "    </tr>\n",
       "    <tr>\n",
       "      <th>6</th>\n",
       "      <td>Alabama</td>\n",
       "      <td>Alternate meanings: See Alabama (disambiguatio...</td>\n",
       "      <td>This article is about the U.S.state.For the ri...</td>\n",
       "      <td>0.638889</td>\n",
       "      <td>0.456440</td>\n",
       "      <td>491</td>\n",
       "      <td>13683</td>\n",
       "    </tr>\n",
       "  </tbody>\n",
       "</table>\n",
       "</div>"
      ],
      "text/plain": [
       "  page_title                                           original  \\\n",
       "0  Anarchism  Anarchism is a name taken by various political...   \n",
       "1     Autism  Autism is a complex pervasive developmental di...   \n",
       "2     Albedo  In climatology,the albedo of a surface is the ...   \n",
       "4          A  The letter A is the first letter in the Roman ...   \n",
       "6    Alabama  Alternate meanings: See Alabama (disambiguatio...   \n",
       "\n",
       "                                              recent  originalVD  recentVD  \\\n",
       "0  For other uses,see Anarchism (disambiguation)....    0.667939  0.489255   \n",
       "1  This article is about the classic autistic dis...    0.398438  0.499190   \n",
       "2  For other uses,see Albedo (disambiguation).The...    0.568889  0.440594   \n",
       "4  This article is about the Roman letter.For oth...    0.538071  0.471910   \n",
       "6  This article is about the U.S.state.For the ri...    0.638889  0.456440   \n",
       "\n",
       "   originalWPT  recentWPT  \n",
       "0         1733      10518  \n",
       "1          857       7320  \n",
       "2         1426       4152  \n",
       "4         1527       2386  \n",
       "6          491      13683  "
      ]
     },
     "execution_count": 27,
     "metadata": {},
     "output_type": "execute_result"
    }
   ],
   "source": [
    "textdf1.head()"
   ]
  },
  {
   "cell_type": "markdown",
   "metadata": {},
   "source": [
    "Thereafter, two new columns in the Dataframe are created, which will store the Numbers for each versions Words ber sentence."
   ]
  },
  {
   "cell_type": "code",
   "execution_count": 28,
   "metadata": {},
   "outputs": [],
   "source": [
    "originalWPS = []\n",
    "\n",
    "for i in textdf1['original']:\n",
    "    originalWPS.append(getWPS(i))"
   ]
  },
  {
   "cell_type": "code",
   "execution_count": 29,
   "metadata": {},
   "outputs": [],
   "source": [
    "recentWPS = []\n",
    "\n",
    "for i in textdf1['recent']:\n",
    "    recentWPS.append(getWPS(i))"
   ]
  },
  {
   "cell_type": "code",
   "execution_count": 30,
   "metadata": {},
   "outputs": [
    {
     "name": "stderr",
     "output_type": "stream",
     "text": [
      "<ipython-input-30-55e95f3d2836>:1: SettingWithCopyWarning: \n",
      "A value is trying to be set on a copy of a slice from a DataFrame.\n",
      "Try using .loc[row_indexer,col_indexer] = value instead\n",
      "\n",
      "See the caveats in the documentation: https://pandas.pydata.org/pandas-docs/stable/user_guide/indexing.html#returning-a-view-versus-a-copy\n",
      "  textdf1['originalWPS'] = originalWPS\n",
      "<ipython-input-30-55e95f3d2836>:2: SettingWithCopyWarning: \n",
      "A value is trying to be set on a copy of a slice from a DataFrame.\n",
      "Try using .loc[row_indexer,col_indexer] = value instead\n",
      "\n",
      "See the caveats in the documentation: https://pandas.pydata.org/pandas-docs/stable/user_guide/indexing.html#returning-a-view-versus-a-copy\n",
      "  textdf1['recentWPS'] = recentWPS\n"
     ]
    }
   ],
   "source": [
    "textdf1['originalWPS'] = originalWPS\n",
    "textdf1['recentWPS'] = recentWPS"
   ]
  },
  {
   "cell_type": "code",
   "execution_count": 31,
   "metadata": {},
   "outputs": [
    {
     "data": {
      "text/html": [
       "<div>\n",
       "<style scoped>\n",
       "    .dataframe tbody tr th:only-of-type {\n",
       "        vertical-align: middle;\n",
       "    }\n",
       "\n",
       "    .dataframe tbody tr th {\n",
       "        vertical-align: top;\n",
       "    }\n",
       "\n",
       "    .dataframe thead th {\n",
       "        text-align: right;\n",
       "    }\n",
       "</style>\n",
       "<table border=\"1\" class=\"dataframe\">\n",
       "  <thead>\n",
       "    <tr style=\"text-align: right;\">\n",
       "      <th></th>\n",
       "      <th>page_title</th>\n",
       "      <th>original</th>\n",
       "      <th>recent</th>\n",
       "      <th>originalVD</th>\n",
       "      <th>recentVD</th>\n",
       "      <th>originalWPT</th>\n",
       "      <th>recentWPT</th>\n",
       "      <th>originalWPS</th>\n",
       "      <th>recentWPS</th>\n",
       "    </tr>\n",
       "  </thead>\n",
       "  <tbody>\n",
       "    <tr>\n",
       "      <th>0</th>\n",
       "      <td>Anarchism</td>\n",
       "      <td>Anarchism is a name taken by various political...</td>\n",
       "      <td>For other uses,see Anarchism (disambiguation)....</td>\n",
       "      <td>0.667939</td>\n",
       "      <td>0.489255</td>\n",
       "      <td>1733</td>\n",
       "      <td>10518</td>\n",
       "      <td>32.326923</td>\n",
       "      <td>25.161692</td>\n",
       "    </tr>\n",
       "    <tr>\n",
       "      <th>1</th>\n",
       "      <td>Autism</td>\n",
       "      <td>Autism is a complex pervasive developmental di...</td>\n",
       "      <td>This article is about the classic autistic dis...</td>\n",
       "      <td>0.398438</td>\n",
       "      <td>0.499190</td>\n",
       "      <td>857</td>\n",
       "      <td>7320</td>\n",
       "      <td>25.781250</td>\n",
       "      <td>84.116279</td>\n",
       "    </tr>\n",
       "    <tr>\n",
       "      <th>2</th>\n",
       "      <td>Albedo</td>\n",
       "      <td>In climatology,the albedo of a surface is the ...</td>\n",
       "      <td>For other uses,see Albedo (disambiguation).The...</td>\n",
       "      <td>0.568889</td>\n",
       "      <td>0.440594</td>\n",
       "      <td>1426</td>\n",
       "      <td>4152</td>\n",
       "      <td>51.777778</td>\n",
       "      <td>152.777778</td>\n",
       "    </tr>\n",
       "    <tr>\n",
       "      <th>4</th>\n",
       "      <td>A</td>\n",
       "      <td>The letter A is the first letter in the Roman ...</td>\n",
       "      <td>This article is about the Roman letter.For oth...</td>\n",
       "      <td>0.538071</td>\n",
       "      <td>0.471910</td>\n",
       "      <td>1527</td>\n",
       "      <td>2386</td>\n",
       "      <td>33.681818</td>\n",
       "      <td>25.208791</td>\n",
       "    </tr>\n",
       "    <tr>\n",
       "      <th>6</th>\n",
       "      <td>Alabama</td>\n",
       "      <td>Alternate meanings: See Alabama (disambiguatio...</td>\n",
       "      <td>This article is about the U.S.state.For the ri...</td>\n",
       "      <td>0.638889</td>\n",
       "      <td>0.456440</td>\n",
       "      <td>491</td>\n",
       "      <td>13683</td>\n",
       "      <td>13.441176</td>\n",
       "      <td>93.358621</td>\n",
       "    </tr>\n",
       "  </tbody>\n",
       "</table>\n",
       "</div>"
      ],
      "text/plain": [
       "  page_title                                           original  \\\n",
       "0  Anarchism  Anarchism is a name taken by various political...   \n",
       "1     Autism  Autism is a complex pervasive developmental di...   \n",
       "2     Albedo  In climatology,the albedo of a surface is the ...   \n",
       "4          A  The letter A is the first letter in the Roman ...   \n",
       "6    Alabama  Alternate meanings: See Alabama (disambiguatio...   \n",
       "\n",
       "                                              recent  originalVD  recentVD  \\\n",
       "0  For other uses,see Anarchism (disambiguation)....    0.667939  0.489255   \n",
       "1  This article is about the classic autistic dis...    0.398438  0.499190   \n",
       "2  For other uses,see Albedo (disambiguation).The...    0.568889  0.440594   \n",
       "4  This article is about the Roman letter.For oth...    0.538071  0.471910   \n",
       "6  This article is about the U.S.state.For the ri...    0.638889  0.456440   \n",
       "\n",
       "   originalWPT  recentWPT  originalWPS   recentWPS  \n",
       "0         1733      10518    32.326923   25.161692  \n",
       "1          857       7320    25.781250   84.116279  \n",
       "2         1426       4152    51.777778  152.777778  \n",
       "4         1527       2386    33.681818   25.208791  \n",
       "6          491      13683    13.441176   93.358621  "
      ]
     },
     "execution_count": 31,
     "metadata": {},
     "output_type": "execute_result"
    }
   ],
   "source": [
    "textdf1.head()"
   ]
  },
  {
   "cell_type": "markdown",
   "metadata": {},
   "source": [
    "Next are the total number of revisions per Wikipedia article. These values will be stored in a single column, and will later be used to analyse the article."
   ]
  },
  {
   "cell_type": "code",
   "execution_count": 32,
   "metadata": {},
   "outputs": [
    {
     "data": {
      "text/html": [
       "<div>\n",
       "<style scoped>\n",
       "    .dataframe tbody tr th:only-of-type {\n",
       "        vertical-align: middle;\n",
       "    }\n",
       "\n",
       "    .dataframe tbody tr th {\n",
       "        vertical-align: top;\n",
       "    }\n",
       "\n",
       "    .dataframe thead th {\n",
       "        text-align: right;\n",
       "    }\n",
       "</style>\n",
       "<table border=\"1\" class=\"dataframe\">\n",
       "  <thead>\n",
       "    <tr style=\"text-align: right;\">\n",
       "      <th></th>\n",
       "      <th>page_title</th>\n",
       "      <th>original</th>\n",
       "      <th>recent</th>\n",
       "      <th>originalVD</th>\n",
       "      <th>recentVD</th>\n",
       "      <th>originalWPT</th>\n",
       "      <th>recentWPT</th>\n",
       "      <th>originalWPS</th>\n",
       "      <th>recentWPS</th>\n",
       "      <th>revision_id</th>\n",
       "    </tr>\n",
       "  </thead>\n",
       "  <tbody>\n",
       "    <tr>\n",
       "      <th>0</th>\n",
       "      <td>Anarchism</td>\n",
       "      <td>Anarchism is a name taken by various political...</td>\n",
       "      <td>For other uses,see Anarchism (disambiguation)....</td>\n",
       "      <td>0.667939</td>\n",
       "      <td>0.489255</td>\n",
       "      <td>1733</td>\n",
       "      <td>10518</td>\n",
       "      <td>32.326923</td>\n",
       "      <td>25.161692</td>\n",
       "      <td>19961.0</td>\n",
       "    </tr>\n",
       "    <tr>\n",
       "      <th>1</th>\n",
       "      <td>Autism</td>\n",
       "      <td>Autism is a complex pervasive developmental di...</td>\n",
       "      <td>This article is about the classic autistic dis...</td>\n",
       "      <td>0.398438</td>\n",
       "      <td>0.499190</td>\n",
       "      <td>857</td>\n",
       "      <td>7320</td>\n",
       "      <td>25.781250</td>\n",
       "      <td>84.116279</td>\n",
       "      <td>10646.0</td>\n",
       "    </tr>\n",
       "    <tr>\n",
       "      <th>2</th>\n",
       "      <td>Albedo</td>\n",
       "      <td>In climatology,the albedo of a surface is the ...</td>\n",
       "      <td>For other uses,see Albedo (disambiguation).The...</td>\n",
       "      <td>0.568889</td>\n",
       "      <td>0.440594</td>\n",
       "      <td>1426</td>\n",
       "      <td>4152</td>\n",
       "      <td>51.777778</td>\n",
       "      <td>152.777778</td>\n",
       "      <td>1253.0</td>\n",
       "    </tr>\n",
       "    <tr>\n",
       "      <th>3</th>\n",
       "      <td>A</td>\n",
       "      <td>The letter A is the first letter in the Roman ...</td>\n",
       "      <td>This article is about the Roman letter.For oth...</td>\n",
       "      <td>0.538071</td>\n",
       "      <td>0.471910</td>\n",
       "      <td>1527</td>\n",
       "      <td>2386</td>\n",
       "      <td>33.681818</td>\n",
       "      <td>25.208791</td>\n",
       "      <td>4802.0</td>\n",
       "    </tr>\n",
       "    <tr>\n",
       "      <th>4</th>\n",
       "      <td>Alabama</td>\n",
       "      <td>Alternate meanings: See Alabama (disambiguatio...</td>\n",
       "      <td>This article is about the U.S.state.For the ri...</td>\n",
       "      <td>0.638889</td>\n",
       "      <td>0.456440</td>\n",
       "      <td>491</td>\n",
       "      <td>13683</td>\n",
       "      <td>13.441176</td>\n",
       "      <td>93.358621</td>\n",
       "      <td>10202.0</td>\n",
       "    </tr>\n",
       "  </tbody>\n",
       "</table>\n",
       "</div>"
      ],
      "text/plain": [
       "  page_title                                           original  \\\n",
       "0  Anarchism  Anarchism is a name taken by various political...   \n",
       "1     Autism  Autism is a complex pervasive developmental di...   \n",
       "2     Albedo  In climatology,the albedo of a surface is the ...   \n",
       "3          A  The letter A is the first letter in the Roman ...   \n",
       "4    Alabama  Alternate meanings: See Alabama (disambiguatio...   \n",
       "\n",
       "                                              recent  originalVD  recentVD  \\\n",
       "0  For other uses,see Anarchism (disambiguation)....    0.667939  0.489255   \n",
       "1  This article is about the classic autistic dis...    0.398438  0.499190   \n",
       "2  For other uses,see Albedo (disambiguation).The...    0.568889  0.440594   \n",
       "3  This article is about the Roman letter.For oth...    0.538071  0.471910   \n",
       "4  This article is about the U.S.state.For the ri...    0.638889  0.456440   \n",
       "\n",
       "   originalWPT  recentWPT  originalWPS   recentWPS  revision_id  \n",
       "0         1733      10518    32.326923   25.161692      19961.0  \n",
       "1          857       7320    25.781250   84.116279      10646.0  \n",
       "2         1426       4152    51.777778  152.777778       1253.0  \n",
       "3         1527       2386    33.681818   25.208791       4802.0  \n",
       "4          491      13683    13.441176   93.358621      10202.0  "
      ]
     },
     "execution_count": 32,
     "metadata": {},
     "output_type": "execute_result"
    }
   ],
   "source": [
    "textdf2 = pd.merge(textdf1, df.groupby(['page_title']).agg({'revision_id' : 'count'}).reset_index(), how='left')\n",
    "textdf2.head()"
   ]
  },
  {
   "cell_type": "markdown",
   "metadata": {},
   "source": [
    "Afterwards, a column with the number of unique contributors, who worked on each article, is added."
   ]
  },
  {
   "cell_type": "code",
   "execution_count": 33,
   "metadata": {},
   "outputs": [
    {
     "data": {
      "text/html": [
       "<div>\n",
       "<style scoped>\n",
       "    .dataframe tbody tr th:only-of-type {\n",
       "        vertical-align: middle;\n",
       "    }\n",
       "\n",
       "    .dataframe tbody tr th {\n",
       "        vertical-align: top;\n",
       "    }\n",
       "\n",
       "    .dataframe thead th {\n",
       "        text-align: right;\n",
       "    }\n",
       "</style>\n",
       "<table border=\"1\" class=\"dataframe\">\n",
       "  <thead>\n",
       "    <tr style=\"text-align: right;\">\n",
       "      <th></th>\n",
       "      <th>page_title</th>\n",
       "      <th>original</th>\n",
       "      <th>recent</th>\n",
       "      <th>originalVD</th>\n",
       "      <th>recentVD</th>\n",
       "      <th>originalWPT</th>\n",
       "      <th>recentWPT</th>\n",
       "      <th>originalWPS</th>\n",
       "      <th>recentWPS</th>\n",
       "      <th>revision_id</th>\n",
       "      <th>contributor_id</th>\n",
       "    </tr>\n",
       "  </thead>\n",
       "  <tbody>\n",
       "    <tr>\n",
       "      <th>0</th>\n",
       "      <td>Anarchism</td>\n",
       "      <td>Anarchism is a name taken by various political...</td>\n",
       "      <td>For other uses,see Anarchism (disambiguation)....</td>\n",
       "      <td>0.667939</td>\n",
       "      <td>0.489255</td>\n",
       "      <td>1733</td>\n",
       "      <td>10518</td>\n",
       "      <td>32.326923</td>\n",
       "      <td>25.161692</td>\n",
       "      <td>19961.0</td>\n",
       "      <td>3797.0</td>\n",
       "    </tr>\n",
       "    <tr>\n",
       "      <th>1</th>\n",
       "      <td>Autism</td>\n",
       "      <td>Autism is a complex pervasive developmental di...</td>\n",
       "      <td>This article is about the classic autistic dis...</td>\n",
       "      <td>0.398438</td>\n",
       "      <td>0.499190</td>\n",
       "      <td>857</td>\n",
       "      <td>7320</td>\n",
       "      <td>25.781250</td>\n",
       "      <td>84.116279</td>\n",
       "      <td>10646.0</td>\n",
       "      <td>3757.0</td>\n",
       "    </tr>\n",
       "    <tr>\n",
       "      <th>2</th>\n",
       "      <td>Albedo</td>\n",
       "      <td>In climatology,the albedo of a surface is the ...</td>\n",
       "      <td>For other uses,see Albedo (disambiguation).The...</td>\n",
       "      <td>0.568889</td>\n",
       "      <td>0.440594</td>\n",
       "      <td>1426</td>\n",
       "      <td>4152</td>\n",
       "      <td>51.777778</td>\n",
       "      <td>152.777778</td>\n",
       "      <td>1253.0</td>\n",
       "      <td>701.0</td>\n",
       "    </tr>\n",
       "    <tr>\n",
       "      <th>3</th>\n",
       "      <td>A</td>\n",
       "      <td>The letter A is the first letter in the Roman ...</td>\n",
       "      <td>This article is about the Roman letter.For oth...</td>\n",
       "      <td>0.538071</td>\n",
       "      <td>0.471910</td>\n",
       "      <td>1527</td>\n",
       "      <td>2386</td>\n",
       "      <td>33.681818</td>\n",
       "      <td>25.208791</td>\n",
       "      <td>4802.0</td>\n",
       "      <td>2609.0</td>\n",
       "    </tr>\n",
       "    <tr>\n",
       "      <th>4</th>\n",
       "      <td>Alabama</td>\n",
       "      <td>Alternate meanings: See Alabama (disambiguatio...</td>\n",
       "      <td>This article is about the U.S.state.For the ri...</td>\n",
       "      <td>0.638889</td>\n",
       "      <td>0.456440</td>\n",
       "      <td>491</td>\n",
       "      <td>13683</td>\n",
       "      <td>13.441176</td>\n",
       "      <td>93.358621</td>\n",
       "      <td>10202.0</td>\n",
       "      <td>4485.0</td>\n",
       "    </tr>\n",
       "  </tbody>\n",
       "</table>\n",
       "</div>"
      ],
      "text/plain": [
       "  page_title                                           original  \\\n",
       "0  Anarchism  Anarchism is a name taken by various political...   \n",
       "1     Autism  Autism is a complex pervasive developmental di...   \n",
       "2     Albedo  In climatology,the albedo of a surface is the ...   \n",
       "3          A  The letter A is the first letter in the Roman ...   \n",
       "4    Alabama  Alternate meanings: See Alabama (disambiguatio...   \n",
       "\n",
       "                                              recent  originalVD  recentVD  \\\n",
       "0  For other uses,see Anarchism (disambiguation)....    0.667939  0.489255   \n",
       "1  This article is about the classic autistic dis...    0.398438  0.499190   \n",
       "2  For other uses,see Albedo (disambiguation).The...    0.568889  0.440594   \n",
       "3  This article is about the Roman letter.For oth...    0.538071  0.471910   \n",
       "4  This article is about the U.S.state.For the ri...    0.638889  0.456440   \n",
       "\n",
       "   originalWPT  recentWPT  originalWPS   recentWPS  revision_id  \\\n",
       "0         1733      10518    32.326923   25.161692      19961.0   \n",
       "1          857       7320    25.781250   84.116279      10646.0   \n",
       "2         1426       4152    51.777778  152.777778       1253.0   \n",
       "3         1527       2386    33.681818   25.208791       4802.0   \n",
       "4          491      13683    13.441176   93.358621      10202.0   \n",
       "\n",
       "   contributor_id  \n",
       "0          3797.0  \n",
       "1          3757.0  \n",
       "2           701.0  \n",
       "3          2609.0  \n",
       "4          4485.0  "
      ]
     },
     "execution_count": 33,
     "metadata": {},
     "output_type": "execute_result"
    }
   ],
   "source": [
    "textdf3 = pd.merge(textdf2, df.groupby(['page_title']).agg({'contributor_id' : pd.Series.nunique}).reset_index(), how='left')\n",
    "textdf3.head()"
   ]
  },
  {
   "cell_type": "markdown",
   "metadata": {},
   "source": [
    "In addition to the unique number of contributors of an article, there is also a column for the number of unique contributor names. This should give an insight on how many people worked on an article as anonymous."
   ]
  },
  {
   "cell_type": "code",
   "execution_count": 34,
   "metadata": {},
   "outputs": [
    {
     "data": {
      "text/html": [
       "<div>\n",
       "<style scoped>\n",
       "    .dataframe tbody tr th:only-of-type {\n",
       "        vertical-align: middle;\n",
       "    }\n",
       "\n",
       "    .dataframe tbody tr th {\n",
       "        vertical-align: top;\n",
       "    }\n",
       "\n",
       "    .dataframe thead th {\n",
       "        text-align: right;\n",
       "    }\n",
       "</style>\n",
       "<table border=\"1\" class=\"dataframe\">\n",
       "  <thead>\n",
       "    <tr style=\"text-align: right;\">\n",
       "      <th></th>\n",
       "      <th>page_title</th>\n",
       "      <th>original</th>\n",
       "      <th>recent</th>\n",
       "      <th>originalVD</th>\n",
       "      <th>recentVD</th>\n",
       "      <th>originalWPT</th>\n",
       "      <th>recentWPT</th>\n",
       "      <th>originalWPS</th>\n",
       "      <th>recentWPS</th>\n",
       "      <th>revision_id</th>\n",
       "      <th>contributor_id</th>\n",
       "      <th>contributor_name</th>\n",
       "    </tr>\n",
       "  </thead>\n",
       "  <tbody>\n",
       "    <tr>\n",
       "      <th>0</th>\n",
       "      <td>Anarchism</td>\n",
       "      <td>Anarchism is a name taken by various political...</td>\n",
       "      <td>For other uses,see Anarchism (disambiguation)....</td>\n",
       "      <td>0.667939</td>\n",
       "      <td>0.489255</td>\n",
       "      <td>1733</td>\n",
       "      <td>10518</td>\n",
       "      <td>32.326923</td>\n",
       "      <td>25.161692</td>\n",
       "      <td>19961.0</td>\n",
       "      <td>3797.0</td>\n",
       "      <td>1918.0</td>\n",
       "    </tr>\n",
       "    <tr>\n",
       "      <th>1</th>\n",
       "      <td>Autism</td>\n",
       "      <td>Autism is a complex pervasive developmental di...</td>\n",
       "      <td>This article is about the classic autistic dis...</td>\n",
       "      <td>0.398438</td>\n",
       "      <td>0.499190</td>\n",
       "      <td>857</td>\n",
       "      <td>7320</td>\n",
       "      <td>25.781250</td>\n",
       "      <td>84.116279</td>\n",
       "      <td>10646.0</td>\n",
       "      <td>3757.0</td>\n",
       "      <td>1885.0</td>\n",
       "    </tr>\n",
       "    <tr>\n",
       "      <th>2</th>\n",
       "      <td>Albedo</td>\n",
       "      <td>In climatology,the albedo of a surface is the ...</td>\n",
       "      <td>For other uses,see Albedo (disambiguation).The...</td>\n",
       "      <td>0.568889</td>\n",
       "      <td>0.440594</td>\n",
       "      <td>1426</td>\n",
       "      <td>4152</td>\n",
       "      <td>51.777778</td>\n",
       "      <td>152.777778</td>\n",
       "      <td>1253.0</td>\n",
       "      <td>701.0</td>\n",
       "      <td>448.0</td>\n",
       "    </tr>\n",
       "    <tr>\n",
       "      <th>3</th>\n",
       "      <td>A</td>\n",
       "      <td>The letter A is the first letter in the Roman ...</td>\n",
       "      <td>This article is about the Roman letter.For oth...</td>\n",
       "      <td>0.538071</td>\n",
       "      <td>0.471910</td>\n",
       "      <td>1527</td>\n",
       "      <td>2386</td>\n",
       "      <td>33.681818</td>\n",
       "      <td>25.208791</td>\n",
       "      <td>4802.0</td>\n",
       "      <td>2609.0</td>\n",
       "      <td>1448.0</td>\n",
       "    </tr>\n",
       "    <tr>\n",
       "      <th>4</th>\n",
       "      <td>Alabama</td>\n",
       "      <td>Alternate meanings: See Alabama (disambiguatio...</td>\n",
       "      <td>This article is about the U.S.state.For the ri...</td>\n",
       "      <td>0.638889</td>\n",
       "      <td>0.456440</td>\n",
       "      <td>491</td>\n",
       "      <td>13683</td>\n",
       "      <td>13.441176</td>\n",
       "      <td>93.358621</td>\n",
       "      <td>10202.0</td>\n",
       "      <td>4485.0</td>\n",
       "      <td>2260.0</td>\n",
       "    </tr>\n",
       "  </tbody>\n",
       "</table>\n",
       "</div>"
      ],
      "text/plain": [
       "  page_title                                           original  \\\n",
       "0  Anarchism  Anarchism is a name taken by various political...   \n",
       "1     Autism  Autism is a complex pervasive developmental di...   \n",
       "2     Albedo  In climatology,the albedo of a surface is the ...   \n",
       "3          A  The letter A is the first letter in the Roman ...   \n",
       "4    Alabama  Alternate meanings: See Alabama (disambiguatio...   \n",
       "\n",
       "                                              recent  originalVD  recentVD  \\\n",
       "0  For other uses,see Anarchism (disambiguation)....    0.667939  0.489255   \n",
       "1  This article is about the classic autistic dis...    0.398438  0.499190   \n",
       "2  For other uses,see Albedo (disambiguation).The...    0.568889  0.440594   \n",
       "3  This article is about the Roman letter.For oth...    0.538071  0.471910   \n",
       "4  This article is about the U.S.state.For the ri...    0.638889  0.456440   \n",
       "\n",
       "   originalWPT  recentWPT  originalWPS   recentWPS  revision_id  \\\n",
       "0         1733      10518    32.326923   25.161692      19961.0   \n",
       "1          857       7320    25.781250   84.116279      10646.0   \n",
       "2         1426       4152    51.777778  152.777778       1253.0   \n",
       "3         1527       2386    33.681818   25.208791       4802.0   \n",
       "4          491      13683    13.441176   93.358621      10202.0   \n",
       "\n",
       "   contributor_id  contributor_name  \n",
       "0          3797.0            1918.0  \n",
       "1          3757.0            1885.0  \n",
       "2           701.0             448.0  \n",
       "3          2609.0            1448.0  \n",
       "4          4485.0            2260.0  "
      ]
     },
     "execution_count": 34,
     "metadata": {},
     "output_type": "execute_result"
    }
   ],
   "source": [
    "textdf4 = pd.merge(textdf3, df.groupby(['page_title']).agg({'contributor_name' : pd.Series.nunique}).reset_index(), how='left')\n",
    "textdf4.head()"
   ]
  },
  {
   "cell_type": "markdown",
   "metadata": {},
   "source": [
    "Next, a new column is added to show the unique number of days an article was worked on."
   ]
  },
  {
   "cell_type": "code",
   "execution_count": 35,
   "metadata": {},
   "outputs": [
    {
     "data": {
      "text/html": [
       "<div>\n",
       "<style scoped>\n",
       "    .dataframe tbody tr th:only-of-type {\n",
       "        vertical-align: middle;\n",
       "    }\n",
       "\n",
       "    .dataframe tbody tr th {\n",
       "        vertical-align: top;\n",
       "    }\n",
       "\n",
       "    .dataframe thead th {\n",
       "        text-align: right;\n",
       "    }\n",
       "</style>\n",
       "<table border=\"1\" class=\"dataframe\">\n",
       "  <thead>\n",
       "    <tr style=\"text-align: right;\">\n",
       "      <th></th>\n",
       "      <th>page_title</th>\n",
       "      <th>original</th>\n",
       "      <th>recent</th>\n",
       "      <th>originalVD</th>\n",
       "      <th>recentVD</th>\n",
       "      <th>originalWPT</th>\n",
       "      <th>recentWPT</th>\n",
       "      <th>originalWPS</th>\n",
       "      <th>recentWPS</th>\n",
       "      <th>revision_id</th>\n",
       "      <th>contributor_id</th>\n",
       "      <th>contributor_name</th>\n",
       "      <th>dates</th>\n",
       "    </tr>\n",
       "  </thead>\n",
       "  <tbody>\n",
       "    <tr>\n",
       "      <th>0</th>\n",
       "      <td>Anarchism</td>\n",
       "      <td>Anarchism is a name taken by various political...</td>\n",
       "      <td>For other uses,see Anarchism (disambiguation)....</td>\n",
       "      <td>0.667939</td>\n",
       "      <td>0.489255</td>\n",
       "      <td>1733</td>\n",
       "      <td>10518</td>\n",
       "      <td>32.326923</td>\n",
       "      <td>25.161692</td>\n",
       "      <td>19961.0</td>\n",
       "      <td>3797.0</td>\n",
       "      <td>1918.0</td>\n",
       "      <td>3216.0</td>\n",
       "    </tr>\n",
       "    <tr>\n",
       "      <th>1</th>\n",
       "      <td>Autism</td>\n",
       "      <td>Autism is a complex pervasive developmental di...</td>\n",
       "      <td>This article is about the classic autistic dis...</td>\n",
       "      <td>0.398438</td>\n",
       "      <td>0.499190</td>\n",
       "      <td>857</td>\n",
       "      <td>7320</td>\n",
       "      <td>25.781250</td>\n",
       "      <td>84.116279</td>\n",
       "      <td>10646.0</td>\n",
       "      <td>3757.0</td>\n",
       "      <td>1885.0</td>\n",
       "      <td>2537.0</td>\n",
       "    </tr>\n",
       "    <tr>\n",
       "      <th>2</th>\n",
       "      <td>Albedo</td>\n",
       "      <td>In climatology,the albedo of a surface is the ...</td>\n",
       "      <td>For other uses,see Albedo (disambiguation).The...</td>\n",
       "      <td>0.568889</td>\n",
       "      <td>0.440594</td>\n",
       "      <td>1426</td>\n",
       "      <td>4152</td>\n",
       "      <td>51.777778</td>\n",
       "      <td>152.777778</td>\n",
       "      <td>1253.0</td>\n",
       "      <td>701.0</td>\n",
       "      <td>448.0</td>\n",
       "      <td>731.0</td>\n",
       "    </tr>\n",
       "    <tr>\n",
       "      <th>3</th>\n",
       "      <td>A</td>\n",
       "      <td>The letter A is the first letter in the Roman ...</td>\n",
       "      <td>This article is about the Roman letter.For oth...</td>\n",
       "      <td>0.538071</td>\n",
       "      <td>0.471910</td>\n",
       "      <td>1527</td>\n",
       "      <td>2386</td>\n",
       "      <td>33.681818</td>\n",
       "      <td>25.208791</td>\n",
       "      <td>4802.0</td>\n",
       "      <td>2609.0</td>\n",
       "      <td>1448.0</td>\n",
       "      <td>1489.0</td>\n",
       "    </tr>\n",
       "    <tr>\n",
       "      <th>4</th>\n",
       "      <td>Alabama</td>\n",
       "      <td>Alternate meanings: See Alabama (disambiguatio...</td>\n",
       "      <td>This article is about the U.S.state.For the ri...</td>\n",
       "      <td>0.638889</td>\n",
       "      <td>0.456440</td>\n",
       "      <td>491</td>\n",
       "      <td>13683</td>\n",
       "      <td>13.441176</td>\n",
       "      <td>93.358621</td>\n",
       "      <td>10202.0</td>\n",
       "      <td>4485.0</td>\n",
       "      <td>2260.0</td>\n",
       "      <td>3119.0</td>\n",
       "    </tr>\n",
       "  </tbody>\n",
       "</table>\n",
       "</div>"
      ],
      "text/plain": [
       "  page_title                                           original  \\\n",
       "0  Anarchism  Anarchism is a name taken by various political...   \n",
       "1     Autism  Autism is a complex pervasive developmental di...   \n",
       "2     Albedo  In climatology,the albedo of a surface is the ...   \n",
       "3          A  The letter A is the first letter in the Roman ...   \n",
       "4    Alabama  Alternate meanings: See Alabama (disambiguatio...   \n",
       "\n",
       "                                              recent  originalVD  recentVD  \\\n",
       "0  For other uses,see Anarchism (disambiguation)....    0.667939  0.489255   \n",
       "1  This article is about the classic autistic dis...    0.398438  0.499190   \n",
       "2  For other uses,see Albedo (disambiguation).The...    0.568889  0.440594   \n",
       "3  This article is about the Roman letter.For oth...    0.538071  0.471910   \n",
       "4  This article is about the U.S.state.For the ri...    0.638889  0.456440   \n",
       "\n",
       "   originalWPT  recentWPT  originalWPS   recentWPS  revision_id  \\\n",
       "0         1733      10518    32.326923   25.161692      19961.0   \n",
       "1          857       7320    25.781250   84.116279      10646.0   \n",
       "2         1426       4152    51.777778  152.777778       1253.0   \n",
       "3         1527       2386    33.681818   25.208791       4802.0   \n",
       "4          491      13683    13.441176   93.358621      10202.0   \n",
       "\n",
       "   contributor_id  contributor_name   dates  \n",
       "0          3797.0            1918.0  3216.0  \n",
       "1          3757.0            1885.0  2537.0  \n",
       "2           701.0             448.0   731.0  \n",
       "3          2609.0            1448.0  1489.0  \n",
       "4          4485.0            2260.0  3119.0  "
      ]
     },
     "execution_count": 35,
     "metadata": {},
     "output_type": "execute_result"
    }
   ],
   "source": [
    "textdf5 = pd.merge(textdf4, df.groupby(['page_title']).agg({'dates' : pd.Series.nunique}).reset_index(), how='left')\n",
    "textdf5.head()"
   ]
  },
  {
   "cell_type": "markdown",
   "metadata": {},
   "source": [
    "Finally, there are two new columns regarding revised bytes, that were added. The first column shows the raw bytes, and was created by filtering the original dataframe. Afterwards, it was merged with the new dataframe. Becaus the number is hard to read, the second column shows the amount of revised bytes in Gigabyte."
   ]
  },
  {
   "cell_type": "code",
   "execution_count": 36,
   "metadata": {},
   "outputs": [
    {
     "data": {
      "text/html": [
       "<div>\n",
       "<style scoped>\n",
       "    .dataframe tbody tr th:only-of-type {\n",
       "        vertical-align: middle;\n",
       "    }\n",
       "\n",
       "    .dataframe tbody tr th {\n",
       "        vertical-align: top;\n",
       "    }\n",
       "\n",
       "    .dataframe thead th {\n",
       "        text-align: right;\n",
       "    }\n",
       "</style>\n",
       "<table border=\"1\" class=\"dataframe\">\n",
       "  <thead>\n",
       "    <tr style=\"text-align: right;\">\n",
       "      <th></th>\n",
       "      <th>page_id</th>\n",
       "      <th>page_title</th>\n",
       "      <th>revision_id</th>\n",
       "      <th>timestamp</th>\n",
       "      <th>comment</th>\n",
       "      <th>contributor_id</th>\n",
       "      <th>contributor_name</th>\n",
       "      <th>bytes</th>\n",
       "      <th>revtext</th>\n",
       "      <th>dates</th>\n",
       "      <th>times</th>\n",
       "      <th>revbytes</th>\n",
       "      <th>revperc</th>\n",
       "    </tr>\n",
       "  </thead>\n",
       "  <tbody>\n",
       "    <tr>\n",
       "      <th>0</th>\n",
       "      <td>10</td>\n",
       "      <td>AccessibleComputing</td>\n",
       "      <td>233192</td>\n",
       "      <td>2001-01-21 02:12:21</td>\n",
       "      <td>*</td>\n",
       "      <td>99</td>\n",
       "      <td>RoseParks</td>\n",
       "      <td>124</td>\n",
       "      <td>This subject covers* AssistiveTechnology* Acce...</td>\n",
       "      <td>2001-01-21</td>\n",
       "      <td>02:12:21</td>\n",
       "      <td>2848</td>\n",
       "      <td>4.353933</td>\n",
       "    </tr>\n",
       "    <tr>\n",
       "      <th>14</th>\n",
       "      <td>12</td>\n",
       "      <td>Anarchism</td>\n",
       "      <td>18201</td>\n",
       "      <td>2002-02-25 15:00:22</td>\n",
       "      <td>Automated conversion</td>\n",
       "      <td>1226483</td>\n",
       "      <td>Conversion script</td>\n",
       "      <td>9546</td>\n",
       "      <td>[[talk:Anarchism/Talk]] &lt;br&gt;[[Anarchism/Todo/T...</td>\n",
       "      <td>2002-02-25</td>\n",
       "      <td>15:00:22</td>\n",
       "      <td>1689954733</td>\n",
       "      <td>0.000565</td>\n",
       "    </tr>\n",
       "    <tr>\n",
       "      <th>19975</th>\n",
       "      <td>13</td>\n",
       "      <td>AfghanistanHistory</td>\n",
       "      <td>176453</td>\n",
       "      <td>2002-02-25 15:43:11</td>\n",
       "      <td>Automated conversion</td>\n",
       "      <td>1226483</td>\n",
       "      <td>Conversion script</td>\n",
       "      <td>34</td>\n",
       "      <td>#REDIRECT [[Afghanistan/History]]</td>\n",
       "      <td>2002-02-25</td>\n",
       "      <td>15:43:11</td>\n",
       "      <td>787</td>\n",
       "      <td>4.320203</td>\n",
       "    </tr>\n",
       "    <tr>\n",
       "      <th>19981</th>\n",
       "      <td>14</td>\n",
       "      <td>AfghanistanGeography</td>\n",
       "      <td>233198</td>\n",
       "      <td>2001-01-21 23:00:32</td>\n",
       "      <td>*</td>\n",
       "      <td>32609824</td>\n",
       "      <td>LinusTolke</td>\n",
       "      <td>1663</td>\n",
       "      <td>Irrigated land: 30,000 sq km (1993 est.) Natur...</td>\n",
       "      <td>2001-01-21</td>\n",
       "      <td>23:00:32</td>\n",
       "      <td>1988</td>\n",
       "      <td>83.651911</td>\n",
       "    </tr>\n",
       "    <tr>\n",
       "      <th>19988</th>\n",
       "      <td>15</td>\n",
       "      <td>AfghanistanPeople</td>\n",
       "      <td>133439</td>\n",
       "      <td>2002-02-25 15:43:11</td>\n",
       "      <td>Automated conversion</td>\n",
       "      <td>1226483</td>\n",
       "      <td>Conversion script</td>\n",
       "      <td>33</td>\n",
       "      <td>#REDIRECT [[Afghanistan/People]]</td>\n",
       "      <td>2002-02-25</td>\n",
       "      <td>15:43:11</td>\n",
       "      <td>1993</td>\n",
       "      <td>1.655795</td>\n",
       "    </tr>\n",
       "  </tbody>\n",
       "</table>\n",
       "</div>"
      ],
      "text/plain": [
       "       page_id            page_title  revision_id            timestamp  \\\n",
       "0           10   AccessibleComputing       233192  2001-01-21 02:12:21   \n",
       "14          12             Anarchism        18201  2002-02-25 15:00:22   \n",
       "19975       13    AfghanistanHistory       176453  2002-02-25 15:43:11   \n",
       "19981       14  AfghanistanGeography       233198  2001-01-21 23:00:32   \n",
       "19988       15     AfghanistanPeople       133439  2002-02-25 15:43:11   \n",
       "\n",
       "                    comment contributor_id   contributor_name  bytes  \\\n",
       "0                         *             99          RoseParks    124   \n",
       "14     Automated conversion        1226483  Conversion script   9546   \n",
       "19975  Automated conversion        1226483  Conversion script     34   \n",
       "19981                     *       32609824         LinusTolke   1663   \n",
       "19988  Automated conversion        1226483  Conversion script     33   \n",
       "\n",
       "                                                 revtext       dates  \\\n",
       "0      This subject covers* AssistiveTechnology* Acce...  2001-01-21   \n",
       "14     [[talk:Anarchism/Talk]] <br>[[Anarchism/Todo/T...  2002-02-25   \n",
       "19975                  #REDIRECT [[Afghanistan/History]]  2002-02-25   \n",
       "19981  Irrigated land: 30,000 sq km (1993 est.) Natur...  2001-01-21   \n",
       "19988                   #REDIRECT [[Afghanistan/People]]  2002-02-25   \n",
       "\n",
       "          times    revbytes    revperc  \n",
       "0      02:12:21        2848   4.353933  \n",
       "14     15:00:22  1689954733   0.000565  \n",
       "19975  15:43:11         787   4.320203  \n",
       "19981  23:00:32        1988  83.651911  \n",
       "19988  15:43:11        1993   1.655795  "
      ]
     },
     "execution_count": 36,
     "metadata": {},
     "output_type": "execute_result"
    }
   ],
   "source": [
    "df1 = df.drop_duplicates(subset='revbytes', keep=\"first\", inplace=False)\n",
    "df1.head()"
   ]
  },
  {
   "cell_type": "code",
   "execution_count": 37,
   "metadata": {},
   "outputs": [
    {
     "data": {
      "text/html": [
       "<div>\n",
       "<style scoped>\n",
       "    .dataframe tbody tr th:only-of-type {\n",
       "        vertical-align: middle;\n",
       "    }\n",
       "\n",
       "    .dataframe tbody tr th {\n",
       "        vertical-align: top;\n",
       "    }\n",
       "\n",
       "    .dataframe thead th {\n",
       "        text-align: right;\n",
       "    }\n",
       "</style>\n",
       "<table border=\"1\" class=\"dataframe\">\n",
       "  <thead>\n",
       "    <tr style=\"text-align: right;\">\n",
       "      <th></th>\n",
       "      <th>page_title</th>\n",
       "      <th>original</th>\n",
       "      <th>recent</th>\n",
       "      <th>originalVD</th>\n",
       "      <th>recentVD</th>\n",
       "      <th>originalWPT</th>\n",
       "      <th>recentWPT</th>\n",
       "      <th>originalWPS</th>\n",
       "      <th>recentWPS</th>\n",
       "      <th>revision_id</th>\n",
       "      <th>contributor_id</th>\n",
       "      <th>contributor_name</th>\n",
       "      <th>dates</th>\n",
       "      <th>revbytes</th>\n",
       "    </tr>\n",
       "  </thead>\n",
       "  <tbody>\n",
       "    <tr>\n",
       "      <th>0</th>\n",
       "      <td>Anarchism</td>\n",
       "      <td>Anarchism is a name taken by various political...</td>\n",
       "      <td>For other uses,see Anarchism (disambiguation)....</td>\n",
       "      <td>0.667939</td>\n",
       "      <td>0.489255</td>\n",
       "      <td>1733</td>\n",
       "      <td>10518</td>\n",
       "      <td>32.326923</td>\n",
       "      <td>25.161692</td>\n",
       "      <td>19961.0</td>\n",
       "      <td>3797.0</td>\n",
       "      <td>1918.0</td>\n",
       "      <td>3216.0</td>\n",
       "      <td>1.689955e+09</td>\n",
       "    </tr>\n",
       "    <tr>\n",
       "      <th>1</th>\n",
       "      <td>Autism</td>\n",
       "      <td>Autism is a complex pervasive developmental di...</td>\n",
       "      <td>This article is about the classic autistic dis...</td>\n",
       "      <td>0.398438</td>\n",
       "      <td>0.499190</td>\n",
       "      <td>857</td>\n",
       "      <td>7320</td>\n",
       "      <td>25.781250</td>\n",
       "      <td>84.116279</td>\n",
       "      <td>10646.0</td>\n",
       "      <td>3757.0</td>\n",
       "      <td>1885.0</td>\n",
       "      <td>2537.0</td>\n",
       "      <td>9.503834e+08</td>\n",
       "    </tr>\n",
       "    <tr>\n",
       "      <th>2</th>\n",
       "      <td>Albedo</td>\n",
       "      <td>In climatology,the albedo of a surface is the ...</td>\n",
       "      <td>For other uses,see Albedo (disambiguation).The...</td>\n",
       "      <td>0.568889</td>\n",
       "      <td>0.440594</td>\n",
       "      <td>1426</td>\n",
       "      <td>4152</td>\n",
       "      <td>51.777778</td>\n",
       "      <td>152.777778</td>\n",
       "      <td>1253.0</td>\n",
       "      <td>701.0</td>\n",
       "      <td>448.0</td>\n",
       "      <td>731.0</td>\n",
       "      <td>3.025434e+07</td>\n",
       "    </tr>\n",
       "    <tr>\n",
       "      <th>3</th>\n",
       "      <td>A</td>\n",
       "      <td>The letter A is the first letter in the Roman ...</td>\n",
       "      <td>This article is about the Roman letter.For oth...</td>\n",
       "      <td>0.538071</td>\n",
       "      <td>0.471910</td>\n",
       "      <td>1527</td>\n",
       "      <td>2386</td>\n",
       "      <td>33.681818</td>\n",
       "      <td>25.208791</td>\n",
       "      <td>4802.0</td>\n",
       "      <td>2609.0</td>\n",
       "      <td>1448.0</td>\n",
       "      <td>1489.0</td>\n",
       "      <td>4.717380e+07</td>\n",
       "    </tr>\n",
       "    <tr>\n",
       "      <th>4</th>\n",
       "      <td>Alabama</td>\n",
       "      <td>Alternate meanings: See Alabama (disambiguatio...</td>\n",
       "      <td>This article is about the U.S.state.For the ri...</td>\n",
       "      <td>0.638889</td>\n",
       "      <td>0.456440</td>\n",
       "      <td>491</td>\n",
       "      <td>13683</td>\n",
       "      <td>13.441176</td>\n",
       "      <td>93.358621</td>\n",
       "      <td>10202.0</td>\n",
       "      <td>4485.0</td>\n",
       "      <td>2260.0</td>\n",
       "      <td>3119.0</td>\n",
       "      <td>1.130464e+09</td>\n",
       "    </tr>\n",
       "  </tbody>\n",
       "</table>\n",
       "</div>"
      ],
      "text/plain": [
       "  page_title                                           original  \\\n",
       "0  Anarchism  Anarchism is a name taken by various political...   \n",
       "1     Autism  Autism is a complex pervasive developmental di...   \n",
       "2     Albedo  In climatology,the albedo of a surface is the ...   \n",
       "3          A  The letter A is the first letter in the Roman ...   \n",
       "4    Alabama  Alternate meanings: See Alabama (disambiguatio...   \n",
       "\n",
       "                                              recent  originalVD  recentVD  \\\n",
       "0  For other uses,see Anarchism (disambiguation)....    0.667939  0.489255   \n",
       "1  This article is about the classic autistic dis...    0.398438  0.499190   \n",
       "2  For other uses,see Albedo (disambiguation).The...    0.568889  0.440594   \n",
       "3  This article is about the Roman letter.For oth...    0.538071  0.471910   \n",
       "4  This article is about the U.S.state.For the ri...    0.638889  0.456440   \n",
       "\n",
       "   originalWPT  recentWPT  originalWPS   recentWPS  revision_id  \\\n",
       "0         1733      10518    32.326923   25.161692      19961.0   \n",
       "1          857       7320    25.781250   84.116279      10646.0   \n",
       "2         1426       4152    51.777778  152.777778       1253.0   \n",
       "3         1527       2386    33.681818   25.208791       4802.0   \n",
       "4          491      13683    13.441176   93.358621      10202.0   \n",
       "\n",
       "   contributor_id  contributor_name   dates      revbytes  \n",
       "0          3797.0            1918.0  3216.0  1.689955e+09  \n",
       "1          3757.0            1885.0  2537.0  9.503834e+08  \n",
       "2           701.0             448.0   731.0  3.025434e+07  \n",
       "3          2609.0            1448.0  1489.0  4.717380e+07  \n",
       "4          4485.0            2260.0  3119.0  1.130464e+09  "
      ]
     },
     "execution_count": 37,
     "metadata": {},
     "output_type": "execute_result"
    }
   ],
   "source": [
    "textdf6 = pd.merge(textdf5, df1[['page_title', 'revbytes']], on='page_title', how='left')\n",
    "textdf6.head()"
   ]
  },
  {
   "cell_type": "code",
   "execution_count": 38,
   "metadata": {},
   "outputs": [
    {
     "data": {
      "text/html": [
       "<div>\n",
       "<style scoped>\n",
       "    .dataframe tbody tr th:only-of-type {\n",
       "        vertical-align: middle;\n",
       "    }\n",
       "\n",
       "    .dataframe tbody tr th {\n",
       "        vertical-align: top;\n",
       "    }\n",
       "\n",
       "    .dataframe thead th {\n",
       "        text-align: right;\n",
       "    }\n",
       "</style>\n",
       "<table border=\"1\" class=\"dataframe\">\n",
       "  <thead>\n",
       "    <tr style=\"text-align: right;\">\n",
       "      <th></th>\n",
       "      <th>page_title</th>\n",
       "      <th>original</th>\n",
       "      <th>recent</th>\n",
       "      <th>originalVD</th>\n",
       "      <th>recentVD</th>\n",
       "      <th>originalWPT</th>\n",
       "      <th>recentWPT</th>\n",
       "      <th>originalWPS</th>\n",
       "      <th>recentWPS</th>\n",
       "      <th>revision_id</th>\n",
       "      <th>contributor_id</th>\n",
       "      <th>contributor_name</th>\n",
       "      <th>dates</th>\n",
       "      <th>revbytes</th>\n",
       "      <th>revgb</th>\n",
       "    </tr>\n",
       "  </thead>\n",
       "  <tbody>\n",
       "    <tr>\n",
       "      <th>0</th>\n",
       "      <td>Anarchism</td>\n",
       "      <td>Anarchism is a name taken by various political...</td>\n",
       "      <td>For other uses,see Anarchism (disambiguation)....</td>\n",
       "      <td>0.667939</td>\n",
       "      <td>0.489255</td>\n",
       "      <td>1733</td>\n",
       "      <td>10518</td>\n",
       "      <td>32.326923</td>\n",
       "      <td>25.161692</td>\n",
       "      <td>19961.0</td>\n",
       "      <td>3797.0</td>\n",
       "      <td>1918.0</td>\n",
       "      <td>3216.0</td>\n",
       "      <td>1.689955e+09</td>\n",
       "      <td>1.689955</td>\n",
       "    </tr>\n",
       "    <tr>\n",
       "      <th>1</th>\n",
       "      <td>Autism</td>\n",
       "      <td>Autism is a complex pervasive developmental di...</td>\n",
       "      <td>This article is about the classic autistic dis...</td>\n",
       "      <td>0.398438</td>\n",
       "      <td>0.499190</td>\n",
       "      <td>857</td>\n",
       "      <td>7320</td>\n",
       "      <td>25.781250</td>\n",
       "      <td>84.116279</td>\n",
       "      <td>10646.0</td>\n",
       "      <td>3757.0</td>\n",
       "      <td>1885.0</td>\n",
       "      <td>2537.0</td>\n",
       "      <td>9.503834e+08</td>\n",
       "      <td>0.950383</td>\n",
       "    </tr>\n",
       "    <tr>\n",
       "      <th>2</th>\n",
       "      <td>Albedo</td>\n",
       "      <td>In climatology,the albedo of a surface is the ...</td>\n",
       "      <td>For other uses,see Albedo (disambiguation).The...</td>\n",
       "      <td>0.568889</td>\n",
       "      <td>0.440594</td>\n",
       "      <td>1426</td>\n",
       "      <td>4152</td>\n",
       "      <td>51.777778</td>\n",
       "      <td>152.777778</td>\n",
       "      <td>1253.0</td>\n",
       "      <td>701.0</td>\n",
       "      <td>448.0</td>\n",
       "      <td>731.0</td>\n",
       "      <td>3.025434e+07</td>\n",
       "      <td>0.030254</td>\n",
       "    </tr>\n",
       "    <tr>\n",
       "      <th>3</th>\n",
       "      <td>A</td>\n",
       "      <td>The letter A is the first letter in the Roman ...</td>\n",
       "      <td>This article is about the Roman letter.For oth...</td>\n",
       "      <td>0.538071</td>\n",
       "      <td>0.471910</td>\n",
       "      <td>1527</td>\n",
       "      <td>2386</td>\n",
       "      <td>33.681818</td>\n",
       "      <td>25.208791</td>\n",
       "      <td>4802.0</td>\n",
       "      <td>2609.0</td>\n",
       "      <td>1448.0</td>\n",
       "      <td>1489.0</td>\n",
       "      <td>4.717380e+07</td>\n",
       "      <td>0.047174</td>\n",
       "    </tr>\n",
       "    <tr>\n",
       "      <th>4</th>\n",
       "      <td>Alabama</td>\n",
       "      <td>Alternate meanings: See Alabama (disambiguatio...</td>\n",
       "      <td>This article is about the U.S.state.For the ri...</td>\n",
       "      <td>0.638889</td>\n",
       "      <td>0.456440</td>\n",
       "      <td>491</td>\n",
       "      <td>13683</td>\n",
       "      <td>13.441176</td>\n",
       "      <td>93.358621</td>\n",
       "      <td>10202.0</td>\n",
       "      <td>4485.0</td>\n",
       "      <td>2260.0</td>\n",
       "      <td>3119.0</td>\n",
       "      <td>1.130464e+09</td>\n",
       "      <td>1.130464</td>\n",
       "    </tr>\n",
       "  </tbody>\n",
       "</table>\n",
       "</div>"
      ],
      "text/plain": [
       "  page_title                                           original  \\\n",
       "0  Anarchism  Anarchism is a name taken by various political...   \n",
       "1     Autism  Autism is a complex pervasive developmental di...   \n",
       "2     Albedo  In climatology,the albedo of a surface is the ...   \n",
       "3          A  The letter A is the first letter in the Roman ...   \n",
       "4    Alabama  Alternate meanings: See Alabama (disambiguatio...   \n",
       "\n",
       "                                              recent  originalVD  recentVD  \\\n",
       "0  For other uses,see Anarchism (disambiguation)....    0.667939  0.489255   \n",
       "1  This article is about the classic autistic dis...    0.398438  0.499190   \n",
       "2  For other uses,see Albedo (disambiguation).The...    0.568889  0.440594   \n",
       "3  This article is about the Roman letter.For oth...    0.538071  0.471910   \n",
       "4  This article is about the U.S.state.For the ri...    0.638889  0.456440   \n",
       "\n",
       "   originalWPT  recentWPT  originalWPS   recentWPS  revision_id  \\\n",
       "0         1733      10518    32.326923   25.161692      19961.0   \n",
       "1          857       7320    25.781250   84.116279      10646.0   \n",
       "2         1426       4152    51.777778  152.777778       1253.0   \n",
       "3         1527       2386    33.681818   25.208791       4802.0   \n",
       "4          491      13683    13.441176   93.358621      10202.0   \n",
       "\n",
       "   contributor_id  contributor_name   dates      revbytes     revgb  \n",
       "0          3797.0            1918.0  3216.0  1.689955e+09  1.689955  \n",
       "1          3757.0            1885.0  2537.0  9.503834e+08  0.950383  \n",
       "2           701.0             448.0   731.0  3.025434e+07  0.030254  \n",
       "3          2609.0            1448.0  1489.0  4.717380e+07  0.047174  \n",
       "4          4485.0            2260.0  3119.0  1.130464e+09  1.130464  "
      ]
     },
     "execution_count": 38,
     "metadata": {},
     "output_type": "execute_result"
    }
   ],
   "source": [
    "textdf6['revgb'] = textdf6['revbytes']/1e+9\n",
    "textdf6.head()"
   ]
  },
  {
   "cell_type": "markdown",
   "metadata": {},
   "source": [
    "Now we start to explore and visualize the data: we can plot the vocabularity density, words per text and words per sentence and can have a look, how all the articles have evolved. Inthis case we used histograms. On the x- axis, we have the indvidual scores for each of the three sections, we wanted to explore (Vocabularity Density from 0 to 1; words per Sentence from 0 to 400; Words per Text from 0 25000), while on the y- axis, the number of articles for each category is displayed.\n",
    "\n",
    "We also had a look on a correlation matrix, in order to see if certain sections of our analysis correlate to other ones. While most of those sections don't really correlate with the others, there are a few that lokk like they would correlate."
   ]
  },
  {
   "cell_type": "code",
   "execution_count": 39,
   "metadata": {},
   "outputs": [
    {
     "data": {
      "text/plain": [
       "<matplotlib.legend.Legend at 0x1473a0ec100>"
      ]
     },
     "execution_count": 39,
     "metadata": {},
     "output_type": "execute_result"
    },
    {
     "data": {
      "image/png": "[encoded data removed]",
      "text/plain": [
       "<Figure size 432x288 with 1 Axes>"
      ]
     },
     "metadata": {
      "needs_background": "light"
     },
     "output_type": "display_data"
    }
   ],
   "source": [
    "plt.hist(np.sort(textdf6['originalVD']), alpha = 0.5, label = 'original')\n",
    "plt.hist(np.sort(textdf6['recentVD']), alpha = 0.5, label = 'recent')\n",
    "plt.legend()"
   ]
  },
  {
   "cell_type": "code",
   "execution_count": 40,
   "metadata": {},
   "outputs": [
    {
     "data": {
      "text/plain": [
       "<matplotlib.legend.Legend at 0x14739d76670>"
      ]
     },
     "execution_count": 40,
     "metadata": {},
     "output_type": "execute_result"
    },
    {
     "data": {
      "image/png": "[encoded data removed]",
      "text/plain": [
       "<Figure size 432x288 with 1 Axes>"
      ]
     },
     "metadata": {
      "needs_background": "light"
     },
     "output_type": "display_data"
    }
   ],
   "source": [
    "plt.hist(np.sort(textdf6['originalWPS']), alpha = 0.5, label = 'original')\n",
    "plt.hist(np.sort(textdf6['recentWPS']), alpha = 0.5, label = 'recent')\n",
    "plt.legend()"
   ]
  },
  {
   "cell_type": "code",
   "execution_count": 41,
   "metadata": {},
   "outputs": [
    {
     "data": {
      "text/plain": [
       "<matplotlib.legend.Legend at 0x1473b1424c0>"
      ]
     },
     "execution_count": 41,
     "metadata": {},
     "output_type": "execute_result"
    },
    {
     "data": {
      "image/png": "[encoded data removed]",
      "text/plain": [
       "<Figure size 432x288 with 1 Axes>"
      ]
     },
     "metadata": {
      "needs_background": "light"
     },
     "output_type": "display_data"
    }
   ],
   "source": [
    "plt.hist(np.sort(textdf6['originalWPT']), alpha = 0.5, label = 'original')\n",
    "plt.hist(np.sort(textdf6['recentWPT']), alpha = 0.5, label = 'recent')\n",
    "plt.legend()"
   ]
  },
  {
   "cell_type": "code",
   "execution_count": 42,
   "metadata": {},
   "outputs": [
    {
     "data": {
      "image/png": "[encoded data removed]",
      "text/plain": [
       "<Figure size 432x288 with 2 Axes>"
      ]
     },
     "metadata": {
      "needs_background": "light"
     },
     "output_type": "display_data"
    }
   ],
   "source": [
    "corrMatrix = textdf6.corr()\n",
    "sns.heatmap(corrMatrix, annot=True)\n",
    "plt.show()"
   ]
  }
 ],
 "metadata": {
  "kernelspec": {
   "display_name": "Python 3",
   "name": "python3"
  },
  "language_info": {
   "codemirror_mode": {
    "name": "ipython",
    "version": 3
   },
   "file_extension": ".py",
   "mimetype": "text/x-python",
   "name": "python",
   "nbconvert_exporter": "python",
   "pygments_lexer": "ipython3",
   "version": "3.9.7"
  },
  "orig_nbformat": 2
 },
 "nbformat": 4,
 "nbformat_minor": 2
}
