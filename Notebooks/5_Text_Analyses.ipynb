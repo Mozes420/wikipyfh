{
 "cells": [
  {
   "cell_type": "code",
   "execution_count": null,
   "metadata": {},
   "outputs": [],
   "source": [
    "################### TO DO's ########################\n",
    "\n",
    "\n",
    "# - Erklärungen hinzufügen: Was wurde warum gemacht\n",
    "# - Bitte alle Blöcke durchlaufen lassen, auf Fehler kontrollieren und ggf. korrigieren. \n",
    "# - Textanalysen durchführen: \n",
    "#     evtl. wieder für einen Beispielartikel? -> abhängig von Analyse!\n",
    "#     Feature Selection / Engineering\n",
    "#     evtl. noch hinzufügen via api: Kategorie\n",
    "#     ..."
   ]
  },
  {
   "cell_type": "markdown",
   "metadata": {},
   "source": [
    "# Text Analyses\n",
    "\n",
    "In the basic analysis, we were able to gain a basic overview of the data package.  \n",
    "With the following text analysis we want to compare how the history of the articles has affected the text. To do this, we compare the original version of the text (initial creation) with the most recently available version of the same article. "
   ]
  },
  {
   "cell_type": "code",
   "execution_count": null,
   "metadata": {},
   "outputs": [],
   "source": [
    "import numpy as np\n",
    "import pandas as pd\n",
    "import seaborn as sns\n",
    "import matplotlib.pyplot as plt\n",
    "%matplotlib inline\n",
    "from bs4 import BeautifulSoup\n",
    "import requests\n",
    "import datetime\n",
    "import re\n",
    "import urllib\n",
    "import shutil\n",
    "import matplotlib.image as mpimg\n",
    "import time\n",
    "import crawlerlib as cl\n",
    "import wikipedia\n",
    "import nltk\n",
    "nltk.download('punkt')\n",
    "nltk.download('averaged_perceptron_tagger')\n",
    "nltk.download('maxent_ne_chunker')\n",
    "nltk.download('words')\n",
    "import matplotlib as mpl\n",
    "from nltk.stem import WordNetLemmatizer\n",
    "from nltk.corpus import stopwords\n",
    "from nltk.tokenize import word_tokenize\n",
    "nltk.download('wordnet')\n",
    "from sklearn.metrics.pairwise import cosine_similarity\n",
    "from sklearn.feature_extraction.text import TfidfVectorizer"
   ]
  },
  {
   "cell_type": "markdown",
   "metadata": {},
   "source": [
    "### Preparation"
   ]
  },
  {
   "cell_type": "markdown",
   "metadata": {},
   "source": [
    "For our text analysis we have extended the crawlerlib with some functions: "
   ]
  },
  {
   "cell_type": "markdown",
   "metadata": {},
   "source": [
    "**Original Wiki-URL**"
   ]
  },
  {
   "cell_type": "markdown",
   "metadata": {},
   "source": [
    "get whole url of first articleversion with pagetitle (wikititle)"
   ]
  },
  {
   "cell_type": "code",
   "execution_count": 2,
   "metadata": {},
   "outputs": [],
   "source": [
    "def getOldSoup(wikititle):\n",
    "\tsoup = requests.get(\"https://en.wikipedia.org/w/index.php?title=\"+wikititle+\"&dir=prev&action=history\")\n",
    "\tsoup = BeautifulSoup(soup.content, 'html.parser')\n",
    "\tsoup = soup.findAll(\"a\", {\"class\": \"mw-changeslist-date\"})[0]['href']\n",
    "\treturn 'https://en.wikipedia.org/'+soup"
   ]
  },
  {
   "cell_type": "markdown",
   "metadata": {},
   "source": [
    "**Recent Wiki-URL**"
   ]
  },
  {
   "cell_type": "markdown",
   "metadata": {},
   "source": [
    "get whole url of recent articleversion with pagetitle (wikititle)"
   ]
  },
  {
   "cell_type": "code",
   "execution_count": 3,
   "metadata": {},
   "outputs": [],
   "source": [
    "def getRecentSoup(wikititle):\n",
    "\twiki = 'https://en.wikipedia.org/wiki/'\n",
    "\trecent = wiki+wikititle\n",
    "\treturn recent"
   ]
  },
  {
   "cell_type": "markdown",
   "metadata": {},
   "source": [
    "**Wiki-Texts**"
   ]
  },
  {
   "cell_type": "markdown",
   "metadata": {},
   "source": [
    "get original text and recent text per article"
   ]
  },
  {
   "cell_type": "code",
   "execution_count": 4,
   "metadata": {},
   "outputs": [],
   "source": [
    "def getTextDF(urlis):\n",
    "    textdf = pd.DataFrame(columns=['page_title', 'original', 'recent'])\n",
    "    for i in range(len(urlis)):\n",
    "        if str(getTextBody(urlis[i][0])).startswith('Redirect to'):\n",
    "            continue\n",
    "        else:\n",
    "            s1 = str(getTextBody(urlis[i][0]))\n",
    "            s2 = str(getTextBody(urlis[i][1]))\n",
    "            textdf = textdf.append({'page_title' : str.rsplit(urlis[i][1], '/', 1)[-1], 'original' : s1, 'recent' : s2}, ignore_index=True)\n",
    "    return textdf"
   ]
  },
  {
   "cell_type": "markdown",
   "metadata": {},
   "source": [
    "**Vocabulary Density**"
   ]
  },
  {
   "cell_type": "markdown",
   "metadata": {},
   "source": [
    "get vocabularity density for given text"
   ]
  },
  {
   "cell_type": "code",
   "execution_count": 5,
   "metadata": {},
   "outputs": [],
   "source": [
    "def getVD(text):\n",
    "  tokens = nltk.word_tokenize(text)\n",
    "  tagged = nltk.pos_tag(tokens)\n",
    "  nn = []\n",
    "  ok = 'NN' \n",
    "  for i in tagged:\n",
    "    if ok == i[1]:\n",
    "      nn.append(i[0])\n",
    "  nn1 = [re.sub('[^a-zA-Z0-9]+', '', _) for _ in nn]\n",
    "  nn2 = []\n",
    "  for i in nn1:\n",
    "    if len(i) > 2:\n",
    "      nn2.append(i)\n",
    "    else:\n",
    "      nn2.append('no text')\n",
    "  try:\n",
    "    VD = len(np.unique(nn2)) / len(nn2)\n",
    "  except ZeroDivisionError:\n",
    "    VD = 1\n",
    "  return VD"
   ]
  },
  {
   "cell_type": "markdown",
   "metadata": {},
   "source": [
    "**Words per Sentence**"
   ]
  },
  {
   "cell_type": "markdown",
   "metadata": {},
   "source": [
    "get words per sentence for given text"
   ]
  },
  {
   "cell_type": "code",
   "execution_count": 6,
   "metadata": {},
   "outputs": [],
   "source": [
    "def getWPS(text):\n",
    "  tokens = nltk.word_tokenize(text)\n",
    "  words = tokens\n",
    "  sentences = [[]]\n",
    "  ends = set(\".?!;:\")\n",
    "  for word in words:\n",
    "    if word in ends: \n",
    "      sentences.append([])\n",
    "    else: \n",
    "      sentences[-1].append(word)\n",
    "  if sentences[0]:\n",
    "    if not sentences[-1]: sentences.pop()\n",
    "    wps = sum(len(s) for s in sentences)/len(sentences)\n",
    "    #print(\"average words per sentence: \", wps)\n",
    "    return wps"
   ]
  },
  {
   "cell_type": "markdown",
   "metadata": {},
   "source": [
    "**Words per Text**"
   ]
  },
  {
   "cell_type": "markdown",
   "metadata": {},
   "source": [
    "get words per text for given text"
   ]
  },
  {
   "cell_type": "code",
   "execution_count": 7,
   "metadata": {},
   "outputs": [],
   "source": [
    "def getWPT(text):\n",
    "    tokens = nltk.word_tokenize(text)\n",
    "    words = tokens\n",
    "    sentences = [[]]\n",
    "    for word in words:\n",
    "        sentences.append([word])\n",
    "    wpt = len(sentences)\n",
    "    return wpt"
   ]
  },
  {
   "cell_type": "markdown",
   "metadata": {},
   "source": [
    "**Generating new DataFrame**"
   ]
  },
  {
   "cell_type": "code",
   "execution_count": 8,
   "metadata": {},
   "outputs": [
    {
     "data": {
      "text/html": [
       "<div>\n",
       "<style scoped>\n",
       "    .dataframe tbody tr th:only-of-type {\n",
       "        vertical-align: middle;\n",
       "    }\n",
       "\n",
       "    .dataframe tbody tr th {\n",
       "        vertical-align: top;\n",
       "    }\n",
       "\n",
       "    .dataframe thead th {\n",
       "        text-align: right;\n",
       "    }\n",
       "</style>\n",
       "<table border=\"1\" class=\"dataframe\">\n",
       "  <thead>\n",
       "    <tr style=\"text-align: right;\">\n",
       "      <th></th>\n",
       "      <th>page_id</th>\n",
       "      <th>page_title</th>\n",
       "      <th>revision_id</th>\n",
       "      <th>timestamp</th>\n",
       "      <th>comment</th>\n",
       "      <th>contributor_id</th>\n",
       "      <th>contributor_name</th>\n",
       "      <th>bytes</th>\n",
       "      <th>revtext</th>\n",
       "      <th>dates</th>\n",
       "      <th>times</th>\n",
       "      <th>revbytes</th>\n",
       "      <th>revperc</th>\n",
       "    </tr>\n",
       "  </thead>\n",
       "  <tbody>\n",
       "    <tr>\n",
       "      <th>0</th>\n",
       "      <td>10</td>\n",
       "      <td>AccessibleComputing</td>\n",
       "      <td>233192</td>\n",
       "      <td>2001-01-21 02:12:21</td>\n",
       "      <td>*</td>\n",
       "      <td>99</td>\n",
       "      <td>RoseParks</td>\n",
       "      <td>124</td>\n",
       "      <td>This subject covers* AssistiveTechnology* Acce...</td>\n",
       "      <td>2001-01-21</td>\n",
       "      <td>02:12:21</td>\n",
       "      <td>2848</td>\n",
       "      <td>4.353933</td>\n",
       "    </tr>\n",
       "    <tr>\n",
       "      <th>1</th>\n",
       "      <td>10</td>\n",
       "      <td>AccessibleComputing</td>\n",
       "      <td>862220</td>\n",
       "      <td>2002-02-25 15:43:11</td>\n",
       "      <td>Automated conversion</td>\n",
       "      <td>1226483</td>\n",
       "      <td>Conversion script</td>\n",
       "      <td>35</td>\n",
       "      <td>#REDIRECT [[Accessible Computing]]</td>\n",
       "      <td>2002-02-25</td>\n",
       "      <td>15:43:11</td>\n",
       "      <td>2848</td>\n",
       "      <td>1.228933</td>\n",
       "    </tr>\n",
       "    <tr>\n",
       "      <th>2</th>\n",
       "      <td>10</td>\n",
       "      <td>AccessibleComputing</td>\n",
       "      <td>15898945</td>\n",
       "      <td>2003-04-25 22:18:38</td>\n",
       "      <td>Fixing redirect</td>\n",
       "      <td>7543</td>\n",
       "      <td>Ams80</td>\n",
       "      <td>34</td>\n",
       "      <td>#REDIRECT [[Accessible_computing]]</td>\n",
       "      <td>2003-04-25</td>\n",
       "      <td>22:18:38</td>\n",
       "      <td>2848</td>\n",
       "      <td>1.193820</td>\n",
       "    </tr>\n",
       "    <tr>\n",
       "      <th>3</th>\n",
       "      <td>10</td>\n",
       "      <td>AccessibleComputing</td>\n",
       "      <td>56681914</td>\n",
       "      <td>2006-06-03 16:55:41</td>\n",
       "      <td>fix double redirect</td>\n",
       "      <td>516514</td>\n",
       "      <td>Nzd</td>\n",
       "      <td>36</td>\n",
       "      <td>#REDIRECT [[Computer accessibility]]</td>\n",
       "      <td>2006-06-03</td>\n",
       "      <td>16:55:41</td>\n",
       "      <td>2848</td>\n",
       "      <td>1.264045</td>\n",
       "    </tr>\n",
       "    <tr>\n",
       "      <th>4</th>\n",
       "      <td>10</td>\n",
       "      <td>AccessibleComputing</td>\n",
       "      <td>74466685</td>\n",
       "      <td>2006-09-08 04:16:04</td>\n",
       "      <td>cat rd</td>\n",
       "      <td>750223</td>\n",
       "      <td>Rory096</td>\n",
       "      <td>57</td>\n",
       "      <td>#REDIRECT [[Computer accessibility]] {{R from ...</td>\n",
       "      <td>2006-09-08</td>\n",
       "      <td>04:16:04</td>\n",
       "      <td>2848</td>\n",
       "      <td>2.001404</td>\n",
       "    </tr>\n",
       "  </tbody>\n",
       "</table>\n",
       "</div>"
      ],
      "text/plain": [
       "   page_id           page_title  revision_id            timestamp  \\\n",
       "0       10  AccessibleComputing       233192  2001-01-21 02:12:21   \n",
       "1       10  AccessibleComputing       862220  2002-02-25 15:43:11   \n",
       "2       10  AccessibleComputing     15898945  2003-04-25 22:18:38   \n",
       "3       10  AccessibleComputing     56681914  2006-06-03 16:55:41   \n",
       "4       10  AccessibleComputing     74466685  2006-09-08 04:16:04   \n",
       "\n",
       "                comment contributor_id   contributor_name  bytes  \\\n",
       "0                     *             99          RoseParks    124   \n",
       "1  Automated conversion        1226483  Conversion script     35   \n",
       "2       Fixing redirect           7543              Ams80     34   \n",
       "3   fix double redirect         516514                Nzd     36   \n",
       "4                cat rd         750223            Rory096     57   \n",
       "\n",
       "                                             revtext       dates     times  \\\n",
       "0  This subject covers* AssistiveTechnology* Acce...  2001-01-21  02:12:21   \n",
       "1                 #REDIRECT [[Accessible Computing]]  2002-02-25  15:43:11   \n",
       "2                 #REDIRECT [[Accessible_computing]]  2003-04-25  22:18:38   \n",
       "3               #REDIRECT [[Computer accessibility]]  2006-06-03  16:55:41   \n",
       "4  #REDIRECT [[Computer accessibility]] {{R from ...  2006-09-08  04:16:04   \n",
       "\n",
       "   revbytes   revperc  \n",
       "0      2848  4.353933  \n",
       "1      2848  1.228933  \n",
       "2      2848  1.193820  \n",
       "3      2848  1.264045  \n",
       "4      2848  2.001404  "
      ]
     },
     "execution_count": 8,
     "metadata": {},
     "output_type": "execute_result"
    }
   ],
   "source": [
    "df = pd.read_csv('p1p857.csv', index_col=0)\n",
    "df.head()"
   ]
  },
  {
   "cell_type": "markdown",
   "metadata": {},
   "source": [
    "Taking a look at the Page Titles"
   ]
  },
  {
   "cell_type": "code",
   "execution_count": 10,
   "metadata": {},
   "outputs": [
    {
     "data": {
      "text/plain": [
       "array(['AccessibleComputing', 'Anarchism', 'AfghanistanHistory',\n",
       "       'AfghanistanGeography', 'AfghanistanPeople',\n",
       "       'AfghanistanCommunications', 'AfghanistanTransportations',\n",
       "       'AfghanistanMilitary', 'AfghanistanTransnationalIssues',\n",
       "       'AssistiveTechnology', 'AmoeboidTaxa', 'Autism', 'AlbaniaHistory',\n",
       "       'AlbaniaPeople', 'AsWeMayThink', 'AlbaniaGovernment',\n",
       "       'AlbaniaEconomy', 'Albedo', 'AfroAsiaticLanguages',\n",
       "       'ArtificalLanguages', 'AbacuS', 'AbalonE', 'AbbadideS', 'AbbesS',\n",
       "       'AbbevilleFrance', 'AbbeY', 'AbboT', 'Abbreviations',\n",
       "       'AtlasShrugged', 'ArtificialLanguages', 'AtlasShruggedCharacters',\n",
       "       'AtlasShruggedCompanies', 'AyersMusicPublishingCompany',\n",
       "       'Talk:Atlas Shrugged', 'AfricanAmericanPeople', 'AdolfHitler',\n",
       "       'AbeceDarians', 'AbeL', 'AbensbergGermany', 'AberdeenSouthDakota',\n",
       "       'ArthurKoestler', 'AynRand', 'AlexanderTheGreat',\n",
       "       'AnchorageAlaska', 'ArgumentForms',\n",
       "       'ArgumentsForTheExistenceOfGod', 'AnarchY', 'AsciiArt',\n",
       "       'AcademyAwards', 'AcademyAwards/BestPicture', 'AustriaLanguage',\n",
       "       'AcademicElitism', 'AxiomOfChoice', 'AmericanFootball', 'AmericA',\n",
       "       'AnnaKournikova', 'AndorrA', 'AustroAsiaticLanguages', 'ActresseS',\n",
       "       'A', 'AnarchoCapitalism', 'AnarchoCapitalists',\n",
       "       'User:AnonymousCoward', 'ActressesS', 'AnAmericanInParis',\n",
       "       'AutoMorphism', 'ActionFilm', 'Alabama', 'AfricA', 'Achilles',\n",
       "       'AppliedStatistics', 'Abraham Lincoln', 'Aristotle',\n",
       "       'An American in Paris', 'Academy Award for Best Production Design',\n",
       "       'Academy Awards', 'Action Film', 'Actrius', 'Animalia (book)',\n",
       "       'International Atomic Time', 'Altruism', 'AutoRacing', 'Ayn Rand',\n",
       "       'Alain Connes', 'Allan Dwan', 'Algeria/People',\n",
       "       'Algeria/Transnational Issues', 'Talk:Algeria', 'Algeria',\n",
       "       'List of Atlas Shrugged characters',\n",
       "       'Topics of note in Atlas Shrugged', 'Anthropology',\n",
       "       'Agricultural science', 'Alchemy', 'Alien', 'Astronomer',\n",
       "       'Talk:Altruism/Archive 1', 'Ameboid stage', 'ASCII',\n",
       "       'Ashmore And Cartier Islands'], dtype=object)"
      ]
     },
     "execution_count": 10,
     "metadata": {},
     "output_type": "execute_result"
    }
   ],
   "source": [
    "titles = df['page_title'].unique()\n",
    "titles[:100]"
   ]
  },
  {
   "cell_type": "markdown",
   "metadata": {},
   "source": [
    "get URLs of original and recent textversion of every article in the df"
   ]
  },
  {
   "cell_type": "code",
   "execution_count": 11,
   "metadata": {},
   "outputs": [],
   "source": [
    "original = []\n",
    "recent = []\n",
    "\n",
    "for i in df['page_title'].unique():\n",
    "    original.append(getOldSoup(i))\n",
    "    recent.append(getRecentSoup(i))"
   ]
  },
  {
   "cell_type": "markdown",
   "metadata": {},
   "source": [
    "store tuples in list: [(original url, recent url)]"
   ]
  },
  {
   "cell_type": "code",
   "execution_count": 12,
   "metadata": {},
   "outputs": [],
   "source": [
    "urlis = list(zip(original, recent))"
   ]
  },
  {
   "cell_type": "markdown",
   "metadata": {},
   "source": [
    "create new dataframe with title, original and recent"
   ]
  },
  {
   "cell_type": "code",
   "execution_count": null,
   "metadata": {},
   "outputs": [],
   "source": [
    "textdf = cl.getTextDF(urlis)"
   ]
  },
  {
   "cell_type": "code",
   "execution_count": 17,
   "metadata": {},
   "outputs": [
    {
     "data": {
      "text/html": [
       "<div>\n",
       "<style scoped>\n",
       "    .dataframe tbody tr th:only-of-type {\n",
       "        vertical-align: middle;\n",
       "    }\n",
       "\n",
       "    .dataframe tbody tr th {\n",
       "        vertical-align: top;\n",
       "    }\n",
       "\n",
       "    .dataframe thead th {\n",
       "        text-align: right;\n",
       "    }\n",
       "</style>\n",
       "<table border=\"1\" class=\"dataframe\">\n",
       "  <thead>\n",
       "    <tr style=\"text-align: right;\">\n",
       "      <th></th>\n",
       "      <th>page_title</th>\n",
       "      <th>original</th>\n",
       "      <th>recent</th>\n",
       "    </tr>\n",
       "  </thead>\n",
       "  <tbody>\n",
       "    <tr>\n",
       "      <th>0</th>\n",
       "      <td>Anarchism</td>\n",
       "      <td>Anarchism is a name taken by various political...</td>\n",
       "      <td>For other uses,see Anarchism (disambiguation)....</td>\n",
       "    </tr>\n",
       "    <tr>\n",
       "      <th>1</th>\n",
       "      <td>Autism</td>\n",
       "      <td>Autism is a complex pervasive developmental di...</td>\n",
       "      <td>This article is about the classic autistic dis...</td>\n",
       "    </tr>\n",
       "    <tr>\n",
       "      <th>2</th>\n",
       "      <td>Albedo</td>\n",
       "      <td>In climatology,the albedo of a surface is the ...</td>\n",
       "      <td>For other uses,see Albedo (disambiguation).The...</td>\n",
       "    </tr>\n",
       "    <tr>\n",
       "      <th>3</th>\n",
       "      <td>Talk:Atlas Shrugged</td>\n",
       "      <td>Cleanup&amp;lt;/ 1 Cleanup2 Bias of 'Influences a...</td>\n",
       "      <td>class=ext-discussiontools-init-sectionExtern...</td>\n",
       "    </tr>\n",
       "    <tr>\n",
       "      <th>4</th>\n",
       "      <td>A</td>\n",
       "      <td>The letter A is the first letter in the Roman ...</td>\n",
       "      <td>This article is about the Roman letter.For oth...</td>\n",
       "    </tr>\n",
       "  </tbody>\n",
       "</table>\n",
       "</div>"
      ],
      "text/plain": [
       "            page_title                                           original  \\\n",
       "0            Anarchism  Anarchism is a name taken by various political...   \n",
       "1               Autism  Autism is a complex pervasive developmental di...   \n",
       "2               Albedo  In climatology,the albedo of a surface is the ...   \n",
       "3  Talk:Atlas Shrugged   Cleanup&lt;/ 1 Cleanup2 Bias of 'Influences a...   \n",
       "4                    A  The letter A is the first letter in the Roman ...   \n",
       "\n",
       "                                              recent  \n",
       "0  For other uses,see Anarchism (disambiguation)....  \n",
       "1  This article is about the classic autistic dis...  \n",
       "2  For other uses,see Albedo (disambiguation).The...  \n",
       "3    class=ext-discussiontools-init-sectionExtern...  \n",
       "4  This article is about the Roman letter.For oth...  "
      ]
     },
     "execution_count": 17,
     "metadata": {},
     "output_type": "execute_result"
    }
   ],
   "source": [
    "textdf.head()"
   ]
  },
  {
   "cell_type": "markdown",
   "metadata": {},
   "source": [
    "Remove all page titles starting with the strings 'talk' or 'user' and clear table from page titles containing 'disambiguation'"
   ]
  },
  {
   "cell_type": "code",
   "execution_count": 18,
   "metadata": {},
   "outputs": [],
   "source": [
    "filter = (~textdf['page_title'].str.contains('^Talk:')) & (~textdf['page_title'].str.contains('^User:')) & (~textdf['page_title'].str.contains('disambiguation'))"
   ]
  },
  {
   "cell_type": "code",
   "execution_count": 19,
   "metadata": {},
   "outputs": [
    {
     "data": {
      "text/html": [
       "<div>\n",
       "<style scoped>\n",
       "    .dataframe tbody tr th:only-of-type {\n",
       "        vertical-align: middle;\n",
       "    }\n",
       "\n",
       "    .dataframe tbody tr th {\n",
       "        vertical-align: top;\n",
       "    }\n",
       "\n",
       "    .dataframe thead th {\n",
       "        text-align: right;\n",
       "    }\n",
       "</style>\n",
       "<table border=\"1\" class=\"dataframe\">\n",
       "  <thead>\n",
       "    <tr style=\"text-align: right;\">\n",
       "      <th></th>\n",
       "      <th>page_title</th>\n",
       "      <th>original</th>\n",
       "      <th>recent</th>\n",
       "    </tr>\n",
       "  </thead>\n",
       "  <tbody>\n",
       "    <tr>\n",
       "      <th>0</th>\n",
       "      <td>Anarchism</td>\n",
       "      <td>Anarchism is a name taken by various political...</td>\n",
       "      <td>For other uses,see Anarchism (disambiguation)....</td>\n",
       "    </tr>\n",
       "    <tr>\n",
       "      <th>1</th>\n",
       "      <td>Autism</td>\n",
       "      <td>Autism is a complex pervasive developmental di...</td>\n",
       "      <td>This article is about the classic autistic dis...</td>\n",
       "    </tr>\n",
       "    <tr>\n",
       "      <th>2</th>\n",
       "      <td>Albedo</td>\n",
       "      <td>In climatology,the albedo of a surface is the ...</td>\n",
       "      <td>For other uses,see Albedo (disambiguation).The...</td>\n",
       "    </tr>\n",
       "    <tr>\n",
       "      <th>4</th>\n",
       "      <td>A</td>\n",
       "      <td>The letter A is the first letter in the Roman ...</td>\n",
       "      <td>This article is about the Roman letter.For oth...</td>\n",
       "    </tr>\n",
       "    <tr>\n",
       "      <th>6</th>\n",
       "      <td>Alabama</td>\n",
       "      <td>Alternate meanings: See Alabama (disambiguatio...</td>\n",
       "      <td>This article is about the U.S.state.For the ri...</td>\n",
       "    </tr>\n",
       "  </tbody>\n",
       "</table>\n",
       "</div>"
      ],
      "text/plain": [
       "  page_title                                           original  \\\n",
       "0  Anarchism  Anarchism is a name taken by various political...   \n",
       "1     Autism  Autism is a complex pervasive developmental di...   \n",
       "2     Albedo  In climatology,the albedo of a surface is the ...   \n",
       "4          A  The letter A is the first letter in the Roman ...   \n",
       "6    Alabama  Alternate meanings: See Alabama (disambiguatio...   \n",
       "\n",
       "                                              recent  \n",
       "0  For other uses,see Anarchism (disambiguation)....  \n",
       "1  This article is about the classic autistic dis...  \n",
       "2  For other uses,see Albedo (disambiguation).The...  \n",
       "4  This article is about the Roman letter.For oth...  \n",
       "6  This article is about the U.S.state.For the ri...  "
      ]
     },
     "execution_count": 19,
     "metadata": {},
     "output_type": "execute_result"
    }
   ],
   "source": [
    "textdf1 = textdf[filter]\n",
    "textdf1.head()"
   ]
  },
  {
   "cell_type": "markdown",
   "metadata": {},
   "source": [
    "check, if all 'old' entries (written without space) are eliminated and how many titles are left"
   ]
  },
  {
   "cell_type": "code",
   "execution_count": 20,
   "metadata": {},
   "outputs": [
    {
     "name": "stdout",
     "output_type": "stream",
     "text": [
      "entries:  160 \n",
      " ['Anarchism' 'Autism' 'Albedo' 'A' 'Alabama' 'Achilles' 'Abraham Lincoln'\n",
      " 'Aristotle' 'An American in Paris'\n",
      " 'Academy Award for Best Production Design'] ...\n"
     ]
    }
   ],
   "source": [
    "print( 'entries: ', len(textdf['page_title']), '\\n', textdf1['page_title'].unique()[:10], '...')"
   ]
  },
  {
   "cell_type": "markdown",
   "metadata": {},
   "source": [
    "create new columns with VD of old entries and VD of recent entries"
   ]
  },
  {
   "cell_type": "code",
   "execution_count": 22,
   "metadata": {},
   "outputs": [],
   "source": [
    "originalVD = []\n",
    "\n",
    "for i in textdf1['original']:\n",
    "    originalVD.append(getVD(i))"
   ]
  },
  {
   "cell_type": "code",
   "execution_count": 23,
   "metadata": {},
   "outputs": [],
   "source": [
    "recentVD = []\n",
    "\n",
    "for i in textdf1['recent']:\n",
    "    recentVD.append(getVD(i))"
   ]
  },
  {
   "cell_type": "code",
   "execution_count": 25,
   "metadata": {},
   "outputs": [
    {
     "data": {
      "text/plain": [
       "[(0.6679389312977099, 0.4892550143266476),\n",
       " (0.3984375, 0.4991896272285251),\n",
       " (0.5688888888888889, 0.4405940594059406),\n",
       " (0.5380710659898477, 0.47191011235955055),\n",
       " (0.6388888888888888, 0.4564404061998931),\n",
       " (0.6948051948051948, 0.5503626107977437),\n",
       " (0.4174454828660436, 0.5529847292919945),\n",
       " (0.6317135549872123, 0.4979683972911964),\n",
       " (0.9090909090909091, 0.6476868327402135),\n",
       " (0.8488372093023255, 0.8636363636363636)]"
      ]
     },
     "execution_count": 25,
     "metadata": {},
     "output_type": "execute_result"
    }
   ],
   "source": [
    "VDs = list(zip(originalVD, recentVD))\n",
    "VDs[:10]"
   ]
  },
  {
   "cell_type": "code",
   "execution_count": null,
   "metadata": {},
   "outputs": [],
   "source": [
    "textdf1['originalVD'] = originalVD"
   ]
  },
  {
   "cell_type": "code",
   "execution_count": null,
   "metadata": {},
   "outputs": [],
   "source": [
    "textdf1['recentVD'] = recentVD"
   ]
  },
  {
   "cell_type": "code",
   "execution_count": 28,
   "metadata": {},
   "outputs": [
    {
     "data": {
      "text/html": [
       "<div>\n",
       "<style scoped>\n",
       "    .dataframe tbody tr th:only-of-type {\n",
       "        vertical-align: middle;\n",
       "    }\n",
       "\n",
       "    .dataframe tbody tr th {\n",
       "        vertical-align: top;\n",
       "    }\n",
       "\n",
       "    .dataframe thead th {\n",
       "        text-align: right;\n",
       "    }\n",
       "</style>\n",
       "<table border=\"1\" class=\"dataframe\">\n",
       "  <thead>\n",
       "    <tr style=\"text-align: right;\">\n",
       "      <th></th>\n",
       "      <th>page_title</th>\n",
       "      <th>original</th>\n",
       "      <th>recent</th>\n",
       "      <th>originalVD</th>\n",
       "      <th>recentVD</th>\n",
       "    </tr>\n",
       "  </thead>\n",
       "  <tbody>\n",
       "    <tr>\n",
       "      <th>0</th>\n",
       "      <td>Anarchism</td>\n",
       "      <td>Anarchism is a name taken by various political...</td>\n",
       "      <td>For other uses,see Anarchism (disambiguation)....</td>\n",
       "      <td>0.667939</td>\n",
       "      <td>0.489255</td>\n",
       "    </tr>\n",
       "    <tr>\n",
       "      <th>1</th>\n",
       "      <td>Autism</td>\n",
       "      <td>Autism is a complex pervasive developmental di...</td>\n",
       "      <td>This article is about the classic autistic dis...</td>\n",
       "      <td>0.398438</td>\n",
       "      <td>0.499190</td>\n",
       "    </tr>\n",
       "    <tr>\n",
       "      <th>2</th>\n",
       "      <td>Albedo</td>\n",
       "      <td>In climatology,the albedo of a surface is the ...</td>\n",
       "      <td>For other uses,see Albedo (disambiguation).The...</td>\n",
       "      <td>0.568889</td>\n",
       "      <td>0.440594</td>\n",
       "    </tr>\n",
       "    <tr>\n",
       "      <th>4</th>\n",
       "      <td>A</td>\n",
       "      <td>The letter A is the first letter in the Roman ...</td>\n",
       "      <td>This article is about the Roman letter.For oth...</td>\n",
       "      <td>0.538071</td>\n",
       "      <td>0.471910</td>\n",
       "    </tr>\n",
       "    <tr>\n",
       "      <th>6</th>\n",
       "      <td>Alabama</td>\n",
       "      <td>Alternate meanings: See Alabama (disambiguatio...</td>\n",
       "      <td>This article is about the U.S.state.For the ri...</td>\n",
       "      <td>0.638889</td>\n",
       "      <td>0.456440</td>\n",
       "    </tr>\n",
       "  </tbody>\n",
       "</table>\n",
       "</div>"
      ],
      "text/plain": [
       "  page_title                                           original  \\\n",
       "0  Anarchism  Anarchism is a name taken by various political...   \n",
       "1     Autism  Autism is a complex pervasive developmental di...   \n",
       "2     Albedo  In climatology,the albedo of a surface is the ...   \n",
       "4          A  The letter A is the first letter in the Roman ...   \n",
       "6    Alabama  Alternate meanings: See Alabama (disambiguatio...   \n",
       "\n",
       "                                              recent  originalVD  recentVD  \n",
       "0  For other uses,see Anarchism (disambiguation)....    0.667939  0.489255  \n",
       "1  This article is about the classic autistic dis...    0.398438  0.499190  \n",
       "2  For other uses,see Albedo (disambiguation).The...    0.568889  0.440594  \n",
       "4  This article is about the Roman letter.For oth...    0.538071  0.471910  \n",
       "6  This article is about the U.S.state.For the ri...    0.638889  0.456440  "
      ]
     },
     "execution_count": 28,
     "metadata": {},
     "output_type": "execute_result"
    }
   ],
   "source": [
    "textdf1.head()"
   ]
  },
  {
   "cell_type": "markdown",
   "metadata": {},
   "source": [
    "create new columns for oldest and recent entries: words per text"
   ]
  },
  {
   "cell_type": "code",
   "execution_count": 29,
   "metadata": {},
   "outputs": [],
   "source": [
    "originalWPT = []\n",
    "\n",
    "for i in textdf1['original']:\n",
    "    originalWPT.append(getWPT(i))"
   ]
  },
  {
   "cell_type": "code",
   "execution_count": 30,
   "metadata": {},
   "outputs": [],
   "source": [
    "recentWPT = []\n",
    "\n",
    "for i in textdf1['recent']:\n",
    "    recentWPT.append(getWPT(i))"
   ]
  },
  {
   "cell_type": "code",
   "execution_count": null,
   "metadata": {},
   "outputs": [],
   "source": [
    "textdf1['originalWPT'] = originalWPT\n",
    "textdf1['recentWPT'] = recentWPT"
   ]
  },
  {
   "cell_type": "code",
   "execution_count": 32,
   "metadata": {},
   "outputs": [
    {
     "data": {
      "text/html": [
       "<div>\n",
       "<style scoped>\n",
       "    .dataframe tbody tr th:only-of-type {\n",
       "        vertical-align: middle;\n",
       "    }\n",
       "\n",
       "    .dataframe tbody tr th {\n",
       "        vertical-align: top;\n",
       "    }\n",
       "\n",
       "    .dataframe thead th {\n",
       "        text-align: right;\n",
       "    }\n",
       "</style>\n",
       "<table border=\"1\" class=\"dataframe\">\n",
       "  <thead>\n",
       "    <tr style=\"text-align: right;\">\n",
       "      <th></th>\n",
       "      <th>page_title</th>\n",
       "      <th>original</th>\n",
       "      <th>recent</th>\n",
       "      <th>originalVD</th>\n",
       "      <th>recentVD</th>\n",
       "      <th>originalWPT</th>\n",
       "      <th>recentWPT</th>\n",
       "    </tr>\n",
       "  </thead>\n",
       "  <tbody>\n",
       "    <tr>\n",
       "      <th>0</th>\n",
       "      <td>Anarchism</td>\n",
       "      <td>Anarchism is a name taken by various political...</td>\n",
       "      <td>For other uses,see Anarchism (disambiguation)....</td>\n",
       "      <td>0.667939</td>\n",
       "      <td>0.489255</td>\n",
       "      <td>1733</td>\n",
       "      <td>10518</td>\n",
       "    </tr>\n",
       "    <tr>\n",
       "      <th>1</th>\n",
       "      <td>Autism</td>\n",
       "      <td>Autism is a complex pervasive developmental di...</td>\n",
       "      <td>This article is about the classic autistic dis...</td>\n",
       "      <td>0.398438</td>\n",
       "      <td>0.499190</td>\n",
       "      <td>857</td>\n",
       "      <td>7320</td>\n",
       "    </tr>\n",
       "    <tr>\n",
       "      <th>2</th>\n",
       "      <td>Albedo</td>\n",
       "      <td>In climatology,the albedo of a surface is the ...</td>\n",
       "      <td>For other uses,see Albedo (disambiguation).The...</td>\n",
       "      <td>0.568889</td>\n",
       "      <td>0.440594</td>\n",
       "      <td>1426</td>\n",
       "      <td>4152</td>\n",
       "    </tr>\n",
       "    <tr>\n",
       "      <th>4</th>\n",
       "      <td>A</td>\n",
       "      <td>The letter A is the first letter in the Roman ...</td>\n",
       "      <td>This article is about the Roman letter.For oth...</td>\n",
       "      <td>0.538071</td>\n",
       "      <td>0.471910</td>\n",
       "      <td>1527</td>\n",
       "      <td>2386</td>\n",
       "    </tr>\n",
       "    <tr>\n",
       "      <th>6</th>\n",
       "      <td>Alabama</td>\n",
       "      <td>Alternate meanings: See Alabama (disambiguatio...</td>\n",
       "      <td>This article is about the U.S.state.For the ri...</td>\n",
       "      <td>0.638889</td>\n",
       "      <td>0.456440</td>\n",
       "      <td>491</td>\n",
       "      <td>13683</td>\n",
       "    </tr>\n",
       "  </tbody>\n",
       "</table>\n",
       "</div>"
      ],
      "text/plain": [
       "  page_title                                           original  \\\n",
       "0  Anarchism  Anarchism is a name taken by various political...   \n",
       "1     Autism  Autism is a complex pervasive developmental di...   \n",
       "2     Albedo  In climatology,the albedo of a surface is the ...   \n",
       "4          A  The letter A is the first letter in the Roman ...   \n",
       "6    Alabama  Alternate meanings: See Alabama (disambiguatio...   \n",
       "\n",
       "                                              recent  originalVD  recentVD  \\\n",
       "0  For other uses,see Anarchism (disambiguation)....    0.667939  0.489255   \n",
       "1  This article is about the classic autistic dis...    0.398438  0.499190   \n",
       "2  For other uses,see Albedo (disambiguation).The...    0.568889  0.440594   \n",
       "4  This article is about the Roman letter.For oth...    0.538071  0.471910   \n",
       "6  This article is about the U.S.state.For the ri...    0.638889  0.456440   \n",
       "\n",
       "   originalWPT  recentWPT  \n",
       "0         1733      10518  \n",
       "1          857       7320  \n",
       "2         1426       4152  \n",
       "4         1527       2386  \n",
       "6          491      13683  "
      ]
     },
     "execution_count": 32,
     "metadata": {},
     "output_type": "execute_result"
    }
   ],
   "source": [
    "textdf1.head()"
   ]
  },
  {
   "cell_type": "markdown",
   "metadata": {},
   "source": [
    "create columns for words per sentence for original and recent text"
   ]
  },
  {
   "cell_type": "code",
   "execution_count": 33,
   "metadata": {},
   "outputs": [],
   "source": [
    "originalWPS = []\n",
    "\n",
    "for i in textdf1['original']:\n",
    "    originalWPS.append(getWPS(i))"
   ]
  },
  {
   "cell_type": "code",
   "execution_count": 34,
   "metadata": {},
   "outputs": [],
   "source": [
    "recentWPS = []\n",
    "\n",
    "for i in textdf1['recent']:\n",
    "    recentWPS.append(getWPS(i))"
   ]
  },
  {
   "cell_type": "code",
   "execution_count": null,
   "metadata": {},
   "outputs": [],
   "source": [
    "textdf1['originalWPS'] = originalWPS\n",
    "textdf1['recentWPS'] = recentWPS"
   ]
  },
  {
   "cell_type": "code",
   "execution_count": 36,
   "metadata": {},
   "outputs": [
    {
     "data": {
      "text/html": [
       "<div>\n",
       "<style scoped>\n",
       "    .dataframe tbody tr th:only-of-type {\n",
       "        vertical-align: middle;\n",
       "    }\n",
       "\n",
       "    .dataframe tbody tr th {\n",
       "        vertical-align: top;\n",
       "    }\n",
       "\n",
       "    .dataframe thead th {\n",
       "        text-align: right;\n",
       "    }\n",
       "</style>\n",
       "<table border=\"1\" class=\"dataframe\">\n",
       "  <thead>\n",
       "    <tr style=\"text-align: right;\">\n",
       "      <th></th>\n",
       "      <th>page_title</th>\n",
       "      <th>original</th>\n",
       "      <th>recent</th>\n",
       "      <th>originalVD</th>\n",
       "      <th>recentVD</th>\n",
       "      <th>originalWPT</th>\n",
       "      <th>recentWPT</th>\n",
       "      <th>originalWPS</th>\n",
       "      <th>recentWPS</th>\n",
       "    </tr>\n",
       "  </thead>\n",
       "  <tbody>\n",
       "    <tr>\n",
       "      <th>0</th>\n",
       "      <td>Anarchism</td>\n",
       "      <td>Anarchism is a name taken by various political...</td>\n",
       "      <td>For other uses,see Anarchism (disambiguation)....</td>\n",
       "      <td>0.667939</td>\n",
       "      <td>0.489255</td>\n",
       "      <td>1733</td>\n",
       "      <td>10518</td>\n",
       "      <td>32.326923</td>\n",
       "      <td>25.161692</td>\n",
       "    </tr>\n",
       "    <tr>\n",
       "      <th>1</th>\n",
       "      <td>Autism</td>\n",
       "      <td>Autism is a complex pervasive developmental di...</td>\n",
       "      <td>This article is about the classic autistic dis...</td>\n",
       "      <td>0.398438</td>\n",
       "      <td>0.499190</td>\n",
       "      <td>857</td>\n",
       "      <td>7320</td>\n",
       "      <td>25.781250</td>\n",
       "      <td>84.116279</td>\n",
       "    </tr>\n",
       "    <tr>\n",
       "      <th>2</th>\n",
       "      <td>Albedo</td>\n",
       "      <td>In climatology,the albedo of a surface is the ...</td>\n",
       "      <td>For other uses,see Albedo (disambiguation).The...</td>\n",
       "      <td>0.568889</td>\n",
       "      <td>0.440594</td>\n",
       "      <td>1426</td>\n",
       "      <td>4152</td>\n",
       "      <td>51.777778</td>\n",
       "      <td>152.777778</td>\n",
       "    </tr>\n",
       "    <tr>\n",
       "      <th>4</th>\n",
       "      <td>A</td>\n",
       "      <td>The letter A is the first letter in the Roman ...</td>\n",
       "      <td>This article is about the Roman letter.For oth...</td>\n",
       "      <td>0.538071</td>\n",
       "      <td>0.471910</td>\n",
       "      <td>1527</td>\n",
       "      <td>2386</td>\n",
       "      <td>33.681818</td>\n",
       "      <td>25.208791</td>\n",
       "    </tr>\n",
       "    <tr>\n",
       "      <th>6</th>\n",
       "      <td>Alabama</td>\n",
       "      <td>Alternate meanings: See Alabama (disambiguatio...</td>\n",
       "      <td>This article is about the U.S.state.For the ri...</td>\n",
       "      <td>0.638889</td>\n",
       "      <td>0.456440</td>\n",
       "      <td>491</td>\n",
       "      <td>13683</td>\n",
       "      <td>13.441176</td>\n",
       "      <td>93.358621</td>\n",
       "    </tr>\n",
       "  </tbody>\n",
       "</table>\n",
       "</div>"
      ],
      "text/plain": [
       "  page_title                                           original  \\\n",
       "0  Anarchism  Anarchism is a name taken by various political...   \n",
       "1     Autism  Autism is a complex pervasive developmental di...   \n",
       "2     Albedo  In climatology,the albedo of a surface is the ...   \n",
       "4          A  The letter A is the first letter in the Roman ...   \n",
       "6    Alabama  Alternate meanings: See Alabama (disambiguatio...   \n",
       "\n",
       "                                              recent  originalVD  recentVD  \\\n",
       "0  For other uses,see Anarchism (disambiguation)....    0.667939  0.489255   \n",
       "1  This article is about the classic autistic dis...    0.398438  0.499190   \n",
       "2  For other uses,see Albedo (disambiguation).The...    0.568889  0.440594   \n",
       "4  This article is about the Roman letter.For oth...    0.538071  0.471910   \n",
       "6  This article is about the U.S.state.For the ri...    0.638889  0.456440   \n",
       "\n",
       "   originalWPT  recentWPT  originalWPS   recentWPS  \n",
       "0         1733      10518    32.326923   25.161692  \n",
       "1          857       7320    25.781250   84.116279  \n",
       "2         1426       4152    51.777778  152.777778  \n",
       "4         1527       2386    33.681818   25.208791  \n",
       "6          491      13683    13.441176   93.358621  "
      ]
     },
     "execution_count": 36,
     "metadata": {},
     "output_type": "execute_result"
    }
   ],
   "source": [
    "textdf1.head()"
   ]
  },
  {
   "cell_type": "markdown",
   "metadata": {},
   "source": [
    "add new column with number of revisions of the article"
   ]
  },
  {
   "cell_type": "code",
   "execution_count": 37,
   "metadata": {},
   "outputs": [
    {
     "data": {
      "text/html": [
       "<div>\n",
       "<style scoped>\n",
       "    .dataframe tbody tr th:only-of-type {\n",
       "        vertical-align: middle;\n",
       "    }\n",
       "\n",
       "    .dataframe tbody tr th {\n",
       "        vertical-align: top;\n",
       "    }\n",
       "\n",
       "    .dataframe thead th {\n",
       "        text-align: right;\n",
       "    }\n",
       "</style>\n",
       "<table border=\"1\" class=\"dataframe\">\n",
       "  <thead>\n",
       "    <tr style=\"text-align: right;\">\n",
       "      <th></th>\n",
       "      <th>page_title</th>\n",
       "      <th>original</th>\n",
       "      <th>recent</th>\n",
       "      <th>originalVD</th>\n",
       "      <th>recentVD</th>\n",
       "      <th>originalWPT</th>\n",
       "      <th>recentWPT</th>\n",
       "      <th>originalWPS</th>\n",
       "      <th>recentWPS</th>\n",
       "      <th>revision_id</th>\n",
       "    </tr>\n",
       "  </thead>\n",
       "  <tbody>\n",
       "    <tr>\n",
       "      <th>0</th>\n",
       "      <td>Anarchism</td>\n",
       "      <td>Anarchism is a name taken by various political...</td>\n",
       "      <td>For other uses,see Anarchism (disambiguation)....</td>\n",
       "      <td>0.667939</td>\n",
       "      <td>0.489255</td>\n",
       "      <td>1733</td>\n",
       "      <td>10518</td>\n",
       "      <td>32.326923</td>\n",
       "      <td>25.161692</td>\n",
       "      <td>19961.0</td>\n",
       "    </tr>\n",
       "    <tr>\n",
       "      <th>1</th>\n",
       "      <td>Autism</td>\n",
       "      <td>Autism is a complex pervasive developmental di...</td>\n",
       "      <td>This article is about the classic autistic dis...</td>\n",
       "      <td>0.398438</td>\n",
       "      <td>0.499190</td>\n",
       "      <td>857</td>\n",
       "      <td>7320</td>\n",
       "      <td>25.781250</td>\n",
       "      <td>84.116279</td>\n",
       "      <td>10646.0</td>\n",
       "    </tr>\n",
       "    <tr>\n",
       "      <th>2</th>\n",
       "      <td>Albedo</td>\n",
       "      <td>In climatology,the albedo of a surface is the ...</td>\n",
       "      <td>For other uses,see Albedo (disambiguation).The...</td>\n",
       "      <td>0.568889</td>\n",
       "      <td>0.440594</td>\n",
       "      <td>1426</td>\n",
       "      <td>4152</td>\n",
       "      <td>51.777778</td>\n",
       "      <td>152.777778</td>\n",
       "      <td>1253.0</td>\n",
       "    </tr>\n",
       "    <tr>\n",
       "      <th>3</th>\n",
       "      <td>A</td>\n",
       "      <td>The letter A is the first letter in the Roman ...</td>\n",
       "      <td>This article is about the Roman letter.For oth...</td>\n",
       "      <td>0.538071</td>\n",
       "      <td>0.471910</td>\n",
       "      <td>1527</td>\n",
       "      <td>2386</td>\n",
       "      <td>33.681818</td>\n",
       "      <td>25.208791</td>\n",
       "      <td>4802.0</td>\n",
       "    </tr>\n",
       "    <tr>\n",
       "      <th>4</th>\n",
       "      <td>Alabama</td>\n",
       "      <td>Alternate meanings: See Alabama (disambiguatio...</td>\n",
       "      <td>This article is about the U.S.state.For the ri...</td>\n",
       "      <td>0.638889</td>\n",
       "      <td>0.456440</td>\n",
       "      <td>491</td>\n",
       "      <td>13683</td>\n",
       "      <td>13.441176</td>\n",
       "      <td>93.358621</td>\n",
       "      <td>10202.0</td>\n",
       "    </tr>\n",
       "  </tbody>\n",
       "</table>\n",
       "</div>"
      ],
      "text/plain": [
       "  page_title                                           original  \\\n",
       "0  Anarchism  Anarchism is a name taken by various political...   \n",
       "1     Autism  Autism is a complex pervasive developmental di...   \n",
       "2     Albedo  In climatology,the albedo of a surface is the ...   \n",
       "3          A  The letter A is the first letter in the Roman ...   \n",
       "4    Alabama  Alternate meanings: See Alabama (disambiguatio...   \n",
       "\n",
       "                                              recent  originalVD  recentVD  \\\n",
       "0  For other uses,see Anarchism (disambiguation)....    0.667939  0.489255   \n",
       "1  This article is about the classic autistic dis...    0.398438  0.499190   \n",
       "2  For other uses,see Albedo (disambiguation).The...    0.568889  0.440594   \n",
       "3  This article is about the Roman letter.For oth...    0.538071  0.471910   \n",
       "4  This article is about the U.S.state.For the ri...    0.638889  0.456440   \n",
       "\n",
       "   originalWPT  recentWPT  originalWPS   recentWPS  revision_id  \n",
       "0         1733      10518    32.326923   25.161692      19961.0  \n",
       "1          857       7320    25.781250   84.116279      10646.0  \n",
       "2         1426       4152    51.777778  152.777778       1253.0  \n",
       "3         1527       2386    33.681818   25.208791       4802.0  \n",
       "4          491      13683    13.441176   93.358621      10202.0  "
      ]
     },
     "execution_count": 37,
     "metadata": {},
     "output_type": "execute_result"
    }
   ],
   "source": [
    "textdf2 = pd.merge(textdf1, df.groupby(['page_title']).agg({'revision_id' : 'count'}).reset_index(), how='left')\n",
    "textdf2.head()"
   ]
  },
  {
   "cell_type": "markdown",
   "metadata": {},
   "source": [
    "add new column with number of contributors per article"
   ]
  },
  {
   "cell_type": "code",
   "execution_count": 38,
   "metadata": {},
   "outputs": [
    {
     "data": {
      "text/html": [
       "<div>\n",
       "<style scoped>\n",
       "    .dataframe tbody tr th:only-of-type {\n",
       "        vertical-align: middle;\n",
       "    }\n",
       "\n",
       "    .dataframe tbody tr th {\n",
       "        vertical-align: top;\n",
       "    }\n",
       "\n",
       "    .dataframe thead th {\n",
       "        text-align: right;\n",
       "    }\n",
       "</style>\n",
       "<table border=\"1\" class=\"dataframe\">\n",
       "  <thead>\n",
       "    <tr style=\"text-align: right;\">\n",
       "      <th></th>\n",
       "      <th>page_title</th>\n",
       "      <th>original</th>\n",
       "      <th>recent</th>\n",
       "      <th>originalVD</th>\n",
       "      <th>recentVD</th>\n",
       "      <th>originalWPT</th>\n",
       "      <th>recentWPT</th>\n",
       "      <th>originalWPS</th>\n",
       "      <th>recentWPS</th>\n",
       "      <th>revision_id</th>\n",
       "      <th>contributor_id</th>\n",
       "    </tr>\n",
       "  </thead>\n",
       "  <tbody>\n",
       "    <tr>\n",
       "      <th>0</th>\n",
       "      <td>Anarchism</td>\n",
       "      <td>Anarchism is a name taken by various political...</td>\n",
       "      <td>For other uses,see Anarchism (disambiguation)....</td>\n",
       "      <td>0.667939</td>\n",
       "      <td>0.489255</td>\n",
       "      <td>1733</td>\n",
       "      <td>10518</td>\n",
       "      <td>32.326923</td>\n",
       "      <td>25.161692</td>\n",
       "      <td>19961.0</td>\n",
       "      <td>3797.0</td>\n",
       "    </tr>\n",
       "    <tr>\n",
       "      <th>1</th>\n",
       "      <td>Autism</td>\n",
       "      <td>Autism is a complex pervasive developmental di...</td>\n",
       "      <td>This article is about the classic autistic dis...</td>\n",
       "      <td>0.398438</td>\n",
       "      <td>0.499190</td>\n",
       "      <td>857</td>\n",
       "      <td>7320</td>\n",
       "      <td>25.781250</td>\n",
       "      <td>84.116279</td>\n",
       "      <td>10646.0</td>\n",
       "      <td>3757.0</td>\n",
       "    </tr>\n",
       "    <tr>\n",
       "      <th>2</th>\n",
       "      <td>Albedo</td>\n",
       "      <td>In climatology,the albedo of a surface is the ...</td>\n",
       "      <td>For other uses,see Albedo (disambiguation).The...</td>\n",
       "      <td>0.568889</td>\n",
       "      <td>0.440594</td>\n",
       "      <td>1426</td>\n",
       "      <td>4152</td>\n",
       "      <td>51.777778</td>\n",
       "      <td>152.777778</td>\n",
       "      <td>1253.0</td>\n",
       "      <td>701.0</td>\n",
       "    </tr>\n",
       "    <tr>\n",
       "      <th>3</th>\n",
       "      <td>A</td>\n",
       "      <td>The letter A is the first letter in the Roman ...</td>\n",
       "      <td>This article is about the Roman letter.For oth...</td>\n",
       "      <td>0.538071</td>\n",
       "      <td>0.471910</td>\n",
       "      <td>1527</td>\n",
       "      <td>2386</td>\n",
       "      <td>33.681818</td>\n",
       "      <td>25.208791</td>\n",
       "      <td>4802.0</td>\n",
       "      <td>2609.0</td>\n",
       "    </tr>\n",
       "    <tr>\n",
       "      <th>4</th>\n",
       "      <td>Alabama</td>\n",
       "      <td>Alternate meanings: See Alabama (disambiguatio...</td>\n",
       "      <td>This article is about the U.S.state.For the ri...</td>\n",
       "      <td>0.638889</td>\n",
       "      <td>0.456440</td>\n",
       "      <td>491</td>\n",
       "      <td>13683</td>\n",
       "      <td>13.441176</td>\n",
       "      <td>93.358621</td>\n",
       "      <td>10202.0</td>\n",
       "      <td>4485.0</td>\n",
       "    </tr>\n",
       "  </tbody>\n",
       "</table>\n",
       "</div>"
      ],
      "text/plain": [
       "  page_title                                           original  \\\n",
       "0  Anarchism  Anarchism is a name taken by various political...   \n",
       "1     Autism  Autism is a complex pervasive developmental di...   \n",
       "2     Albedo  In climatology,the albedo of a surface is the ...   \n",
       "3          A  The letter A is the first letter in the Roman ...   \n",
       "4    Alabama  Alternate meanings: See Alabama (disambiguatio...   \n",
       "\n",
       "                                              recent  originalVD  recentVD  \\\n",
       "0  For other uses,see Anarchism (disambiguation)....    0.667939  0.489255   \n",
       "1  This article is about the classic autistic dis...    0.398438  0.499190   \n",
       "2  For other uses,see Albedo (disambiguation).The...    0.568889  0.440594   \n",
       "3  This article is about the Roman letter.For oth...    0.538071  0.471910   \n",
       "4  This article is about the U.S.state.For the ri...    0.638889  0.456440   \n",
       "\n",
       "   originalWPT  recentWPT  originalWPS   recentWPS  revision_id  \\\n",
       "0         1733      10518    32.326923   25.161692      19961.0   \n",
       "1          857       7320    25.781250   84.116279      10646.0   \n",
       "2         1426       4152    51.777778  152.777778       1253.0   \n",
       "3         1527       2386    33.681818   25.208791       4802.0   \n",
       "4          491      13683    13.441176   93.358621      10202.0   \n",
       "\n",
       "   contributor_id  \n",
       "0          3797.0  \n",
       "1          3757.0  \n",
       "2           701.0  \n",
       "3          2609.0  \n",
       "4          4485.0  "
      ]
     },
     "execution_count": 38,
     "metadata": {},
     "output_type": "execute_result"
    }
   ],
   "source": [
    "textdf3 = pd.merge(textdf2, df.groupby(['page_title']).agg({'contributor_id' : pd.Series.nunique}).reset_index(), how='left')\n",
    "textdf3.head()"
   ]
  },
  {
   "cell_type": "markdown",
   "metadata": {},
   "source": [
    "add column for unique contributor names (to compare, if given name or anon...)"
   ]
  },
  {
   "cell_type": "code",
   "execution_count": 39,
   "metadata": {},
   "outputs": [
    {
     "data": {
      "text/html": [
       "<div>\n",
       "<style scoped>\n",
       "    .dataframe tbody tr th:only-of-type {\n",
       "        vertical-align: middle;\n",
       "    }\n",
       "\n",
       "    .dataframe tbody tr th {\n",
       "        vertical-align: top;\n",
       "    }\n",
       "\n",
       "    .dataframe thead th {\n",
       "        text-align: right;\n",
       "    }\n",
       "</style>\n",
       "<table border=\"1\" class=\"dataframe\">\n",
       "  <thead>\n",
       "    <tr style=\"text-align: right;\">\n",
       "      <th></th>\n",
       "      <th>page_title</th>\n",
       "      <th>original</th>\n",
       "      <th>recent</th>\n",
       "      <th>originalVD</th>\n",
       "      <th>recentVD</th>\n",
       "      <th>originalWPT</th>\n",
       "      <th>recentWPT</th>\n",
       "      <th>originalWPS</th>\n",
       "      <th>recentWPS</th>\n",
       "      <th>revision_id</th>\n",
       "      <th>contributor_id</th>\n",
       "      <th>contributor_name</th>\n",
       "    </tr>\n",
       "  </thead>\n",
       "  <tbody>\n",
       "    <tr>\n",
       "      <th>0</th>\n",
       "      <td>Anarchism</td>\n",
       "      <td>Anarchism is a name taken by various political...</td>\n",
       "      <td>For other uses,see Anarchism (disambiguation)....</td>\n",
       "      <td>0.667939</td>\n",
       "      <td>0.489255</td>\n",
       "      <td>1733</td>\n",
       "      <td>10518</td>\n",
       "      <td>32.326923</td>\n",
       "      <td>25.161692</td>\n",
       "      <td>19961.0</td>\n",
       "      <td>3797.0</td>\n",
       "      <td>1918.0</td>\n",
       "    </tr>\n",
       "    <tr>\n",
       "      <th>1</th>\n",
       "      <td>Autism</td>\n",
       "      <td>Autism is a complex pervasive developmental di...</td>\n",
       "      <td>This article is about the classic autistic dis...</td>\n",
       "      <td>0.398438</td>\n",
       "      <td>0.499190</td>\n",
       "      <td>857</td>\n",
       "      <td>7320</td>\n",
       "      <td>25.781250</td>\n",
       "      <td>84.116279</td>\n",
       "      <td>10646.0</td>\n",
       "      <td>3757.0</td>\n",
       "      <td>1885.0</td>\n",
       "    </tr>\n",
       "    <tr>\n",
       "      <th>2</th>\n",
       "      <td>Albedo</td>\n",
       "      <td>In climatology,the albedo of a surface is the ...</td>\n",
       "      <td>For other uses,see Albedo (disambiguation).The...</td>\n",
       "      <td>0.568889</td>\n",
       "      <td>0.440594</td>\n",
       "      <td>1426</td>\n",
       "      <td>4152</td>\n",
       "      <td>51.777778</td>\n",
       "      <td>152.777778</td>\n",
       "      <td>1253.0</td>\n",
       "      <td>701.0</td>\n",
       "      <td>448.0</td>\n",
       "    </tr>\n",
       "    <tr>\n",
       "      <th>3</th>\n",
       "      <td>A</td>\n",
       "      <td>The letter A is the first letter in the Roman ...</td>\n",
       "      <td>This article is about the Roman letter.For oth...</td>\n",
       "      <td>0.538071</td>\n",
       "      <td>0.471910</td>\n",
       "      <td>1527</td>\n",
       "      <td>2386</td>\n",
       "      <td>33.681818</td>\n",
       "      <td>25.208791</td>\n",
       "      <td>4802.0</td>\n",
       "      <td>2609.0</td>\n",
       "      <td>1448.0</td>\n",
       "    </tr>\n",
       "    <tr>\n",
       "      <th>4</th>\n",
       "      <td>Alabama</td>\n",
       "      <td>Alternate meanings: See Alabama (disambiguatio...</td>\n",
       "      <td>This article is about the U.S.state.For the ri...</td>\n",
       "      <td>0.638889</td>\n",
       "      <td>0.456440</td>\n",
       "      <td>491</td>\n",
       "      <td>13683</td>\n",
       "      <td>13.441176</td>\n",
       "      <td>93.358621</td>\n",
       "      <td>10202.0</td>\n",
       "      <td>4485.0</td>\n",
       "      <td>2260.0</td>\n",
       "    </tr>\n",
       "  </tbody>\n",
       "</table>\n",
       "</div>"
      ],
      "text/plain": [
       "  page_title                                           original  \\\n",
       "0  Anarchism  Anarchism is a name taken by various political...   \n",
       "1     Autism  Autism is a complex pervasive developmental di...   \n",
       "2     Albedo  In climatology,the albedo of a surface is the ...   \n",
       "3          A  The letter A is the first letter in the Roman ...   \n",
       "4    Alabama  Alternate meanings: See Alabama (disambiguatio...   \n",
       "\n",
       "                                              recent  originalVD  recentVD  \\\n",
       "0  For other uses,see Anarchism (disambiguation)....    0.667939  0.489255   \n",
       "1  This article is about the classic autistic dis...    0.398438  0.499190   \n",
       "2  For other uses,see Albedo (disambiguation).The...    0.568889  0.440594   \n",
       "3  This article is about the Roman letter.For oth...    0.538071  0.471910   \n",
       "4  This article is about the U.S.state.For the ri...    0.638889  0.456440   \n",
       "\n",
       "   originalWPT  recentWPT  originalWPS   recentWPS  revision_id  \\\n",
       "0         1733      10518    32.326923   25.161692      19961.0   \n",
       "1          857       7320    25.781250   84.116279      10646.0   \n",
       "2         1426       4152    51.777778  152.777778       1253.0   \n",
       "3         1527       2386    33.681818   25.208791       4802.0   \n",
       "4          491      13683    13.441176   93.358621      10202.0   \n",
       "\n",
       "   contributor_id  contributor_name  \n",
       "0          3797.0            1918.0  \n",
       "1          3757.0            1885.0  \n",
       "2           701.0             448.0  \n",
       "3          2609.0            1448.0  \n",
       "4          4485.0            2260.0  "
      ]
     },
     "execution_count": 39,
     "metadata": {},
     "output_type": "execute_result"
    }
   ],
   "source": [
    "textdf4 = pd.merge(textdf3, df.groupby(['page_title']).agg({'contributor_name' : pd.Series.nunique}).reset_index(), how='left')\n",
    "textdf4.head()"
   ]
  },
  {
   "cell_type": "markdown",
   "metadata": {},
   "source": [
    "add column for number of dates on which a revision was made"
   ]
  },
  {
   "cell_type": "code",
   "execution_count": 40,
   "metadata": {},
   "outputs": [
    {
     "data": {
      "text/html": [
       "<div>\n",
       "<style scoped>\n",
       "    .dataframe tbody tr th:only-of-type {\n",
       "        vertical-align: middle;\n",
       "    }\n",
       "\n",
       "    .dataframe tbody tr th {\n",
       "        vertical-align: top;\n",
       "    }\n",
       "\n",
       "    .dataframe thead th {\n",
       "        text-align: right;\n",
       "    }\n",
       "</style>\n",
       "<table border=\"1\" class=\"dataframe\">\n",
       "  <thead>\n",
       "    <tr style=\"text-align: right;\">\n",
       "      <th></th>\n",
       "      <th>page_title</th>\n",
       "      <th>original</th>\n",
       "      <th>recent</th>\n",
       "      <th>originalVD</th>\n",
       "      <th>recentVD</th>\n",
       "      <th>originalWPT</th>\n",
       "      <th>recentWPT</th>\n",
       "      <th>originalWPS</th>\n",
       "      <th>recentWPS</th>\n",
       "      <th>revision_id</th>\n",
       "      <th>contributor_id</th>\n",
       "      <th>contributor_name</th>\n",
       "      <th>dates</th>\n",
       "    </tr>\n",
       "  </thead>\n",
       "  <tbody>\n",
       "    <tr>\n",
       "      <th>0</th>\n",
       "      <td>Anarchism</td>\n",
       "      <td>Anarchism is a name taken by various political...</td>\n",
       "      <td>For other uses,see Anarchism (disambiguation)....</td>\n",
       "      <td>0.667939</td>\n",
       "      <td>0.489255</td>\n",
       "      <td>1733</td>\n",
       "      <td>10518</td>\n",
       "      <td>32.326923</td>\n",
       "      <td>25.161692</td>\n",
       "      <td>19961.0</td>\n",
       "      <td>3797.0</td>\n",
       "      <td>1918.0</td>\n",
       "      <td>3216.0</td>\n",
       "    </tr>\n",
       "    <tr>\n",
       "      <th>1</th>\n",
       "      <td>Autism</td>\n",
       "      <td>Autism is a complex pervasive developmental di...</td>\n",
       "      <td>This article is about the classic autistic dis...</td>\n",
       "      <td>0.398438</td>\n",
       "      <td>0.499190</td>\n",
       "      <td>857</td>\n",
       "      <td>7320</td>\n",
       "      <td>25.781250</td>\n",
       "      <td>84.116279</td>\n",
       "      <td>10646.0</td>\n",
       "      <td>3757.0</td>\n",
       "      <td>1885.0</td>\n",
       "      <td>2537.0</td>\n",
       "    </tr>\n",
       "    <tr>\n",
       "      <th>2</th>\n",
       "      <td>Albedo</td>\n",
       "      <td>In climatology,the albedo of a surface is the ...</td>\n",
       "      <td>For other uses,see Albedo (disambiguation).The...</td>\n",
       "      <td>0.568889</td>\n",
       "      <td>0.440594</td>\n",
       "      <td>1426</td>\n",
       "      <td>4152</td>\n",
       "      <td>51.777778</td>\n",
       "      <td>152.777778</td>\n",
       "      <td>1253.0</td>\n",
       "      <td>701.0</td>\n",
       "      <td>448.0</td>\n",
       "      <td>731.0</td>\n",
       "    </tr>\n",
       "    <tr>\n",
       "      <th>3</th>\n",
       "      <td>A</td>\n",
       "      <td>The letter A is the first letter in the Roman ...</td>\n",
       "      <td>This article is about the Roman letter.For oth...</td>\n",
       "      <td>0.538071</td>\n",
       "      <td>0.471910</td>\n",
       "      <td>1527</td>\n",
       "      <td>2386</td>\n",
       "      <td>33.681818</td>\n",
       "      <td>25.208791</td>\n",
       "      <td>4802.0</td>\n",
       "      <td>2609.0</td>\n",
       "      <td>1448.0</td>\n",
       "      <td>1489.0</td>\n",
       "    </tr>\n",
       "    <tr>\n",
       "      <th>4</th>\n",
       "      <td>Alabama</td>\n",
       "      <td>Alternate meanings: See Alabama (disambiguatio...</td>\n",
       "      <td>This article is about the U.S.state.For the ri...</td>\n",
       "      <td>0.638889</td>\n",
       "      <td>0.456440</td>\n",
       "      <td>491</td>\n",
       "      <td>13683</td>\n",
       "      <td>13.441176</td>\n",
       "      <td>93.358621</td>\n",
       "      <td>10202.0</td>\n",
       "      <td>4485.0</td>\n",
       "      <td>2260.0</td>\n",
       "      <td>3119.0</td>\n",
       "    </tr>\n",
       "  </tbody>\n",
       "</table>\n",
       "</div>"
      ],
      "text/plain": [
       "  page_title                                           original  \\\n",
       "0  Anarchism  Anarchism is a name taken by various political...   \n",
       "1     Autism  Autism is a complex pervasive developmental di...   \n",
       "2     Albedo  In climatology,the albedo of a surface is the ...   \n",
       "3          A  The letter A is the first letter in the Roman ...   \n",
       "4    Alabama  Alternate meanings: See Alabama (disambiguatio...   \n",
       "\n",
       "                                              recent  originalVD  recentVD  \\\n",
       "0  For other uses,see Anarchism (disambiguation)....    0.667939  0.489255   \n",
       "1  This article is about the classic autistic dis...    0.398438  0.499190   \n",
       "2  For other uses,see Albedo (disambiguation).The...    0.568889  0.440594   \n",
       "3  This article is about the Roman letter.For oth...    0.538071  0.471910   \n",
       "4  This article is about the U.S.state.For the ri...    0.638889  0.456440   \n",
       "\n",
       "   originalWPT  recentWPT  originalWPS   recentWPS  revision_id  \\\n",
       "0         1733      10518    32.326923   25.161692      19961.0   \n",
       "1          857       7320    25.781250   84.116279      10646.0   \n",
       "2         1426       4152    51.777778  152.777778       1253.0   \n",
       "3         1527       2386    33.681818   25.208791       4802.0   \n",
       "4          491      13683    13.441176   93.358621      10202.0   \n",
       "\n",
       "   contributor_id  contributor_name   dates  \n",
       "0          3797.0            1918.0  3216.0  \n",
       "1          3757.0            1885.0  2537.0  \n",
       "2           701.0             448.0   731.0  \n",
       "3          2609.0            1448.0  1489.0  \n",
       "4          4485.0            2260.0  3119.0  "
      ]
     },
     "execution_count": 40,
     "metadata": {},
     "output_type": "execute_result"
    }
   ],
   "source": [
    "textdf5 = pd.merge(textdf4, df.groupby(['page_title']).agg({'dates' : pd.Series.nunique}).reset_index(), how='left')\n",
    "textdf5.head()"
   ]
  },
  {
   "cell_type": "markdown",
   "metadata": {},
   "source": [
    "filter basicdf to get the sum of revised bytes per article without duplicates"
   ]
  },
  {
   "cell_type": "code",
   "execution_count": 41,
   "metadata": {},
   "outputs": [
    {
     "data": {
      "text/html": [
       "<div>\n",
       "<style scoped>\n",
       "    .dataframe tbody tr th:only-of-type {\n",
       "        vertical-align: middle;\n",
       "    }\n",
       "\n",
       "    .dataframe tbody tr th {\n",
       "        vertical-align: top;\n",
       "    }\n",
       "\n",
       "    .dataframe thead th {\n",
       "        text-align: right;\n",
       "    }\n",
       "</style>\n",
       "<table border=\"1\" class=\"dataframe\">\n",
       "  <thead>\n",
       "    <tr style=\"text-align: right;\">\n",
       "      <th></th>\n",
       "      <th>page_id</th>\n",
       "      <th>page_title</th>\n",
       "      <th>revision_id</th>\n",
       "      <th>timestamp</th>\n",
       "      <th>comment</th>\n",
       "      <th>contributor_id</th>\n",
       "      <th>contributor_name</th>\n",
       "      <th>bytes</th>\n",
       "      <th>revtext</th>\n",
       "      <th>dates</th>\n",
       "      <th>times</th>\n",
       "      <th>revbytes</th>\n",
       "      <th>revperc</th>\n",
       "    </tr>\n",
       "  </thead>\n",
       "  <tbody>\n",
       "    <tr>\n",
       "      <th>0</th>\n",
       "      <td>10</td>\n",
       "      <td>AccessibleComputing</td>\n",
       "      <td>233192</td>\n",
       "      <td>2001-01-21 02:12:21</td>\n",
       "      <td>*</td>\n",
       "      <td>99</td>\n",
       "      <td>RoseParks</td>\n",
       "      <td>124</td>\n",
       "      <td>This subject covers* AssistiveTechnology* Acce...</td>\n",
       "      <td>2001-01-21</td>\n",
       "      <td>02:12:21</td>\n",
       "      <td>2848</td>\n",
       "      <td>4.353933</td>\n",
       "    </tr>\n",
       "    <tr>\n",
       "      <th>14</th>\n",
       "      <td>12</td>\n",
       "      <td>Anarchism</td>\n",
       "      <td>18201</td>\n",
       "      <td>2002-02-25 15:00:22</td>\n",
       "      <td>Automated conversion</td>\n",
       "      <td>1226483</td>\n",
       "      <td>Conversion script</td>\n",
       "      <td>9546</td>\n",
       "      <td>[[talk:Anarchism/Talk]] &lt;br&gt;[[Anarchism/Todo/T...</td>\n",
       "      <td>2002-02-25</td>\n",
       "      <td>15:00:22</td>\n",
       "      <td>1689954733</td>\n",
       "      <td>0.000565</td>\n",
       "    </tr>\n",
       "    <tr>\n",
       "      <th>19975</th>\n",
       "      <td>13</td>\n",
       "      <td>AfghanistanHistory</td>\n",
       "      <td>176453</td>\n",
       "      <td>2002-02-25 15:43:11</td>\n",
       "      <td>Automated conversion</td>\n",
       "      <td>1226483</td>\n",
       "      <td>Conversion script</td>\n",
       "      <td>34</td>\n",
       "      <td>#REDIRECT [[Afghanistan/History]]</td>\n",
       "      <td>2002-02-25</td>\n",
       "      <td>15:43:11</td>\n",
       "      <td>787</td>\n",
       "      <td>4.320203</td>\n",
       "    </tr>\n",
       "    <tr>\n",
       "      <th>19981</th>\n",
       "      <td>14</td>\n",
       "      <td>AfghanistanGeography</td>\n",
       "      <td>233198</td>\n",
       "      <td>2001-01-21 23:00:32</td>\n",
       "      <td>*</td>\n",
       "      <td>32609824</td>\n",
       "      <td>LinusTolke</td>\n",
       "      <td>1663</td>\n",
       "      <td>Irrigated land: 30,000 sq km (1993 est.) Natur...</td>\n",
       "      <td>2001-01-21</td>\n",
       "      <td>23:00:32</td>\n",
       "      <td>1988</td>\n",
       "      <td>83.651911</td>\n",
       "    </tr>\n",
       "    <tr>\n",
       "      <th>19988</th>\n",
       "      <td>15</td>\n",
       "      <td>AfghanistanPeople</td>\n",
       "      <td>133439</td>\n",
       "      <td>2002-02-25 15:43:11</td>\n",
       "      <td>Automated conversion</td>\n",
       "      <td>1226483</td>\n",
       "      <td>Conversion script</td>\n",
       "      <td>33</td>\n",
       "      <td>#REDIRECT [[Afghanistan/People]]</td>\n",
       "      <td>2002-02-25</td>\n",
       "      <td>15:43:11</td>\n",
       "      <td>1993</td>\n",
       "      <td>1.655795</td>\n",
       "    </tr>\n",
       "  </tbody>\n",
       "</table>\n",
       "</div>"
      ],
      "text/plain": [
       "       page_id            page_title  revision_id            timestamp  \\\n",
       "0           10   AccessibleComputing       233192  2001-01-21 02:12:21   \n",
       "14          12             Anarchism        18201  2002-02-25 15:00:22   \n",
       "19975       13    AfghanistanHistory       176453  2002-02-25 15:43:11   \n",
       "19981       14  AfghanistanGeography       233198  2001-01-21 23:00:32   \n",
       "19988       15     AfghanistanPeople       133439  2002-02-25 15:43:11   \n",
       "\n",
       "                    comment contributor_id   contributor_name  bytes  \\\n",
       "0                         *             99          RoseParks    124   \n",
       "14     Automated conversion        1226483  Conversion script   9546   \n",
       "19975  Automated conversion        1226483  Conversion script     34   \n",
       "19981                     *       32609824         LinusTolke   1663   \n",
       "19988  Automated conversion        1226483  Conversion script     33   \n",
       "\n",
       "                                                 revtext       dates  \\\n",
       "0      This subject covers* AssistiveTechnology* Acce...  2001-01-21   \n",
       "14     [[talk:Anarchism/Talk]] <br>[[Anarchism/Todo/T...  2002-02-25   \n",
       "19975                  #REDIRECT [[Afghanistan/History]]  2002-02-25   \n",
       "19981  Irrigated land: 30,000 sq km (1993 est.) Natur...  2001-01-21   \n",
       "19988                   #REDIRECT [[Afghanistan/People]]  2002-02-25   \n",
       "\n",
       "          times    revbytes    revperc  \n",
       "0      02:12:21        2848   4.353933  \n",
       "14     15:00:22  1689954733   0.000565  \n",
       "19975  15:43:11         787   4.320203  \n",
       "19981  23:00:32        1988  83.651911  \n",
       "19988  15:43:11        1993   1.655795  "
      ]
     },
     "execution_count": 41,
     "metadata": {},
     "output_type": "execute_result"
    }
   ],
   "source": [
    "df1 = df.drop_duplicates(subset='revbytes', keep=\"first\", inplace=False)\n",
    "df1.head()"
   ]
  },
  {
   "cell_type": "markdown",
   "metadata": {},
   "source": [
    "merge filtered df with latest textdf"
   ]
  },
  {
   "cell_type": "code",
   "execution_count": 42,
   "metadata": {},
   "outputs": [
    {
     "data": {
      "text/html": [
       "<div>\n",
       "<style scoped>\n",
       "    .dataframe tbody tr th:only-of-type {\n",
       "        vertical-align: middle;\n",
       "    }\n",
       "\n",
       "    .dataframe tbody tr th {\n",
       "        vertical-align: top;\n",
       "    }\n",
       "\n",
       "    .dataframe thead th {\n",
       "        text-align: right;\n",
       "    }\n",
       "</style>\n",
       "<table border=\"1\" class=\"dataframe\">\n",
       "  <thead>\n",
       "    <tr style=\"text-align: right;\">\n",
       "      <th></th>\n",
       "      <th>page_title</th>\n",
       "      <th>original</th>\n",
       "      <th>recent</th>\n",
       "      <th>originalVD</th>\n",
       "      <th>recentVD</th>\n",
       "      <th>originalWPT</th>\n",
       "      <th>recentWPT</th>\n",
       "      <th>originalWPS</th>\n",
       "      <th>recentWPS</th>\n",
       "      <th>revision_id</th>\n",
       "      <th>contributor_id</th>\n",
       "      <th>contributor_name</th>\n",
       "      <th>dates</th>\n",
       "      <th>revbytes</th>\n",
       "    </tr>\n",
       "  </thead>\n",
       "  <tbody>\n",
       "    <tr>\n",
       "      <th>0</th>\n",
       "      <td>Anarchism</td>\n",
       "      <td>Anarchism is a name taken by various political...</td>\n",
       "      <td>For other uses,see Anarchism (disambiguation)....</td>\n",
       "      <td>0.667939</td>\n",
       "      <td>0.489255</td>\n",
       "      <td>1733</td>\n",
       "      <td>10518</td>\n",
       "      <td>32.326923</td>\n",
       "      <td>25.161692</td>\n",
       "      <td>19961.0</td>\n",
       "      <td>3797.0</td>\n",
       "      <td>1918.0</td>\n",
       "      <td>3216.0</td>\n",
       "      <td>1.689955e+09</td>\n",
       "    </tr>\n",
       "    <tr>\n",
       "      <th>1</th>\n",
       "      <td>Autism</td>\n",
       "      <td>Autism is a complex pervasive developmental di...</td>\n",
       "      <td>This article is about the classic autistic dis...</td>\n",
       "      <td>0.398438</td>\n",
       "      <td>0.499190</td>\n",
       "      <td>857</td>\n",
       "      <td>7320</td>\n",
       "      <td>25.781250</td>\n",
       "      <td>84.116279</td>\n",
       "      <td>10646.0</td>\n",
       "      <td>3757.0</td>\n",
       "      <td>1885.0</td>\n",
       "      <td>2537.0</td>\n",
       "      <td>9.503834e+08</td>\n",
       "    </tr>\n",
       "    <tr>\n",
       "      <th>2</th>\n",
       "      <td>Albedo</td>\n",
       "      <td>In climatology,the albedo of a surface is the ...</td>\n",
       "      <td>For other uses,see Albedo (disambiguation).The...</td>\n",
       "      <td>0.568889</td>\n",
       "      <td>0.440594</td>\n",
       "      <td>1426</td>\n",
       "      <td>4152</td>\n",
       "      <td>51.777778</td>\n",
       "      <td>152.777778</td>\n",
       "      <td>1253.0</td>\n",
       "      <td>701.0</td>\n",
       "      <td>448.0</td>\n",
       "      <td>731.0</td>\n",
       "      <td>3.025434e+07</td>\n",
       "    </tr>\n",
       "    <tr>\n",
       "      <th>3</th>\n",
       "      <td>A</td>\n",
       "      <td>The letter A is the first letter in the Roman ...</td>\n",
       "      <td>This article is about the Roman letter.For oth...</td>\n",
       "      <td>0.538071</td>\n",
       "      <td>0.471910</td>\n",
       "      <td>1527</td>\n",
       "      <td>2386</td>\n",
       "      <td>33.681818</td>\n",
       "      <td>25.208791</td>\n",
       "      <td>4802.0</td>\n",
       "      <td>2609.0</td>\n",
       "      <td>1448.0</td>\n",
       "      <td>1489.0</td>\n",
       "      <td>4.717380e+07</td>\n",
       "    </tr>\n",
       "    <tr>\n",
       "      <th>4</th>\n",
       "      <td>Alabama</td>\n",
       "      <td>Alternate meanings: See Alabama (disambiguatio...</td>\n",
       "      <td>This article is about the U.S.state.For the ri...</td>\n",
       "      <td>0.638889</td>\n",
       "      <td>0.456440</td>\n",
       "      <td>491</td>\n",
       "      <td>13683</td>\n",
       "      <td>13.441176</td>\n",
       "      <td>93.358621</td>\n",
       "      <td>10202.0</td>\n",
       "      <td>4485.0</td>\n",
       "      <td>2260.0</td>\n",
       "      <td>3119.0</td>\n",
       "      <td>1.130464e+09</td>\n",
       "    </tr>\n",
       "  </tbody>\n",
       "</table>\n",
       "</div>"
      ],
      "text/plain": [
       "  page_title                                           original  \\\n",
       "0  Anarchism  Anarchism is a name taken by various political...   \n",
       "1     Autism  Autism is a complex pervasive developmental di...   \n",
       "2     Albedo  In climatology,the albedo of a surface is the ...   \n",
       "3          A  The letter A is the first letter in the Roman ...   \n",
       "4    Alabama  Alternate meanings: See Alabama (disambiguatio...   \n",
       "\n",
       "                                              recent  originalVD  recentVD  \\\n",
       "0  For other uses,see Anarchism (disambiguation)....    0.667939  0.489255   \n",
       "1  This article is about the classic autistic dis...    0.398438  0.499190   \n",
       "2  For other uses,see Albedo (disambiguation).The...    0.568889  0.440594   \n",
       "3  This article is about the Roman letter.For oth...    0.538071  0.471910   \n",
       "4  This article is about the U.S.state.For the ri...    0.638889  0.456440   \n",
       "\n",
       "   originalWPT  recentWPT  originalWPS   recentWPS  revision_id  \\\n",
       "0         1733      10518    32.326923   25.161692      19961.0   \n",
       "1          857       7320    25.781250   84.116279      10646.0   \n",
       "2         1426       4152    51.777778  152.777778       1253.0   \n",
       "3         1527       2386    33.681818   25.208791       4802.0   \n",
       "4          491      13683    13.441176   93.358621      10202.0   \n",
       "\n",
       "   contributor_id  contributor_name   dates      revbytes  \n",
       "0          3797.0            1918.0  3216.0  1.689955e+09  \n",
       "1          3757.0            1885.0  2537.0  9.503834e+08  \n",
       "2           701.0             448.0   731.0  3.025434e+07  \n",
       "3          2609.0            1448.0  1489.0  4.717380e+07  \n",
       "4          4485.0            2260.0  3119.0  1.130464e+09  "
      ]
     },
     "execution_count": 42,
     "metadata": {},
     "output_type": "execute_result"
    }
   ],
   "source": [
    "textdf6 = pd.merge(textdf5, df1[['page_title', 'revbytes']], on='page_title', how='left')\n",
    "textdf6.head()"
   ]
  },
  {
   "cell_type": "markdown",
   "metadata": {},
   "source": [
    "add column revgb to make revbytes easier to read (calculate gb)"
   ]
  },
  {
   "cell_type": "code",
   "execution_count": 43,
   "metadata": {},
   "outputs": [
    {
     "data": {
      "text/html": [
       "<div>\n",
       "<style scoped>\n",
       "    .dataframe tbody tr th:only-of-type {\n",
       "        vertical-align: middle;\n",
       "    }\n",
       "\n",
       "    .dataframe tbody tr th {\n",
       "        vertical-align: top;\n",
       "    }\n",
       "\n",
       "    .dataframe thead th {\n",
       "        text-align: right;\n",
       "    }\n",
       "</style>\n",
       "<table border=\"1\" class=\"dataframe\">\n",
       "  <thead>\n",
       "    <tr style=\"text-align: right;\">\n",
       "      <th></th>\n",
       "      <th>page_title</th>\n",
       "      <th>original</th>\n",
       "      <th>recent</th>\n",
       "      <th>originalVD</th>\n",
       "      <th>recentVD</th>\n",
       "      <th>originalWPT</th>\n",
       "      <th>recentWPT</th>\n",
       "      <th>originalWPS</th>\n",
       "      <th>recentWPS</th>\n",
       "      <th>revision_id</th>\n",
       "      <th>contributor_id</th>\n",
       "      <th>contributor_name</th>\n",
       "      <th>dates</th>\n",
       "      <th>revbytes</th>\n",
       "      <th>revgb</th>\n",
       "    </tr>\n",
       "  </thead>\n",
       "  <tbody>\n",
       "    <tr>\n",
       "      <th>0</th>\n",
       "      <td>Anarchism</td>\n",
       "      <td>Anarchism is a name taken by various political...</td>\n",
       "      <td>For other uses,see Anarchism (disambiguation)....</td>\n",
       "      <td>0.667939</td>\n",
       "      <td>0.489255</td>\n",
       "      <td>1733</td>\n",
       "      <td>10518</td>\n",
       "      <td>32.326923</td>\n",
       "      <td>25.161692</td>\n",
       "      <td>19961.0</td>\n",
       "      <td>3797.0</td>\n",
       "      <td>1918.0</td>\n",
       "      <td>3216.0</td>\n",
       "      <td>1.689955e+09</td>\n",
       "      <td>1.689955</td>\n",
       "    </tr>\n",
       "    <tr>\n",
       "      <th>1</th>\n",
       "      <td>Autism</td>\n",
       "      <td>Autism is a complex pervasive developmental di...</td>\n",
       "      <td>This article is about the classic autistic dis...</td>\n",
       "      <td>0.398438</td>\n",
       "      <td>0.499190</td>\n",
       "      <td>857</td>\n",
       "      <td>7320</td>\n",
       "      <td>25.781250</td>\n",
       "      <td>84.116279</td>\n",
       "      <td>10646.0</td>\n",
       "      <td>3757.0</td>\n",
       "      <td>1885.0</td>\n",
       "      <td>2537.0</td>\n",
       "      <td>9.503834e+08</td>\n",
       "      <td>0.950383</td>\n",
       "    </tr>\n",
       "    <tr>\n",
       "      <th>2</th>\n",
       "      <td>Albedo</td>\n",
       "      <td>In climatology,the albedo of a surface is the ...</td>\n",
       "      <td>For other uses,see Albedo (disambiguation).The...</td>\n",
       "      <td>0.568889</td>\n",
       "      <td>0.440594</td>\n",
       "      <td>1426</td>\n",
       "      <td>4152</td>\n",
       "      <td>51.777778</td>\n",
       "      <td>152.777778</td>\n",
       "      <td>1253.0</td>\n",
       "      <td>701.0</td>\n",
       "      <td>448.0</td>\n",
       "      <td>731.0</td>\n",
       "      <td>3.025434e+07</td>\n",
       "      <td>0.030254</td>\n",
       "    </tr>\n",
       "    <tr>\n",
       "      <th>3</th>\n",
       "      <td>A</td>\n",
       "      <td>The letter A is the first letter in the Roman ...</td>\n",
       "      <td>This article is about the Roman letter.For oth...</td>\n",
       "      <td>0.538071</td>\n",
       "      <td>0.471910</td>\n",
       "      <td>1527</td>\n",
       "      <td>2386</td>\n",
       "      <td>33.681818</td>\n",
       "      <td>25.208791</td>\n",
       "      <td>4802.0</td>\n",
       "      <td>2609.0</td>\n",
       "      <td>1448.0</td>\n",
       "      <td>1489.0</td>\n",
       "      <td>4.717380e+07</td>\n",
       "      <td>0.047174</td>\n",
       "    </tr>\n",
       "    <tr>\n",
       "      <th>4</th>\n",
       "      <td>Alabama</td>\n",
       "      <td>Alternate meanings: See Alabama (disambiguatio...</td>\n",
       "      <td>This article is about the U.S.state.For the ri...</td>\n",
       "      <td>0.638889</td>\n",
       "      <td>0.456440</td>\n",
       "      <td>491</td>\n",
       "      <td>13683</td>\n",
       "      <td>13.441176</td>\n",
       "      <td>93.358621</td>\n",
       "      <td>10202.0</td>\n",
       "      <td>4485.0</td>\n",
       "      <td>2260.0</td>\n",
       "      <td>3119.0</td>\n",
       "      <td>1.130464e+09</td>\n",
       "      <td>1.130464</td>\n",
       "    </tr>\n",
       "  </tbody>\n",
       "</table>\n",
       "</div>"
      ],
      "text/plain": [
       "  page_title                                           original  \\\n",
       "0  Anarchism  Anarchism is a name taken by various political...   \n",
       "1     Autism  Autism is a complex pervasive developmental di...   \n",
       "2     Albedo  In climatology,the albedo of a surface is the ...   \n",
       "3          A  The letter A is the first letter in the Roman ...   \n",
       "4    Alabama  Alternate meanings: See Alabama (disambiguatio...   \n",
       "\n",
       "                                              recent  originalVD  recentVD  \\\n",
       "0  For other uses,see Anarchism (disambiguation)....    0.667939  0.489255   \n",
       "1  This article is about the classic autistic dis...    0.398438  0.499190   \n",
       "2  For other uses,see Albedo (disambiguation).The...    0.568889  0.440594   \n",
       "3  This article is about the Roman letter.For oth...    0.538071  0.471910   \n",
       "4  This article is about the U.S.state.For the ri...    0.638889  0.456440   \n",
       "\n",
       "   originalWPT  recentWPT  originalWPS   recentWPS  revision_id  \\\n",
       "0         1733      10518    32.326923   25.161692      19961.0   \n",
       "1          857       7320    25.781250   84.116279      10646.0   \n",
       "2         1426       4152    51.777778  152.777778       1253.0   \n",
       "3         1527       2386    33.681818   25.208791       4802.0   \n",
       "4          491      13683    13.441176   93.358621      10202.0   \n",
       "\n",
       "   contributor_id  contributor_name   dates      revbytes     revgb  \n",
       "0          3797.0            1918.0  3216.0  1.689955e+09  1.689955  \n",
       "1          3757.0            1885.0  2537.0  9.503834e+08  0.950383  \n",
       "2           701.0             448.0   731.0  3.025434e+07  0.030254  \n",
       "3          2609.0            1448.0  1489.0  4.717380e+07  0.047174  \n",
       "4          4485.0            2260.0  3119.0  1.130464e+09  1.130464  "
      ]
     },
     "execution_count": 43,
     "metadata": {},
     "output_type": "execute_result"
    }
   ],
   "source": [
    "textdf6['revgb'] = textdf6['revbytes']/1e+9\n",
    "textdf6.head()"
   ]
  },
  {
   "cell_type": "markdown",
   "metadata": {},
   "source": [
    "start exploring..."
   ]
  },
  {
   "cell_type": "code",
   "execution_count": 57,
   "metadata": {},
   "outputs": [
    {
     "data": {
      "text/plain": [
       "<matplotlib.legend.Legend at 0x22580477c70>"
      ]
     },
     "execution_count": 57,
     "metadata": {},
     "output_type": "execute_result"
    },
    {
     "data": {
      "image/png": "[encoded data removed]",
      "text/plain": [
       "<Figure size 432x288 with 1 Axes>"
      ]
     },
     "metadata": {
      "needs_background": "light"
     },
     "output_type": "display_data"
    }
   ],
   "source": [
    "plt.hist(np.sort(textdf6['originalVD']), alpha = 0.5, label = 'original')\n",
    "plt.hist(np.sort(textdf6['recentVD']), alpha = 0.5, label = 'recent')\n",
    "plt.legend()"
   ]
  },
  {
   "cell_type": "code",
   "execution_count": 54,
   "metadata": {},
   "outputs": [
    {
     "data": {
      "text/plain": [
       "<matplotlib.legend.Legend at 0x22582d1cac0>"
      ]
     },
     "execution_count": 54,
     "metadata": {},
     "output_type": "execute_result"
    },
    {
     "data": {
      "image/png": "[encoded data removed]",
      "text/plain": [
       "<Figure size 432x288 with 1 Axes>"
      ]
     },
     "metadata": {
      "needs_background": "light"
     },
     "output_type": "display_data"
    }
   ],
   "source": [
    "plt.hist(np.sort(textdf6['originalWPS']), alpha = 0.5, label = 'original')\n",
    "plt.hist(np.sort(textdf6['recentWPS']), alpha = 0.5, label = 'recent')\n",
    "plt.legend()"
   ]
  },
  {
   "cell_type": "code",
   "execution_count": 56,
   "metadata": {},
   "outputs": [
    {
     "data": {
      "text/plain": [
       "<matplotlib.legend.Legend at 0x22580115a30>"
      ]
     },
     "execution_count": 56,
     "metadata": {},
     "output_type": "execute_result"
    },
    {
     "data": {
      "image/png": "[encoded data removed]",
      "text/plain": [
       "<Figure size 432x288 with 1 Axes>"
      ]
     },
     "metadata": {
      "needs_background": "light"
     },
     "output_type": "display_data"
    }
   ],
   "source": [
    "plt.hist(np.sort(textdf6['originalWPT']), alpha = 0.5, label = 'original')\n",
    "plt.hist(np.sort(textdf6['recentWPT']), alpha = 0.5, label = 'recent')\n",
    "plt.legend()"
   ]
  },
  {
   "cell_type": "code",
   "execution_count": 46,
   "metadata": {},
   "outputs": [
    {
     "data": {
      "image/png": "[encoded data removed]",
      "text/plain": [
       "<Figure size 432x288 with 2 Axes>"
      ]
     },
     "metadata": {
      "needs_background": "light"
     },
     "output_type": "display_data"
    }
   ],
   "source": [
    "corrMatrix = textdf6.corr()\n",
    "sns.heatmap(corrMatrix, annot=True)\n",
    "plt.show()"
   ]
  },
  {
   "cell_type": "markdown",
   "metadata": {},
   "source": [
    "NLP Playground..."
   ]
  },
  {
   "cell_type": "code",
   "execution_count": 61,
   "metadata": {},
   "outputs": [
    {
     "name": "stdout",
     "output_type": "stream",
     "text": [
      "<class 'pandas.core.frame.DataFrame'>\n",
      "Int64Index: 144 entries, 0 to 143\n",
      "Data columns (total 15 columns):\n",
      " #   Column            Non-Null Count  Dtype  \n",
      "---  ------            --------------  -----  \n",
      " 0   page_title        144 non-null    object \n",
      " 1   original          144 non-null    object \n",
      " 2   recent            144 non-null    object \n",
      " 3   originalVD        144 non-null    float64\n",
      " 4   recentVD          144 non-null    float64\n",
      " 5   originalWPT       144 non-null    int64  \n",
      " 6   recentWPT         144 non-null    int64  \n",
      " 7   originalWPS       143 non-null    float64\n",
      " 8   recentWPS         144 non-null    float64\n",
      " 9   revision_id       141 non-null    float64\n",
      " 10  contributor_id    141 non-null    float64\n",
      " 11  contributor_name  141 non-null    float64\n",
      " 12  dates             141 non-null    float64\n",
      " 13  revbytes          141 non-null    float64\n",
      " 14  revgb             141 non-null    float64\n",
      "dtypes: float64(10), int64(2), object(3)\n",
      "memory usage: 18.0+ KB\n"
     ]
    }
   ],
   "source": [
    "textdf6.info()"
   ]
  },
  {
   "cell_type": "code",
   "execution_count": 62,
   "metadata": {},
   "outputs": [],
   "source": [
    "STOPWORDS = set(stopwords.words('english'))\n",
    "MIN_WORDS = 4\n",
    "MAX_WORDS = 200\n",
    "\n",
    "PATTERN_S = re.compile(\"\\'s\")  # matches `'s` from text  \n",
    "PATTERN_RN = re.compile(\"\\\\r\\\\n\") #matches `\\r` and `\\n`\n",
    "PATTERN_PUNC = re.compile(r\"[^\\w\\s]\") # matches all non 0-9 A-z whitespace "
   ]
  },
  {
   "cell_type": "code",
   "execution_count": 63,
   "metadata": {},
   "outputs": [],
   "source": [
    "def clean_text(text):\n",
    "    \"\"\"\n",
    "    Series of cleaning. String to lower case, remove non words characters and numbers.\n",
    "        text (str): input text\n",
    "    return (str): modified initial text\n",
    "    \"\"\"\n",
    "    text = text.lower()  # lowercase text\n",
    "    text = re.sub(PATTERN_S, ' ', text)\n",
    "    text = re.sub(PATTERN_RN, ' ', text)\n",
    "    text = re.sub(PATTERN_PUNC, ' ', text)\n",
    "    return text\n",
    "\n"
   ]
  },
  {
   "cell_type": "code",
   "execution_count": 64,
   "metadata": {},
   "outputs": [],
   "source": [
    "clean = []\n",
    "\n",
    "for i in textdf6['recent']:\n",
    "    clean.append(clean_text(i))"
   ]
  },
  {
   "cell_type": "code",
   "execution_count": 69,
   "metadata": {},
   "outputs": [
    {
     "data": {
      "text/plain": [
       "0    for other uses see anarchism  disambiguation  ...\n",
       "1    this article is about the classic autistic dis...\n",
       "2    for other uses see albedo  disambiguation  the...\n",
       "3    this article is about the roman letter for oth...\n",
       "4    this article is about the u s state for the ri...\n",
       "Name: cleantext, dtype: object"
      ]
     },
     "execution_count": 69,
     "metadata": {},
     "output_type": "execute_result"
    }
   ],
   "source": [
    "textdf6['cleantext'] = clean\n",
    "textdf6['cleantext'].head()"
   ]
  },
  {
   "cell_type": "code",
   "execution_count": 73,
   "metadata": {},
   "outputs": [],
   "source": [
    "def tokenizer(sentence, min_words=MIN_WORDS, max_words=MAX_WORDS, stopwords=STOPWORDS, lemmatize=True):\n",
    "    \"\"\"\n",
    "    Lemmatize, tokenize, crop and remove stop words.\n",
    "    \"\"\"\n",
    "    if lemmatize:\n",
    "        stemmer = WordNetLemmatizer()\n",
    "        tokens = [stemmer.lemmatize(w) for w in word_tokenize(sentence)]\n",
    "    else:\n",
    "        tokens = [w for w in word_tokenize(sentence)]\n",
    "    token = [w for w in tokens if (len(w) > min_words and len(w) < max_words and w not in stopwords)]\n",
    "    return tokens    \n"
   ]
  },
  {
   "cell_type": "code",
   "execution_count": 74,
   "metadata": {},
   "outputs": [],
   "source": [
    "toks = []\n",
    "\n",
    "for i in textdf6['cleantext']:\n",
    "    toks.append(tokenizer(i))"
   ]
  },
  {
   "cell_type": "code",
   "execution_count": 75,
   "metadata": {},
   "outputs": [
    {
     "data": {
      "text/plain": [
       "0    [for, other, us, see, anarchism, disambiguatio...\n",
       "1    [this, article, is, about, the, classic, autis...\n",
       "2    [for, other, us, see, albedo, disambiguation, ...\n",
       "3    [this, article, is, about, the, roman, letter,...\n",
       "4    [this, article, is, about, the, u, s, state, f...\n",
       "Name: tokenized, dtype: object"
      ]
     },
     "execution_count": 75,
     "metadata": {},
     "output_type": "execute_result"
    }
   ],
   "source": [
    "textdf6['tokenized'] = toks\n",
    "textdf6['tokenized'].head()"
   ]
  },
  {
   "cell_type": "code",
   "execution_count": 76,
   "metadata": {},
   "outputs": [],
   "source": [
    "def clean_sentences(df):\n",
    "    \"\"\"\n",
    "    Remove irrelavant characters (in new column clean_text).\n",
    "    Lemmatize, tokenize words into list of words (in new column tokenized).\n",
    "    \"\"\"\n",
    "    print('Cleaning sentences...')\n",
    "    df['clean_text'] = df['recent'].apply(clean_text)\n",
    "    df['tokenized'] = df['clean_text'].apply(\n",
    "        lambda x: tokenizer(x, min_words=MIN_WORDS, max_words=MAX_WORDS, stopwords=STOPWORDS, lemmatize=True))\n",
    "    return df\n",
    "    \n"
   ]
  },
  {
   "cell_type": "code",
   "execution_count": 77,
   "metadata": {},
   "outputs": [
    {
     "name": "stdout",
     "output_type": "stream",
     "text": [
      "Cleaning sentences...\n"
     ]
    },
    {
     "data": {
      "text/html": [
       "<div>\n",
       "<style scoped>\n",
       "    .dataframe tbody tr th:only-of-type {\n",
       "        vertical-align: middle;\n",
       "    }\n",
       "\n",
       "    .dataframe tbody tr th {\n",
       "        vertical-align: top;\n",
       "    }\n",
       "\n",
       "    .dataframe thead th {\n",
       "        text-align: right;\n",
       "    }\n",
       "</style>\n",
       "<table border=\"1\" class=\"dataframe\">\n",
       "  <thead>\n",
       "    <tr style=\"text-align: right;\">\n",
       "      <th></th>\n",
       "      <th>page_title</th>\n",
       "      <th>original</th>\n",
       "      <th>recent</th>\n",
       "      <th>originalVD</th>\n",
       "      <th>recentVD</th>\n",
       "      <th>originalWPT</th>\n",
       "      <th>recentWPT</th>\n",
       "      <th>originalWPS</th>\n",
       "      <th>recentWPS</th>\n",
       "      <th>revision_id</th>\n",
       "      <th>contributor_id</th>\n",
       "      <th>contributor_name</th>\n",
       "      <th>dates</th>\n",
       "      <th>revbytes</th>\n",
       "      <th>revgb</th>\n",
       "      <th>cleantext</th>\n",
       "      <th>tokenized</th>\n",
       "      <th>clean_text</th>\n",
       "    </tr>\n",
       "  </thead>\n",
       "  <tbody>\n",
       "    <tr>\n",
       "      <th>0</th>\n",
       "      <td>Anarchism</td>\n",
       "      <td>Anarchism is a name taken by various political...</td>\n",
       "      <td>For other uses,see Anarchism (disambiguation)....</td>\n",
       "      <td>0.667939</td>\n",
       "      <td>0.489255</td>\n",
       "      <td>1733</td>\n",
       "      <td>10518</td>\n",
       "      <td>32.326923</td>\n",
       "      <td>25.161692</td>\n",
       "      <td>19961.0</td>\n",
       "      <td>3797.0</td>\n",
       "      <td>1918.0</td>\n",
       "      <td>3216.0</td>\n",
       "      <td>1.689955e+09</td>\n",
       "      <td>1.689955</td>\n",
       "      <td>for other uses see anarchism  disambiguation  ...</td>\n",
       "      <td>[for, other, us, see, anarchism, disambiguatio...</td>\n",
       "      <td>for other uses see anarchism  disambiguation  ...</td>\n",
       "    </tr>\n",
       "    <tr>\n",
       "      <th>1</th>\n",
       "      <td>Autism</td>\n",
       "      <td>Autism is a complex pervasive developmental di...</td>\n",
       "      <td>This article is about the classic autistic dis...</td>\n",
       "      <td>0.398438</td>\n",
       "      <td>0.499190</td>\n",
       "      <td>857</td>\n",
       "      <td>7320</td>\n",
       "      <td>25.781250</td>\n",
       "      <td>84.116279</td>\n",
       "      <td>10646.0</td>\n",
       "      <td>3757.0</td>\n",
       "      <td>1885.0</td>\n",
       "      <td>2537.0</td>\n",
       "      <td>9.503834e+08</td>\n",
       "      <td>0.950383</td>\n",
       "      <td>this article is about the classic autistic dis...</td>\n",
       "      <td>[this, article, is, about, the, classic, autis...</td>\n",
       "      <td>this article is about the classic autistic dis...</td>\n",
       "    </tr>\n",
       "    <tr>\n",
       "      <th>2</th>\n",
       "      <td>Albedo</td>\n",
       "      <td>In climatology,the albedo of a surface is the ...</td>\n",
       "      <td>For other uses,see Albedo (disambiguation).The...</td>\n",
       "      <td>0.568889</td>\n",
       "      <td>0.440594</td>\n",
       "      <td>1426</td>\n",
       "      <td>4152</td>\n",
       "      <td>51.777778</td>\n",
       "      <td>152.777778</td>\n",
       "      <td>1253.0</td>\n",
       "      <td>701.0</td>\n",
       "      <td>448.0</td>\n",
       "      <td>731.0</td>\n",
       "      <td>3.025434e+07</td>\n",
       "      <td>0.030254</td>\n",
       "      <td>for other uses see albedo  disambiguation  the...</td>\n",
       "      <td>[for, other, us, see, albedo, disambiguation, ...</td>\n",
       "      <td>for other uses see albedo  disambiguation  the...</td>\n",
       "    </tr>\n",
       "    <tr>\n",
       "      <th>3</th>\n",
       "      <td>A</td>\n",
       "      <td>The letter A is the first letter in the Roman ...</td>\n",
       "      <td>This article is about the Roman letter.For oth...</td>\n",
       "      <td>0.538071</td>\n",
       "      <td>0.471910</td>\n",
       "      <td>1527</td>\n",
       "      <td>2386</td>\n",
       "      <td>33.681818</td>\n",
       "      <td>25.208791</td>\n",
       "      <td>4802.0</td>\n",
       "      <td>2609.0</td>\n",
       "      <td>1448.0</td>\n",
       "      <td>1489.0</td>\n",
       "      <td>4.717380e+07</td>\n",
       "      <td>0.047174</td>\n",
       "      <td>this article is about the roman letter for oth...</td>\n",
       "      <td>[this, article, is, about, the, roman, letter,...</td>\n",
       "      <td>this article is about the roman letter for oth...</td>\n",
       "    </tr>\n",
       "    <tr>\n",
       "      <th>4</th>\n",
       "      <td>Alabama</td>\n",
       "      <td>Alternate meanings: See Alabama (disambiguatio...</td>\n",
       "      <td>This article is about the U.S.state.For the ri...</td>\n",
       "      <td>0.638889</td>\n",
       "      <td>0.456440</td>\n",
       "      <td>491</td>\n",
       "      <td>13683</td>\n",
       "      <td>13.441176</td>\n",
       "      <td>93.358621</td>\n",
       "      <td>10202.0</td>\n",
       "      <td>4485.0</td>\n",
       "      <td>2260.0</td>\n",
       "      <td>3119.0</td>\n",
       "      <td>1.130464e+09</td>\n",
       "      <td>1.130464</td>\n",
       "      <td>this article is about the u s state for the ri...</td>\n",
       "      <td>[this, article, is, about, the, u, s, state, f...</td>\n",
       "      <td>this article is about the u s state for the ri...</td>\n",
       "    </tr>\n",
       "  </tbody>\n",
       "</table>\n",
       "</div>"
      ],
      "text/plain": [
       "  page_title                                           original  \\\n",
       "0  Anarchism  Anarchism is a name taken by various political...   \n",
       "1     Autism  Autism is a complex pervasive developmental di...   \n",
       "2     Albedo  In climatology,the albedo of a surface is the ...   \n",
       "3          A  The letter A is the first letter in the Roman ...   \n",
       "4    Alabama  Alternate meanings: See Alabama (disambiguatio...   \n",
       "\n",
       "                                              recent  originalVD  recentVD  \\\n",
       "0  For other uses,see Anarchism (disambiguation)....    0.667939  0.489255   \n",
       "1  This article is about the classic autistic dis...    0.398438  0.499190   \n",
       "2  For other uses,see Albedo (disambiguation).The...    0.568889  0.440594   \n",
       "3  This article is about the Roman letter.For oth...    0.538071  0.471910   \n",
       "4  This article is about the U.S.state.For the ri...    0.638889  0.456440   \n",
       "\n",
       "   originalWPT  recentWPT  originalWPS   recentWPS  revision_id  \\\n",
       "0         1733      10518    32.326923   25.161692      19961.0   \n",
       "1          857       7320    25.781250   84.116279      10646.0   \n",
       "2         1426       4152    51.777778  152.777778       1253.0   \n",
       "3         1527       2386    33.681818   25.208791       4802.0   \n",
       "4          491      13683    13.441176   93.358621      10202.0   \n",
       "\n",
       "   contributor_id  contributor_name   dates      revbytes     revgb  \\\n",
       "0          3797.0            1918.0  3216.0  1.689955e+09  1.689955   \n",
       "1          3757.0            1885.0  2537.0  9.503834e+08  0.950383   \n",
       "2           701.0             448.0   731.0  3.025434e+07  0.030254   \n",
       "3          2609.0            1448.0  1489.0  4.717380e+07  0.047174   \n",
       "4          4485.0            2260.0  3119.0  1.130464e+09  1.130464   \n",
       "\n",
       "                                           cleantext  \\\n",
       "0  for other uses see anarchism  disambiguation  ...   \n",
       "1  this article is about the classic autistic dis...   \n",
       "2  for other uses see albedo  disambiguation  the...   \n",
       "3  this article is about the roman letter for oth...   \n",
       "4  this article is about the u s state for the ri...   \n",
       "\n",
       "                                           tokenized  \\\n",
       "0  [for, other, us, see, anarchism, disambiguatio...   \n",
       "1  [this, article, is, about, the, classic, autis...   \n",
       "2  [for, other, us, see, albedo, disambiguation, ...   \n",
       "3  [this, article, is, about, the, roman, letter,...   \n",
       "4  [this, article, is, about, the, u, s, state, f...   \n",
       "\n",
       "                                          clean_text  \n",
       "0  for other uses see anarchism  disambiguation  ...  \n",
       "1  this article is about the classic autistic dis...  \n",
       "2  for other uses see albedo  disambiguation  the...  \n",
       "3  this article is about the roman letter for oth...  \n",
       "4  this article is about the u s state for the ri...  "
      ]
     },
     "execution_count": 77,
     "metadata": {},
     "output_type": "execute_result"
    }
   ],
   "source": [
    "textdf7 = clean_sentences(textdf6)\n",
    "textdf7.head()"
   ]
  },
  {
   "cell_type": "code",
   "execution_count": 78,
   "metadata": {},
   "outputs": [],
   "source": [
    "query_sentence = 'a land in south africa' \n",
    "\n",
    "pd.options.display.max_colwidth = 500"
   ]
  },
  {
   "cell_type": "code",
   "execution_count": 80,
   "metadata": {},
   "outputs": [],
   "source": [
    "def extract_best_indices(m, topk, mask=None):\n",
    "    \"\"\"\n",
    "    Use sum of the cosine distance over all tokens.\n",
    "    m (np.array): cos matrix of shape (nb_in_tokens, nb_dict_tokens)\n",
    "    topk (int): number of indices to return (from high to lowest in order)\n",
    "    \"\"\"\n",
    "    # return the sum on all tokens of cosinus for each sentence\n",
    "    if len(m.shape) > 1:\n",
    "        cos_sim = np.mean(m, axis=0) \n",
    "    else: \n",
    "        cos_sim = m\n",
    "    index = np.argsort(cos_sim)[::-1] # from highest idx to smallest score \n",
    "    if mask is not None:\n",
    "        assert mask.shape == m.shape\n",
    "        mask = mask[index]\n",
    "    else:\n",
    "        mask = np.ones(len(cos_sim))\n",
    "    mask = np.logical_or(cos_sim[index] != 0, mask) #eliminate 0 cosine distance\n",
    "    best_index = index[mask][:topk]  \n",
    "    return best_index"
   ]
  },
  {
   "cell_type": "code",
   "execution_count": 87,
   "metadata": {},
   "outputs": [
    {
     "data": {
      "text/plain": [
       "143    82\n",
       "142    19\n",
       "141     4\n",
       "Name: clean_text, dtype: int64"
      ]
     },
     "execution_count": 87,
     "metadata": {},
     "output_type": "execute_result"
    }
   ],
   "source": [
    "extract_best_indices(textdf7['clean_text'],3)"
   ]
  },
  {
   "cell_type": "code",
   "execution_count": 89,
   "metadata": {},
   "outputs": [
    {
     "name": "stderr",
     "output_type": "stream",
     "text": [
      "C:\\Users\\ninap\\miniconda3\\envs\\dmml\\lib\\site-packages\\sklearn\\feature_extraction\\text.py:396: UserWarning: Your stop_words may be inconsistent with your preprocessing. Tokenizing the stop words generated tokens ['doe', 'ha', 'wa'] not in stop_words.\n",
      "  warnings.warn(\n"
     ]
    },
    {
     "data": {
      "text/plain": [
       "(144, 54556)"
      ]
     },
     "execution_count": 89,
     "metadata": {},
     "output_type": "execute_result"
    }
   ],
   "source": [
    "# Adapt stop words\n",
    "token_stop = tokenizer(' '.join(STOPWORDS), lemmatize=False)\n",
    "\n",
    "# Fit TFIDF\n",
    "vectorizer = TfidfVectorizer(stop_words=token_stop, tokenizer=tokenizer) \n",
    "tfidf_mat = vectorizer.fit_transform(textdf7['cleantext'].values) # -> (num_sentences, num_vocabulary)\n",
    "tfidf_mat.shape"
   ]
  },
  {
   "cell_type": "code",
   "execution_count": 90,
   "metadata": {},
   "outputs": [
    {
     "data": {
      "text/plain": [
       "'a land in south africa'"
      ]
     },
     "execution_count": 90,
     "metadata": {},
     "output_type": "execute_result"
    }
   ],
   "source": [
    "query_sentence"
   ]
  },
  {
   "cell_type": "code",
   "execution_count": 91,
   "metadata": {},
   "outputs": [],
   "source": [
    "def get_recommendations_tfidf(sentence, tfidf_mat):\n",
    "    \n",
    "    \"\"\"\n",
    "    Return the database sentences in order of highest cosine similarity relatively to each \n",
    "    token of the target sentence. \n",
    "    \"\"\"\n",
    "    # Embed the query sentence\n",
    "    tokens = [str(tok) for tok in tokenizer(sentence)]\n",
    "    vec = vectorizer.transform(tokens)\n",
    "    # Create list with similarity between query and dataset\n",
    "    mat = cosine_similarity(vec, tfidf_mat)\n",
    "    # Best cosine distance for each token independantly\n",
    "    print(mat.shape)\n",
    "    best_index = extract_best_indices(mat, topk=3)\n",
    "    return best_index\n"
   ]
  },
  {
   "cell_type": "code",
   "execution_count": 92,
   "metadata": {},
   "outputs": [
    {
     "name": "stdout",
     "output_type": "stream",
     "text": [
      "(5, 144)\n"
     ]
    },
    {
     "data": {
      "text/html": [
       "<div>\n",
       "<style scoped>\n",
       "    .dataframe tbody tr th:only-of-type {\n",
       "        vertical-align: middle;\n",
       "    }\n",
       "\n",
       "    .dataframe tbody tr th {\n",
       "        vertical-align: top;\n",
       "    }\n",
       "\n",
       "    .dataframe thead th {\n",
       "        text-align: right;\n",
       "    }\n",
       "</style>\n",
       "<table border=\"1\" class=\"dataframe\">\n",
       "  <thead>\n",
       "    <tr style=\"text-align: right;\">\n",
       "      <th></th>\n",
       "      <th>page_title</th>\n",
       "      <th>cleantext</th>\n",
       "    </tr>\n",
       "  </thead>\n",
       "  <tbody>\n",
       "    <tr>\n",
       "      <th>76</th>\n",
       "      <td>Atlantic Ocean</td>\n",
       "      <td>atlantic north atlantic south atlantic and atlantic basin redirect here for other uses see atlantic  disambiguation  north atlantic  disambiguation  south atlantic  disambiguation  and atlantic basin  disambiguation  play media this video was taken by the crew of expedition 29 on board the iss the pass starts from just northeast of the island of newfoundland over the north atlantic ocean to central africa over south sudan the atlantic ocean is the second largest of the world  five oceans wit...</td>\n",
       "    </tr>\n",
       "    <tr>\n",
       "      <th>84</th>\n",
       "      <td>Foreign relations of Angola</td>\n",
       "      <td>the foreign relations of angola are based on angola  strong support of u s foreign policy as the angolan economy is dependent on u s foreign aid from 1975 to 1989 angola was aligned with the eastern bloc in particular the soviet union libya  citation needed  and cuba since then it has focused on improving relationships with western countries cultivating links with other portuguese speaking countries and asserting its own national interests in central africa through military and diplomatic in...</td>\n",
       "    </tr>\n",
       "    <tr>\n",
       "      <th>72</th>\n",
       "      <td>Asia</td>\n",
       "      <td>this article is about the continent for other uses see asia  disambiguation  map of the most populous part of asia showing physical political and population characteristics as per 2018asia   ˈeɪʒə ˈeɪʃə   listen   is earth  largest and most populous continent located primarily in the eastern and northern hemispheres it shares the continental landmass of eurasia with the continent of europe and the continental landmass of afro eurasia with africa and europe asia covers an area of 44 579 000 s...</td>\n",
       "    </tr>\n",
       "  </tbody>\n",
       "</table>\n",
       "</div>"
      ],
      "text/plain": [
       "                     page_title  \\\n",
       "76               Atlantic Ocean   \n",
       "84  Foreign relations of Angola   \n",
       "72                         Asia   \n",
       "\n",
       "                                                                                                                                                                                                                                                                                                                                                                                                                                                                                                              cleantext  \n",
       "76  atlantic north atlantic south atlantic and atlantic basin redirect here for other uses see atlantic  disambiguation  north atlantic  disambiguation  south atlantic  disambiguation  and atlantic basin  disambiguation  play media this video was taken by the crew of expedition 29 on board the iss the pass starts from just northeast of the island of newfoundland over the north atlantic ocean to central africa over south sudan the atlantic ocean is the second largest of the world  five oceans wit...  \n",
       "84  the foreign relations of angola are based on angola  strong support of u s foreign policy as the angolan economy is dependent on u s foreign aid from 1975 to 1989 angola was aligned with the eastern bloc in particular the soviet union libya  citation needed  and cuba since then it has focused on improving relationships with western countries cultivating links with other portuguese speaking countries and asserting its own national interests in central africa through military and diplomatic in...  \n",
       "72  this article is about the continent for other uses see asia  disambiguation  map of the most populous part of asia showing physical political and population characteristics as per 2018asia   ˈeɪʒə ˈeɪʃə   listen   is earth  largest and most populous continent located primarily in the eastern and northern hemispheres it shares the continental landmass of eurasia with the continent of europe and the continental landmass of afro eurasia with africa and europe asia covers an area of 44 579 000 s...  "
      ]
     },
     "execution_count": 92,
     "metadata": {},
     "output_type": "execute_result"
    }
   ],
   "source": [
    "best_index = get_recommendations_tfidf(query_sentence, tfidf_mat)\n",
    "\n",
    "textdf7[['page_title', 'cleantext']].iloc[best_index].head()"
   ]
  },
  {
   "cell_type": "markdown",
   "metadata": {},
   "source": [
    "transformer version"
   ]
  },
  {
   "cell_type": "code",
   "execution_count": 94,
   "metadata": {},
   "outputs": [],
   "source": [
    "from sentence_transformers import SentenceTransformer, util\n",
    "import torch"
   ]
  },
  {
   "cell_type": "code",
   "execution_count": 102,
   "metadata": {},
   "outputs": [
    {
     "name": "stdout",
     "output_type": "stream",
     "text": [
      "\n",
      "\n",
      "======================\n",
      "\n",
      "\n",
      "Query: a land in south africa\n",
      "\n",
      "most similar sentences in corpus:\n",
      "page_title                                                                                                                                                                                                                                                                                                                                                                                                                                                                                                                Algeria\n",
      "cleantext     this article is about the country for other uses see algeria  disambiguation  algeria  c  officially the people  democratic republic of algeria is a country in the maghreb region of north africa the country is the largest country by total area in africa and in the arab world and is bordered to the northeast by tunisia  to the east by libya  to the southeast by niger  to the southwest by mali mauritania and western sahara  to the west by morocco  and to the north by the mediterranean sea it h...\n",
      "Name: 18, dtype: object\n",
      "page_title                                                                                                                                                                                                                                                                                                                                                                                                                                                                                                                 Angola\n",
      "cleantext     this article is about the modern country since 1992 for the former country from 1975 to 1992 see people  republic of angola this article is about the country for other uses see angola  disambiguation  coordinates  12 30 s 18 30 e     12 500 s 18 500 e     12 500  18 500angola   ænˈɡoʊlə   listen   portuguese   ɐ ˈɡɔlɐ   officially the republic of angola  portuguese  república de angola  is a country on the west coast of southern africa it is the second largest lusophone  portuguese speaking ...\n",
      "Name: 78, dtype: object\n",
      "page_title                                                                                                                                                                                                                                                                                                                                                                                                                                                                                                               Aardvark\n",
      "cleantext     for other uses see aardvark  disambiguation  skeleton of an aardvarkthe aardvark   ˈɑːrdvɑːrk  ard vark  orycteropus afer  is a medium sized burrowing nocturnal mammal native to africa it is the only living species of the order tubulidentata although other prehistoric species and genera of tubulidentata are known unlike most other insectivores it has a long pig like snout which is used to sniff out food it roams over most of the southern two thirds of the african continent avoiding areas tha...\n",
      "Name: 68, dtype: object\n"
     ]
    }
   ],
   "source": [
    "model = SentenceTransformer('paraphrase-MiniLM-L6-v2')\n",
    "corpus_embeddings = model.encode(textdf7.cleantext.values, convert_to_tensor=True)\n",
    "query_embedding = model.encode(query_sentence, convert_to_tensor=True)\n",
    "\n",
    "cos_scores = util.pytorch_cos_sim(query_embedding, corpus_embeddings)[0]\n",
    "top_results = torch.topk(cos_scores, k=3)\n",
    "\n",
    "print(\"\\n\\n======================\\n\\n\")\n",
    "print(\"Query:\", query_sentence)\n",
    "print(\"\\nmost similar sentences in corpus:\")\n",
    "\n",
    "for score, idx in zip(top_results[0], top_results[1]):\n",
    "    score = score.cpu().data.numpy() \n",
    "    idx = idx.cpu().data.numpy()\n",
    "    print(textdf7[['page_title', 'cleantext']].iloc[idx].head())"
   ]
  },
  {
   "cell_type": "code",
   "execution_count": 166,
   "metadata": {},
   "outputs": [
    {
     "name": "stdout",
     "output_type": "stream",
     "text": [
      "['Anarchism', 'Anti-capitalism', 'Anti-fascism', 'Articles containing French-language text', 'Articles containing Spanish-language text', 'Articles prone to spam from November 2014', 'Articles with BNE identifiers', 'Articles with BNF identifiers', 'Articles with EMU identifiers', 'Articles with GND identifiers', 'Articles with HDS identifiers', 'Articles with J9U identifiers', 'Articles with LCCN identifiers', 'Articles with NKC identifiers', 'Articles with short description', 'Economic ideologies', 'Far-left politics', 'Good articles', 'Left-wing politics', 'Libertarian socialism', 'Libertarianism', 'Political culture', 'Political ideologies', 'Political movements', 'Short description matches Wikidata', 'Social theories', 'Socialism', 'Use British English from August 2021', 'Use dmy dates from August 2021', 'Wikipedia indefinitely semi-protected pages']\n"
     ]
    }
   ],
   "source": [
    "print(wikipedia.page(\"Anarchism\").categories)"
   ]
  },
  {
   "cell_type": "code",
   "execution_count": 211,
   "metadata": {},
   "outputs": [
    {
     "data": {
      "text/html": [
       "<div>\n",
       "<style scoped>\n",
       "    .dataframe tbody tr th:only-of-type {\n",
       "        vertical-align: middle;\n",
       "    }\n",
       "\n",
       "    .dataframe tbody tr th {\n",
       "        vertical-align: top;\n",
       "    }\n",
       "\n",
       "    .dataframe thead th {\n",
       "        text-align: right;\n",
       "    }\n",
       "</style>\n",
       "<table border=\"1\" class=\"dataframe\">\n",
       "  <thead>\n",
       "    <tr style=\"text-align: right;\">\n",
       "      <th></th>\n",
       "      <th>page_id</th>\n",
       "      <th>page_title</th>\n",
       "      <th>revision_id</th>\n",
       "      <th>timestamp</th>\n",
       "      <th>comment</th>\n",
       "      <th>contributor_id</th>\n",
       "      <th>contributor_name</th>\n",
       "      <th>bytes</th>\n",
       "      <th>revtext</th>\n",
       "      <th>dates</th>\n",
       "      <th>times</th>\n",
       "      <th>revbytes</th>\n",
       "      <th>revperc</th>\n",
       "    </tr>\n",
       "  </thead>\n",
       "  <tbody>\n",
       "    <tr>\n",
       "      <th>0</th>\n",
       "      <td>10</td>\n",
       "      <td>AccessibleComputing</td>\n",
       "      <td>233192</td>\n",
       "      <td>2001-01-21 02:12:21</td>\n",
       "      <td>*</td>\n",
       "      <td>99</td>\n",
       "      <td>RoseParks</td>\n",
       "      <td>124</td>\n",
       "      <td>This subject covers* AssistiveTechnology* AccessibleSoftware* AccessibleWeb* LegalIssuesInAccessibleComputing</td>\n",
       "      <td>2001-01-21</td>\n",
       "      <td>02:12:21</td>\n",
       "      <td>2848</td>\n",
       "      <td>4.353933</td>\n",
       "    </tr>\n",
       "    <tr>\n",
       "      <th>1</th>\n",
       "      <td>10</td>\n",
       "      <td>AccessibleComputing</td>\n",
       "      <td>862220</td>\n",
       "      <td>2002-02-25 15:43:11</td>\n",
       "      <td>Automated conversion</td>\n",
       "      <td>1226483</td>\n",
       "      <td>Conversion script</td>\n",
       "      <td>35</td>\n",
       "      <td>#REDIRECT [[Accessible Computing]]</td>\n",
       "      <td>2002-02-25</td>\n",
       "      <td>15:43:11</td>\n",
       "      <td>2848</td>\n",
       "      <td>1.228933</td>\n",
       "    </tr>\n",
       "    <tr>\n",
       "      <th>2</th>\n",
       "      <td>10</td>\n",
       "      <td>AccessibleComputing</td>\n",
       "      <td>15898945</td>\n",
       "      <td>2003-04-25 22:18:38</td>\n",
       "      <td>Fixing redirect</td>\n",
       "      <td>7543</td>\n",
       "      <td>Ams80</td>\n",
       "      <td>34</td>\n",
       "      <td>#REDIRECT [[Accessible_computing]]</td>\n",
       "      <td>2003-04-25</td>\n",
       "      <td>22:18:38</td>\n",
       "      <td>2848</td>\n",
       "      <td>1.193820</td>\n",
       "    </tr>\n",
       "    <tr>\n",
       "      <th>3</th>\n",
       "      <td>10</td>\n",
       "      <td>AccessibleComputing</td>\n",
       "      <td>56681914</td>\n",
       "      <td>2006-06-03 16:55:41</td>\n",
       "      <td>fix double redirect</td>\n",
       "      <td>516514</td>\n",
       "      <td>Nzd</td>\n",
       "      <td>36</td>\n",
       "      <td>#REDIRECT [[Computer accessibility]]</td>\n",
       "      <td>2006-06-03</td>\n",
       "      <td>16:55:41</td>\n",
       "      <td>2848</td>\n",
       "      <td>1.264045</td>\n",
       "    </tr>\n",
       "    <tr>\n",
       "      <th>4</th>\n",
       "      <td>10</td>\n",
       "      <td>AccessibleComputing</td>\n",
       "      <td>74466685</td>\n",
       "      <td>2006-09-08 04:16:04</td>\n",
       "      <td>cat rd</td>\n",
       "      <td>750223</td>\n",
       "      <td>Rory096</td>\n",
       "      <td>57</td>\n",
       "      <td>#REDIRECT [[Computer accessibility]] {{R from CamelCase}}</td>\n",
       "      <td>2006-09-08</td>\n",
       "      <td>04:16:04</td>\n",
       "      <td>2848</td>\n",
       "      <td>2.001404</td>\n",
       "    </tr>\n",
       "  </tbody>\n",
       "</table>\n",
       "</div>"
      ],
      "text/plain": [
       "   page_id           page_title  revision_id            timestamp  \\\n",
       "0       10  AccessibleComputing       233192  2001-01-21 02:12:21   \n",
       "1       10  AccessibleComputing       862220  2002-02-25 15:43:11   \n",
       "2       10  AccessibleComputing     15898945  2003-04-25 22:18:38   \n",
       "3       10  AccessibleComputing     56681914  2006-06-03 16:55:41   \n",
       "4       10  AccessibleComputing     74466685  2006-09-08 04:16:04   \n",
       "\n",
       "                comment contributor_id   contributor_name  bytes  \\\n",
       "0                     *             99          RoseParks    124   \n",
       "1  Automated conversion        1226483  Conversion script     35   \n",
       "2       Fixing redirect           7543              Ams80     34   \n",
       "3   fix double redirect         516514                Nzd     36   \n",
       "4                cat rd         750223            Rory096     57   \n",
       "\n",
       "                                                                                                         revtext  \\\n",
       "0  This subject covers* AssistiveTechnology* AccessibleSoftware* AccessibleWeb* LegalIssuesInAccessibleComputing   \n",
       "1                                                                             #REDIRECT [[Accessible Computing]]   \n",
       "2                                                                             #REDIRECT [[Accessible_computing]]   \n",
       "3                                                                           #REDIRECT [[Computer accessibility]]   \n",
       "4                                                      #REDIRECT [[Computer accessibility]] {{R from CamelCase}}   \n",
       "\n",
       "        dates     times  revbytes   revperc  \n",
       "0  2001-01-21  02:12:21      2848  4.353933  \n",
       "1  2002-02-25  15:43:11      2848  1.228933  \n",
       "2  2003-04-25  22:18:38      2848  1.193820  \n",
       "3  2006-06-03  16:55:41      2848  1.264045  \n",
       "4  2006-09-08  04:16:04      2848  2.001404  "
      ]
     },
     "execution_count": 211,
     "metadata": {},
     "output_type": "execute_result"
    }
   ],
   "source": [
    "df.head()"
   ]
  },
  {
   "cell_type": "code",
   "execution_count": 217,
   "metadata": {},
   "outputs": [
    {
     "name": "stdout",
     "output_type": "stream",
     "text": [
      "<class 'pandas.core.frame.DataFrame'>\n",
      "Int64Index: 144 entries, 0 to 143\n",
      "Data columns (total 18 columns):\n",
      " #   Column            Non-Null Count  Dtype  \n",
      "---  ------            --------------  -----  \n",
      " 0   page_title        144 non-null    object \n",
      " 1   original          144 non-null    object \n",
      " 2   recent            144 non-null    object \n",
      " 3   originalVD        144 non-null    float64\n",
      " 4   recentVD          144 non-null    float64\n",
      " 5   originalWPT       144 non-null    int64  \n",
      " 6   recentWPT         144 non-null    int64  \n",
      " 7   originalWPS       143 non-null    float64\n",
      " 8   recentWPS         144 non-null    float64\n",
      " 9   revision_id       141 non-null    float64\n",
      " 10  contributor_id    141 non-null    float64\n",
      " 11  contributor_name  141 non-null    float64\n",
      " 12  dates             141 non-null    float64\n",
      " 13  revbytes          141 non-null    float64\n",
      " 14  revgb             141 non-null    float64\n",
      " 15  cleantext         144 non-null    object \n",
      " 16  tokenized         144 non-null    object \n",
      " 17  clean_text        144 non-null    object \n",
      "dtypes: float64(10), int64(2), object(6)\n",
      "memory usage: 25.4+ KB\n"
     ]
    }
   ],
   "source": [
    "textdf7.info()"
   ]
  },
  {
   "cell_type": "code",
   "execution_count": 222,
   "metadata": {},
   "outputs": [
    {
     "name": "stdout",
     "output_type": "stream",
     "text": [
      "<class 'pandas.core.frame.DataFrame'>\n",
      "Int64Index: 144 entries, 0 to 143\n",
      "Data columns (total 19 columns):\n",
      " #   Column            Non-Null Count  Dtype  \n",
      "---  ------            --------------  -----  \n",
      " 0   page_title        144 non-null    object \n",
      " 1   original          144 non-null    object \n",
      " 2   recent            144 non-null    object \n",
      " 3   originalVD        144 non-null    float64\n",
      " 4   recentVD          144 non-null    float64\n",
      " 5   originalWPT       144 non-null    int64  \n",
      " 6   recentWPT         144 non-null    int64  \n",
      " 7   originalWPS       143 non-null    float64\n",
      " 8   recentWPS         144 non-null    float64\n",
      " 9   revision_id       141 non-null    float64\n",
      " 10  contributor_id    141 non-null    float64\n",
      " 11  contributor_name  141 non-null    float64\n",
      " 12  dates             141 non-null    float64\n",
      " 13  revbytes          141 non-null    float64\n",
      " 14  revgb             141 non-null    float64\n",
      " 15  cleantext         144 non-null    object \n",
      " 16  tokenized         144 non-null    object \n",
      " 17  clean_text        144 non-null    object \n",
      " 18  page_id           141 non-null    float64\n",
      "dtypes: float64(11), int64(2), object(6)\n",
      "memory usage: 22.5+ KB\n"
     ]
    }
   ],
   "source": [
    "textdf8 = pd.merge(textdf7, df1[['page_title', 'page_id']], on='page_title', how='left')\n",
    "textdf8.info()"
   ]
  },
  {
   "cell_type": "markdown",
   "metadata": {},
   "source": [
    "save progress to csv"
   ]
  },
  {
   "cell_type": "code",
   "execution_count": 267,
   "metadata": {},
   "outputs": [],
   "source": [
    "textdf8.to_csv('p1p857_Text.csv')"
   ]
  },
  {
   "cell_type": "markdown",
   "metadata": {},
   "source": [
    "play with categories..."
   ]
  },
  {
   "cell_type": "code",
   "execution_count": 179,
   "metadata": {},
   "outputs": [],
   "source": [
    "cats = []\n",
    "\n",
    "try:\n",
    "    for i in textdf7['page_title']:\n",
    "        cats.append(wikipedia.page(i).categories)\n",
    "except wikipedia.exceptions.PageError:\n",
    "    #print(i)\n",
    "    pass\n",
    "    \n",
    "\n"
   ]
  },
  {
   "cell_type": "code",
   "execution_count": 228,
   "metadata": {},
   "outputs": [
    {
     "data": {
      "text/plain": [
       "['All articles needing additional references',\n",
       " 'All articles with unsourced statements',\n",
       " 'All pages needing cleanup',\n",
       " 'Articles needing additional references from May 2010',\n",
       " 'Articles needing cleanup from September 2012',\n",
       " 'Articles with hAudio microformats',\n",
       " 'Articles with multiple maintenance issues',\n",
       " 'Articles with short description',\n",
       " 'Articles with unsourced statements from January 2022',\n",
       " 'CS1 Portuguese-language sources (pt)',\n",
       " 'Cleanup tagged articles with a reason field from September 2012',\n",
       " 'Commons category link from Wikidata',\n",
       " 'Computer accessibility',\n",
       " 'Short description matches Wikidata',\n",
       " 'Spoken articles',\n",
       " 'Webarchive template other archives',\n",
       " 'Webarchive template wayback links',\n",
       " 'Wikipedia pages needing cleanup from September 2012']"
      ]
     },
     "execution_count": 228,
     "metadata": {},
     "output_type": "execute_result"
    }
   ],
   "source": [
    "wikipedia.page(title = 'AccessibleComputing', pageid = 10).categories"
   ]
  },
  {
   "cell_type": "code",
   "execution_count": 232,
   "metadata": {},
   "outputs": [
    {
     "name": "stderr",
     "output_type": "stream",
     "text": [
      "C:\\Users\\ninap\\miniconda3\\envs\\dmml\\lib\\site-packages\\wikipedia\\wikipedia.py:389: GuessedAtParserWarning: No parser was explicitly specified, so I'm using the best available HTML parser for this system (\"lxml\"). This usually isn't a problem, but if you run this code on another system, or in a different virtual environment, it may use a different parser and behave differently.\n",
      "\n",
      "The code that caused this warning is on line 389 of the file C:\\Users\\ninap\\miniconda3\\envs\\dmml\\lib\\site-packages\\wikipedia\\wikipedia.py. To get rid of this warning, pass the additional argument 'features=\"lxml\"' to the BeautifulSoup constructor.\n",
      "\n",
      "  lis = BeautifulSoup(html).find_all('li')\n"
     ]
    }
   ],
   "source": [
    "cats = []\n",
    "Perror = []\n",
    "Derror = []\n",
    "\n",
    "for i in textdf7['page_title']:\n",
    "    try:\n",
    "        cats.append(wikipedia.page(i).categories)\n",
    "    except wikipedia.exceptions.PageError:\n",
    "        Perror.append(i)\n",
    "        pass\n",
    "    except wikipedia.exceptions.DisambiguationError: \n",
    "        Derror.append(i)\n",
    "        pass\n"
   ]
  },
  {
   "cell_type": "code",
   "execution_count": 236,
   "metadata": {},
   "outputs": [
    {
     "data": {
      "text/plain": [
       "['Autism',\n",
       " 'Ayn Rand',\n",
       " 'Animal Farm',\n",
       " 'A Modest Proposal',\n",
       " 'Asia',\n",
       " 'Asteroids (video game)',\n",
       " 'Altaic languages',\n",
       " 'Axiom of choice',\n",
       " 'Alfred Nobel',\n",
       " 'Apple Inc.']"
      ]
     },
     "execution_count": 236,
     "metadata": {},
     "output_type": "execute_result"
    }
   ],
   "source": [
    "Perror"
   ]
  },
  {
   "cell_type": "code",
   "execution_count": 237,
   "metadata": {},
   "outputs": [],
   "source": [
    "def getURL(keyword):\n",
    "  S = requests.Session()\n",
    "  URL = \"https://en.wikipedia.org/w/api.php\"\n",
    "  PARAMS = {\n",
    "    \"action\": \"opensearch\",\n",
    "    \"search\": keyword,\n",
    "    \"limit\": \"1\",\n",
    "    \"format\": \"json\", \n",
    "    'profile': 'fuzzy'\n",
    "    }\n",
    "  R = S.get(url=URL, params=PARAMS)\n",
    "  got = R.json()\n",
    "  wikititle = got[3]\n",
    "  wt1 = ''.join(str(e) for e in wikititle)\n",
    "  print(wt1)\n",
    "  return wt1"
   ]
  },
  {
   "cell_type": "code",
   "execution_count": 255,
   "metadata": {},
   "outputs": [],
   "source": [
    "def getCat(keyword):\n",
    "  S = requests.Session()\n",
    "  URL = \"https://en.wikipedia.org/w/api.php\"\n",
    "  PARAMS = {\n",
    "      \"action\": \"query\",\n",
    "      \"format\": \"json\",\n",
    "      \"prop\": \"categories\",\n",
    "      \"titles\": keyword\n",
    "      }\n",
    "  R = S.get(url=URL, params=PARAMS)\n",
    "  DATA = R.json()\n",
    "\n",
    "  PAGES = DATA[\"query\"][\"pages\"]\n",
    "\n",
    "  cats = []\n",
    "  pages = []\n",
    "\n",
    "  for k, v in PAGES.items():\n",
    "    for cat in v['categories']:\n",
    "        cats.append(cat[\"title\"]) \n",
    "        pages.append(keyword)\n",
    "  return cats, pages"
   ]
  },
  {
   "cell_type": "code",
   "execution_count": null,
   "metadata": {},
   "outputs": [],
   "source": [
    "perrortitles = []\n",
    "perrorcats = []\n",
    "\n",
    "for i in Perror: \n",
    "    perrortitles.append(getCat(i)['pages'])\n",
    "    perrorcats.append(getCat(i)['cats'][1])\n",
    "\n"
   ]
  },
  {
   "cell_type": "code",
   "execution_count": 262,
   "metadata": {},
   "outputs": [
    {
     "data": {
      "text/plain": [
       "['titles',\n",
       " 'titles',\n",
       " 'titles',\n",
       " 'titles',\n",
       " 'titles',\n",
       " 'titles',\n",
       " 'titles',\n",
       " 'titles',\n",
       " 'titles',\n",
       " 'titles']"
      ]
     },
     "execution_count": 262,
     "metadata": {},
     "output_type": "execute_result"
    }
   ],
   "source": [
    "pages"
   ]
  },
  {
   "cell_type": "code",
   "execution_count": 241,
   "metadata": {},
   "outputs": [
    {
     "name": "stdout",
     "output_type": "stream",
     "text": [
      "https://en.wikipedia.org/wiki/Alien\n",
      "https://en.wikipedia.org/wiki/ASCII\n",
      "https://en.wikipedia.org/wiki/Abel\n",
      "https://en.wikipedia.org/wiki/Aa_River\n",
      "https://en.wikipedia.org/wiki/Alberta\n",
      "https://en.wikipedia.org/wiki/Allahabad\n",
      "https://en.wikipedia.org/wiki/Art\n",
      "https://en.wikipedia.org/wiki/Asterism\n",
      "https://en.wikipedia.org/wiki/Audi\n"
     ]
    }
   ],
   "source": [
    "for i in Derror: \n",
    "    getURL(i)"
   ]
  },
  {
   "cell_type": "code",
   "execution_count": null,
   "metadata": {},
   "outputs": [],
   "source": [
    "def getcat(keyword):\n",
    "\n",
    "    S = requests.Session()\n",
    "\n",
    "    URL = \"https://en.wikipedia.org/w/api.php\"\n",
    "\n",
    "    PARAMS = {\n",
    "        \"action\": \"query\",\n",
    "        \"format\": \"json\",\n",
    "        \"prop\": \"categories\",\n",
    "        \"titles\": keyword,\n",
    "        \"clshow\": \"!hidden\"\n",
    "    }\n",
    "\n",
    "    R = S.get(url=URL, params=PARAMS)\n",
    "    DATA = R.json()\n",
    "\n",
    "    PAGES = DATA[\"query\"][\"pages\"]\n",
    "    cates = []\n",
    "    for k, v in PAGES.items():\n",
    "        try:\n",
    "            for cat in v['categories']:\n",
    "                cates.append(cat[\"title\"])\n",
    "        except:\n",
    "            cates.append('no cat')\n",
    "\n",
    "    return cates"
   ]
  }
 ],
 "metadata": {
  "kernelspec": {
   "display_name": "Python 3",
   "name": "python3"
  },
  "language_info": {
   "codemirror_mode": {
    "name": "ipython",
    "version": 3
   },
   "file_extension": ".py",
   "mimetype": "text/x-python",
   "name": "python",
   "nbconvert_exporter": "python",
   "pygments_lexer": "ipython3",
   "version": "3.9.7"
  },
  "orig_nbformat": 2
 },
 "nbformat": 4,
 "nbformat_minor": 2
}
