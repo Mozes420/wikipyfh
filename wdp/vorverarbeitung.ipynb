{
 "metadata": {
  "language_info": {
   "codemirror_mode": {
    "name": "ipython",
    "version": 3
   },
   "file_extension": ".py",
   "mimetype": "text/x-python",
   "name": "python",
   "nbconvert_exporter": "python",
   "pygments_lexer": "ipython3",
   "version": "3.10.2-final"
  },
  "orig_nbformat": 2,
  "kernelspec": {
   "name": "python3",
   "display_name": "Python 3.10.2 64-bit",
   "metadata": {
    "interpreter": {
     "hash": "98590ff4fe04c8543246b2a01debd3de3c5ca9b666f43f1fa87d5110c692004c"
    }
   }
  }
 },
 "nbformat": 4,
 "nbformat_minor": 2,
 "cells": [
  {
   "source": [
    "# File 2: Daten Vorverarbeitung des CSV-Dumps"
   ],
   "cell_type": "markdown",
   "metadata": {}
  },
  {
   "source": [
    "### Libraries"
   ],
   "cell_type": "markdown",
   "metadata": {}
  },
  {
   "cell_type": "code",
   "execution_count": 1,
   "metadata": {},
   "outputs": [],
   "source": [
    "import numpy as np\n",
    "import pandas as pd"
   ]
  },
  {
   "source": [
    "### Einlesen des CSV-Files"
   ],
   "cell_type": "markdown",
   "metadata": {}
  },
  {
   "cell_type": "code",
   "execution_count": 2,
   "metadata": {},
   "outputs": [],
   "source": [
    "df = pd.read_csv('/Users/m.wieser/Documents/vscode_workspace/pyscripts/dump_unpacked/enwiki-p1p857.csv', quotechar='|', sep = '#', engine = 'python', on_bad_lines='warn')\n",
    "df['timestamp'] = pd.to_datetime(df['timestamp'],format='%Y-%m-%dT%H:%M:%SZ')"
   ]
  },
  {
   "source": [
    "### Überprüfen und erstes Sichten des Dataframes"
   ],
   "cell_type": "markdown",
   "metadata": {}
  },
  {
   "cell_type": "code",
   "execution_count": 3,
   "metadata": {},
   "outputs": [
    {
     "output_type": "execute_result",
     "data": {
      "text/plain": [
       "   page_id           page_title  revision_id           timestamp  \\\n",
       "0       10  AccessibleComputing       233192 2001-01-21 02:12:21   \n",
       "1       10  AccessibleComputing       862220 2002-02-25 15:43:11   \n",
       "2       10  AccessibleComputing     15898945 2003-04-25 22:18:38   \n",
       "3       10  AccessibleComputing     56681914 2006-06-03 16:55:41   \n",
       "4       10  AccessibleComputing     74466685 2006-09-08 04:16:04   \n",
       "\n",
       "                comment contributor_id   contributor_name  bytes  \\\n",
       "0                     *             99          RoseParks    124   \n",
       "1  Automated conversion        1226483  Conversion script     35   \n",
       "2       Fixing redirect           7543              Ams80     34   \n",
       "3   fix double redirect         516514                Nzd     36   \n",
       "4                cat rd         750223            Rory096     57   \n",
       "\n",
       "                                             revtext  \n",
       "0  This subject covers* AssistiveTechnology* Acce...  \n",
       "1                 #REDIRECT [[Accessible Computing]]  \n",
       "2                 #REDIRECT [[Accessible_computing]]  \n",
       "3               #REDIRECT [[Computer accessibility]]  \n",
       "4  #REDIRECT [[Computer accessibility]] {{R from ...  "
      ],
      "text/html": "<div>\n<style scoped>\n    .dataframe tbody tr th:only-of-type {\n        vertical-align: middle;\n    }\n\n    .dataframe tbody tr th {\n        vertical-align: top;\n    }\n\n    .dataframe thead th {\n        text-align: right;\n    }\n</style>\n<table border=\"1\" class=\"dataframe\">\n  <thead>\n    <tr style=\"text-align: right;\">\n      <th></th>\n      <th>page_id</th>\n      <th>page_title</th>\n      <th>revision_id</th>\n      <th>timestamp</th>\n      <th>comment</th>\n      <th>contributor_id</th>\n      <th>contributor_name</th>\n      <th>bytes</th>\n      <th>revtext</th>\n    </tr>\n  </thead>\n  <tbody>\n    <tr>\n      <th>0</th>\n      <td>10</td>\n      <td>AccessibleComputing</td>\n      <td>233192</td>\n      <td>2001-01-21 02:12:21</td>\n      <td>*</td>\n      <td>99</td>\n      <td>RoseParks</td>\n      <td>124</td>\n      <td>This subject covers* AssistiveTechnology* Acce...</td>\n    </tr>\n    <tr>\n      <th>1</th>\n      <td>10</td>\n      <td>AccessibleComputing</td>\n      <td>862220</td>\n      <td>2002-02-25 15:43:11</td>\n      <td>Automated conversion</td>\n      <td>1226483</td>\n      <td>Conversion script</td>\n      <td>35</td>\n      <td>#REDIRECT [[Accessible Computing]]</td>\n    </tr>\n    <tr>\n      <th>2</th>\n      <td>10</td>\n      <td>AccessibleComputing</td>\n      <td>15898945</td>\n      <td>2003-04-25 22:18:38</td>\n      <td>Fixing redirect</td>\n      <td>7543</td>\n      <td>Ams80</td>\n      <td>34</td>\n      <td>#REDIRECT [[Accessible_computing]]</td>\n    </tr>\n    <tr>\n      <th>3</th>\n      <td>10</td>\n      <td>AccessibleComputing</td>\n      <td>56681914</td>\n      <td>2006-06-03 16:55:41</td>\n      <td>fix double redirect</td>\n      <td>516514</td>\n      <td>Nzd</td>\n      <td>36</td>\n      <td>#REDIRECT [[Computer accessibility]]</td>\n    </tr>\n    <tr>\n      <th>4</th>\n      <td>10</td>\n      <td>AccessibleComputing</td>\n      <td>74466685</td>\n      <td>2006-09-08 04:16:04</td>\n      <td>cat rd</td>\n      <td>750223</td>\n      <td>Rory096</td>\n      <td>57</td>\n      <td>#REDIRECT [[Computer accessibility]] {{R from ...</td>\n    </tr>\n  </tbody>\n</table>\n</div>"
     },
     "metadata": {},
     "execution_count": 3
    }
   ],
   "source": [
    "df.head()"
   ]
  },
  {
   "cell_type": "code",
   "execution_count": 4,
   "metadata": {},
   "outputs": [
    {
     "output_type": "stream",
     "name": "stdout",
     "text": [
      "<class 'pandas.core.frame.DataFrame'>\nRangeIndex: 548305 entries, 0 to 548304\nData columns (total 9 columns):\n #   Column            Non-Null Count   Dtype         \n---  ------            --------------   -----         \n 0   page_id           548305 non-null  int64         \n 1   page_title        548305 non-null  object        \n 2   revision_id       548305 non-null  int64         \n 3   timestamp         548305 non-null  datetime64[ns]\n 4   comment           448614 non-null  object        \n 5   contributor_id    548291 non-null  object        \n 6   contributor_name  375963 non-null  object        \n 7   bytes             548305 non-null  int64         \n 8   revtext           546854 non-null  object        \ndtypes: datetime64[ns](1), int64(3), object(5)\nmemory usage: 37.6+ MB\n"
     ]
    },
    {
     "output_type": "execute_result",
     "data": {
      "text/plain": [
       "             page_id   revision_id         bytes\n",
       "count  548305.000000  5.483050e+05  5.483050e+05\n",
       "mean      615.323158  3.511284e+08  6.548075e+04\n",
       "std       223.177424  2.980818e+08  5.329390e+04\n",
       "min        10.000000  4.430000e+02  0.000000e+00\n",
       "25%       579.000000  9.593874e+07  2.751700e+04\n",
       "50%       689.000000  2.697240e+08  5.281700e+04\n",
       "75%       771.000000  5.521281e+08  8.866000e+04\n",
       "max       857.000000  1.069247e+09  1.788058e+06"
      ],
      "text/html": "<div>\n<style scoped>\n    .dataframe tbody tr th:only-of-type {\n        vertical-align: middle;\n    }\n\n    .dataframe tbody tr th {\n        vertical-align: top;\n    }\n\n    .dataframe thead th {\n        text-align: right;\n    }\n</style>\n<table border=\"1\" class=\"dataframe\">\n  <thead>\n    <tr style=\"text-align: right;\">\n      <th></th>\n      <th>page_id</th>\n      <th>revision_id</th>\n      <th>bytes</th>\n    </tr>\n  </thead>\n  <tbody>\n    <tr>\n      <th>count</th>\n      <td>548305.000000</td>\n      <td>5.483050e+05</td>\n      <td>5.483050e+05</td>\n    </tr>\n    <tr>\n      <th>mean</th>\n      <td>615.323158</td>\n      <td>3.511284e+08</td>\n      <td>6.548075e+04</td>\n    </tr>\n    <tr>\n      <th>std</th>\n      <td>223.177424</td>\n      <td>2.980818e+08</td>\n      <td>5.329390e+04</td>\n    </tr>\n    <tr>\n      <th>min</th>\n      <td>10.000000</td>\n      <td>4.430000e+02</td>\n      <td>0.000000e+00</td>\n    </tr>\n    <tr>\n      <th>25%</th>\n      <td>579.000000</td>\n      <td>9.593874e+07</td>\n      <td>2.751700e+04</td>\n    </tr>\n    <tr>\n      <th>50%</th>\n      <td>689.000000</td>\n      <td>2.697240e+08</td>\n      <td>5.281700e+04</td>\n    </tr>\n    <tr>\n      <th>75%</th>\n      <td>771.000000</td>\n      <td>5.521281e+08</td>\n      <td>8.866000e+04</td>\n    </tr>\n    <tr>\n      <th>max</th>\n      <td>857.000000</td>\n      <td>1.069247e+09</td>\n      <td>1.788058e+06</td>\n    </tr>\n  </tbody>\n</table>\n</div>"
     },
     "metadata": {},
     "execution_count": 4
    }
   ],
   "source": [
    "df.info()\n",
    "df.describe()"
   ]
  },
  {
   "source": [
    "### Einfügen von Datumsspalten - über Timestamp Spalte"
   ],
   "cell_type": "markdown",
   "metadata": {}
  },
  {
   "cell_type": "code",
   "execution_count": 5,
   "metadata": {},
   "outputs": [],
   "source": [
    "df['dates'] = df['timestamp'].dt.date\n",
    "df['times'] = df['timestamp'].dt.time"
   ]
  },
  {
   "cell_type": "code",
   "execution_count": 6,
   "metadata": {},
   "outputs": [
    {
     "output_type": "execute_result",
     "data": {
      "text/plain": [
       "   page_id           page_title  revision_id           timestamp  \\\n",
       "0       10  AccessibleComputing       233192 2001-01-21 02:12:21   \n",
       "1       10  AccessibleComputing       862220 2002-02-25 15:43:11   \n",
       "2       10  AccessibleComputing     15898945 2003-04-25 22:18:38   \n",
       "3       10  AccessibleComputing     56681914 2006-06-03 16:55:41   \n",
       "4       10  AccessibleComputing     74466685 2006-09-08 04:16:04   \n",
       "\n",
       "                comment contributor_id   contributor_name  bytes  \\\n",
       "0                     *             99          RoseParks    124   \n",
       "1  Automated conversion        1226483  Conversion script     35   \n",
       "2       Fixing redirect           7543              Ams80     34   \n",
       "3   fix double redirect         516514                Nzd     36   \n",
       "4                cat rd         750223            Rory096     57   \n",
       "\n",
       "                                             revtext       dates     times  \n",
       "0  This subject covers* AssistiveTechnology* Acce...  2001-01-21  02:12:21  \n",
       "1                 #REDIRECT [[Accessible Computing]]  2002-02-25  15:43:11  \n",
       "2                 #REDIRECT [[Accessible_computing]]  2003-04-25  22:18:38  \n",
       "3               #REDIRECT [[Computer accessibility]]  2006-06-03  16:55:41  \n",
       "4  #REDIRECT [[Computer accessibility]] {{R from ...  2006-09-08  04:16:04  "
      ],
      "text/html": "<div>\n<style scoped>\n    .dataframe tbody tr th:only-of-type {\n        vertical-align: middle;\n    }\n\n    .dataframe tbody tr th {\n        vertical-align: top;\n    }\n\n    .dataframe thead th {\n        text-align: right;\n    }\n</style>\n<table border=\"1\" class=\"dataframe\">\n  <thead>\n    <tr style=\"text-align: right;\">\n      <th></th>\n      <th>page_id</th>\n      <th>page_title</th>\n      <th>revision_id</th>\n      <th>timestamp</th>\n      <th>comment</th>\n      <th>contributor_id</th>\n      <th>contributor_name</th>\n      <th>bytes</th>\n      <th>revtext</th>\n      <th>dates</th>\n      <th>times</th>\n    </tr>\n  </thead>\n  <tbody>\n    <tr>\n      <th>0</th>\n      <td>10</td>\n      <td>AccessibleComputing</td>\n      <td>233192</td>\n      <td>2001-01-21 02:12:21</td>\n      <td>*</td>\n      <td>99</td>\n      <td>RoseParks</td>\n      <td>124</td>\n      <td>This subject covers* AssistiveTechnology* Acce...</td>\n      <td>2001-01-21</td>\n      <td>02:12:21</td>\n    </tr>\n    <tr>\n      <th>1</th>\n      <td>10</td>\n      <td>AccessibleComputing</td>\n      <td>862220</td>\n      <td>2002-02-25 15:43:11</td>\n      <td>Automated conversion</td>\n      <td>1226483</td>\n      <td>Conversion script</td>\n      <td>35</td>\n      <td>#REDIRECT [[Accessible Computing]]</td>\n      <td>2002-02-25</td>\n      <td>15:43:11</td>\n    </tr>\n    <tr>\n      <th>2</th>\n      <td>10</td>\n      <td>AccessibleComputing</td>\n      <td>15898945</td>\n      <td>2003-04-25 22:18:38</td>\n      <td>Fixing redirect</td>\n      <td>7543</td>\n      <td>Ams80</td>\n      <td>34</td>\n      <td>#REDIRECT [[Accessible_computing]]</td>\n      <td>2003-04-25</td>\n      <td>22:18:38</td>\n    </tr>\n    <tr>\n      <th>3</th>\n      <td>10</td>\n      <td>AccessibleComputing</td>\n      <td>56681914</td>\n      <td>2006-06-03 16:55:41</td>\n      <td>fix double redirect</td>\n      <td>516514</td>\n      <td>Nzd</td>\n      <td>36</td>\n      <td>#REDIRECT [[Computer accessibility]]</td>\n      <td>2006-06-03</td>\n      <td>16:55:41</td>\n    </tr>\n    <tr>\n      <th>4</th>\n      <td>10</td>\n      <td>AccessibleComputing</td>\n      <td>74466685</td>\n      <td>2006-09-08 04:16:04</td>\n      <td>cat rd</td>\n      <td>750223</td>\n      <td>Rory096</td>\n      <td>57</td>\n      <td>#REDIRECT [[Computer accessibility]] {{R from ...</td>\n      <td>2006-09-08</td>\n      <td>04:16:04</td>\n    </tr>\n  </tbody>\n</table>\n</div>"
     },
     "metadata": {},
     "execution_count": 6
    }
   ],
   "source": [
    "df.head()"
   ]
  },
  {
   "source": [
    "### Größe der gesamten Revisions je Seite einfügen"
   ],
   "cell_type": "markdown",
   "metadata": {}
  },
  {
   "cell_type": "code",
   "execution_count": 7,
   "metadata": {},
   "outputs": [
    {
     "output_type": "execute_result",
     "data": {
      "text/plain": [
       "   page_id           page_title  revision_id           timestamp  \\\n",
       "0       10  AccessibleComputing       233192 2001-01-21 02:12:21   \n",
       "1       10  AccessibleComputing       862220 2002-02-25 15:43:11   \n",
       "2       10  AccessibleComputing     15898945 2003-04-25 22:18:38   \n",
       "3       10  AccessibleComputing     56681914 2006-06-03 16:55:41   \n",
       "4       10  AccessibleComputing     74466685 2006-09-08 04:16:04   \n",
       "\n",
       "                comment contributor_id   contributor_name  bytes  \\\n",
       "0                     *             99          RoseParks    124   \n",
       "1  Automated conversion        1226483  Conversion script     35   \n",
       "2       Fixing redirect           7543              Ams80     34   \n",
       "3   fix double redirect         516514                Nzd     36   \n",
       "4                cat rd         750223            Rory096     57   \n",
       "\n",
       "                                             revtext       dates     times  \\\n",
       "0  This subject covers* AssistiveTechnology* Acce...  2001-01-21  02:12:21   \n",
       "1                 #REDIRECT [[Accessible Computing]]  2002-02-25  15:43:11   \n",
       "2                 #REDIRECT [[Accessible_computing]]  2003-04-25  22:18:38   \n",
       "3               #REDIRECT [[Computer accessibility]]  2006-06-03  16:55:41   \n",
       "4  #REDIRECT [[Computer accessibility]] {{R from ...  2006-09-08  04:16:04   \n",
       "\n",
       "   revbytes  \n",
       "0      2848  \n",
       "1      2848  \n",
       "2      2848  \n",
       "3      2848  \n",
       "4      2848  "
      ],
      "text/html": "<div>\n<style scoped>\n    .dataframe tbody tr th:only-of-type {\n        vertical-align: middle;\n    }\n\n    .dataframe tbody tr th {\n        vertical-align: top;\n    }\n\n    .dataframe thead th {\n        text-align: right;\n    }\n</style>\n<table border=\"1\" class=\"dataframe\">\n  <thead>\n    <tr style=\"text-align: right;\">\n      <th></th>\n      <th>page_id</th>\n      <th>page_title</th>\n      <th>revision_id</th>\n      <th>timestamp</th>\n      <th>comment</th>\n      <th>contributor_id</th>\n      <th>contributor_name</th>\n      <th>bytes</th>\n      <th>revtext</th>\n      <th>dates</th>\n      <th>times</th>\n      <th>revbytes</th>\n    </tr>\n  </thead>\n  <tbody>\n    <tr>\n      <th>0</th>\n      <td>10</td>\n      <td>AccessibleComputing</td>\n      <td>233192</td>\n      <td>2001-01-21 02:12:21</td>\n      <td>*</td>\n      <td>99</td>\n      <td>RoseParks</td>\n      <td>124</td>\n      <td>This subject covers* AssistiveTechnology* Acce...</td>\n      <td>2001-01-21</td>\n      <td>02:12:21</td>\n      <td>2848</td>\n    </tr>\n    <tr>\n      <th>1</th>\n      <td>10</td>\n      <td>AccessibleComputing</td>\n      <td>862220</td>\n      <td>2002-02-25 15:43:11</td>\n      <td>Automated conversion</td>\n      <td>1226483</td>\n      <td>Conversion script</td>\n      <td>35</td>\n      <td>#REDIRECT [[Accessible Computing]]</td>\n      <td>2002-02-25</td>\n      <td>15:43:11</td>\n      <td>2848</td>\n    </tr>\n    <tr>\n      <th>2</th>\n      <td>10</td>\n      <td>AccessibleComputing</td>\n      <td>15898945</td>\n      <td>2003-04-25 22:18:38</td>\n      <td>Fixing redirect</td>\n      <td>7543</td>\n      <td>Ams80</td>\n      <td>34</td>\n      <td>#REDIRECT [[Accessible_computing]]</td>\n      <td>2003-04-25</td>\n      <td>22:18:38</td>\n      <td>2848</td>\n    </tr>\n    <tr>\n      <th>3</th>\n      <td>10</td>\n      <td>AccessibleComputing</td>\n      <td>56681914</td>\n      <td>2006-06-03 16:55:41</td>\n      <td>fix double redirect</td>\n      <td>516514</td>\n      <td>Nzd</td>\n      <td>36</td>\n      <td>#REDIRECT [[Computer accessibility]]</td>\n      <td>2006-06-03</td>\n      <td>16:55:41</td>\n      <td>2848</td>\n    </tr>\n    <tr>\n      <th>4</th>\n      <td>10</td>\n      <td>AccessibleComputing</td>\n      <td>74466685</td>\n      <td>2006-09-08 04:16:04</td>\n      <td>cat rd</td>\n      <td>750223</td>\n      <td>Rory096</td>\n      <td>57</td>\n      <td>#REDIRECT [[Computer accessibility]] {{R from ...</td>\n      <td>2006-09-08</td>\n      <td>04:16:04</td>\n      <td>2848</td>\n    </tr>\n  </tbody>\n</table>\n</div>"
     },
     "metadata": {},
     "execution_count": 7
    }
   ],
   "source": [
    "df['revbytes'] = df.groupby(by='page_title')['bytes'].transform('sum')\n",
    "df.head()"
   ]
  },
  {
   "source": [
    "### Einfügen des prozentuellen Anteils der Revisionsgröße je Artikel"
   ],
   "cell_type": "markdown",
   "metadata": {}
  },
  {
   "cell_type": "code",
   "execution_count": 8,
   "metadata": {},
   "outputs": [],
   "source": [
    "df['revperc'] = 100/df['revbytes']*df['bytes']"
   ]
  },
  {
   "cell_type": "code",
   "execution_count": 9,
   "metadata": {},
   "outputs": [
    {
     "output_type": "execute_result",
     "data": {
      "text/plain": [
       "   page_id           page_title  revision_id           timestamp  \\\n",
       "0       10  AccessibleComputing       233192 2001-01-21 02:12:21   \n",
       "1       10  AccessibleComputing       862220 2002-02-25 15:43:11   \n",
       "2       10  AccessibleComputing     15898945 2003-04-25 22:18:38   \n",
       "3       10  AccessibleComputing     56681914 2006-06-03 16:55:41   \n",
       "4       10  AccessibleComputing     74466685 2006-09-08 04:16:04   \n",
       "\n",
       "                comment contributor_id   contributor_name  bytes  \\\n",
       "0                     *             99          RoseParks    124   \n",
       "1  Automated conversion        1226483  Conversion script     35   \n",
       "2       Fixing redirect           7543              Ams80     34   \n",
       "3   fix double redirect         516514                Nzd     36   \n",
       "4                cat rd         750223            Rory096     57   \n",
       "\n",
       "                                             revtext       dates     times  \\\n",
       "0  This subject covers* AssistiveTechnology* Acce...  2001-01-21  02:12:21   \n",
       "1                 #REDIRECT [[Accessible Computing]]  2002-02-25  15:43:11   \n",
       "2                 #REDIRECT [[Accessible_computing]]  2003-04-25  22:18:38   \n",
       "3               #REDIRECT [[Computer accessibility]]  2006-06-03  16:55:41   \n",
       "4  #REDIRECT [[Computer accessibility]] {{R from ...  2006-09-08  04:16:04   \n",
       "\n",
       "   revbytes   revperc  \n",
       "0      2848  4.353933  \n",
       "1      2848  1.228933  \n",
       "2      2848  1.193820  \n",
       "3      2848  1.264045  \n",
       "4      2848  2.001404  "
      ],
      "text/html": "<div>\n<style scoped>\n    .dataframe tbody tr th:only-of-type {\n        vertical-align: middle;\n    }\n\n    .dataframe tbody tr th {\n        vertical-align: top;\n    }\n\n    .dataframe thead th {\n        text-align: right;\n    }\n</style>\n<table border=\"1\" class=\"dataframe\">\n  <thead>\n    <tr style=\"text-align: right;\">\n      <th></th>\n      <th>page_id</th>\n      <th>page_title</th>\n      <th>revision_id</th>\n      <th>timestamp</th>\n      <th>comment</th>\n      <th>contributor_id</th>\n      <th>contributor_name</th>\n      <th>bytes</th>\n      <th>revtext</th>\n      <th>dates</th>\n      <th>times</th>\n      <th>revbytes</th>\n      <th>revperc</th>\n    </tr>\n  </thead>\n  <tbody>\n    <tr>\n      <th>0</th>\n      <td>10</td>\n      <td>AccessibleComputing</td>\n      <td>233192</td>\n      <td>2001-01-21 02:12:21</td>\n      <td>*</td>\n      <td>99</td>\n      <td>RoseParks</td>\n      <td>124</td>\n      <td>This subject covers* AssistiveTechnology* Acce...</td>\n      <td>2001-01-21</td>\n      <td>02:12:21</td>\n      <td>2848</td>\n      <td>4.353933</td>\n    </tr>\n    <tr>\n      <th>1</th>\n      <td>10</td>\n      <td>AccessibleComputing</td>\n      <td>862220</td>\n      <td>2002-02-25 15:43:11</td>\n      <td>Automated conversion</td>\n      <td>1226483</td>\n      <td>Conversion script</td>\n      <td>35</td>\n      <td>#REDIRECT [[Accessible Computing]]</td>\n      <td>2002-02-25</td>\n      <td>15:43:11</td>\n      <td>2848</td>\n      <td>1.228933</td>\n    </tr>\n    <tr>\n      <th>2</th>\n      <td>10</td>\n      <td>AccessibleComputing</td>\n      <td>15898945</td>\n      <td>2003-04-25 22:18:38</td>\n      <td>Fixing redirect</td>\n      <td>7543</td>\n      <td>Ams80</td>\n      <td>34</td>\n      <td>#REDIRECT [[Accessible_computing]]</td>\n      <td>2003-04-25</td>\n      <td>22:18:38</td>\n      <td>2848</td>\n      <td>1.193820</td>\n    </tr>\n    <tr>\n      <th>3</th>\n      <td>10</td>\n      <td>AccessibleComputing</td>\n      <td>56681914</td>\n      <td>2006-06-03 16:55:41</td>\n      <td>fix double redirect</td>\n      <td>516514</td>\n      <td>Nzd</td>\n      <td>36</td>\n      <td>#REDIRECT [[Computer accessibility]]</td>\n      <td>2006-06-03</td>\n      <td>16:55:41</td>\n      <td>2848</td>\n      <td>1.264045</td>\n    </tr>\n    <tr>\n      <th>4</th>\n      <td>10</td>\n      <td>AccessibleComputing</td>\n      <td>74466685</td>\n      <td>2006-09-08 04:16:04</td>\n      <td>cat rd</td>\n      <td>750223</td>\n      <td>Rory096</td>\n      <td>57</td>\n      <td>#REDIRECT [[Computer accessibility]] {{R from ...</td>\n      <td>2006-09-08</td>\n      <td>04:16:04</td>\n      <td>2848</td>\n      <td>2.001404</td>\n    </tr>\n  </tbody>\n</table>\n</div>"
     },
     "metadata": {},
     "execution_count": 9
    }
   ],
   "source": [
    "df.head()"
   ]
  },
  {
   "source": [
    "### Bearbeiten von fehlenden Werten"
   ],
   "cell_type": "markdown",
   "metadata": {}
  },
  {
   "cell_type": "code",
   "execution_count": 12,
   "metadata": {},
   "outputs": [
    {
     "output_type": "stream",
     "name": "stdout",
     "text": [
      "<class 'pandas.core.frame.DataFrame'>\nRangeIndex: 548305 entries, 0 to 548304\nData columns (total 13 columns):\n #   Column            Non-Null Count   Dtype         \n---  ------            --------------   -----         \n 0   page_id           548305 non-null  int64         \n 1   page_title        548305 non-null  object        \n 2   revision_id       548305 non-null  int64         \n 3   timestamp         548305 non-null  datetime64[ns]\n 4   comment           548305 non-null  object        \n 5   contributor_id    548291 non-null  object        \n 6   contributor_name  375963 non-null  object        \n 7   bytes             548305 non-null  int64         \n 8   revtext           546854 non-null  object        \n 9   dates             548305 non-null  object        \n 10  times             548305 non-null  object        \n 11  revbytes          548305 non-null  int64         \n 12  revperc           548305 non-null  float64       \ndtypes: datetime64[ns](1), float64(1), int64(4), object(7)\nmemory usage: 54.4+ MB\n"
     ]
    }
   ],
   "source": [
    "df.info()"
   ]
  },
  {
   "cell_type": "code",
   "execution_count": 13,
   "metadata": {},
   "outputs": [
    {
     "output_type": "execute_result",
     "data": {
      "text/plain": [
       "0"
      ]
     },
     "metadata": {},
     "execution_count": 13
    }
   ],
   "source": [
    "df['comment'] = df['comment'].fillna('no comment')\n",
    "df['comment'].isna().sum()"
   ]
  },
  {
   "cell_type": "code",
   "execution_count": 14,
   "metadata": {},
   "outputs": [
    {
     "output_type": "execute_result",
     "data": {
      "text/plain": [
       "        page_id           page_title  revision_id           timestamp  \\\n",
       "7            10  AccessibleComputing    381200179 2010-08-26 22:23:51   \n",
       "15           12            Anarchism        19746 2002-02-25 15:43:11   \n",
       "16           12            Anarchism        19749 2002-02-27 17:34:09   \n",
       "17           12            Anarchism        20514 2002-02-27 17:36:41   \n",
       "18           12            Anarchism        42733 2002-03-01 00:13:17   \n",
       "...         ...                  ...          ...                 ...   \n",
       "548270      857        Aberdeenshire   1014766994 2021-03-28 23:47:39   \n",
       "548275      857        Aberdeenshire   1016965461 2021-04-10 01:19:05   \n",
       "548280      857        Aberdeenshire   1018352476 2021-04-17 16:36:57   \n",
       "548281      857        Aberdeenshire   1018356524 2021-04-17 17:05:49   \n",
       "548282      857        Aberdeenshire   1018357202 2021-04-17 17:10:06   \n",
       "\n",
       "                                                  comment  \\\n",
       "7                                              no comment   \n",
       "15                                                      *   \n",
       "16                                                      *   \n",
       "17                                                      *   \n",
       "18                                           term in bold   \n",
       "...                                                   ...   \n",
       "548270                      /* Governance and politics */   \n",
       "548275                                         no comment   \n",
       "548280  interesting development that Aberdeenshire was...   \n",
       "548281  correcting membership of Mearns; the SNP membe...   \n",
       "548282  Correcting membership of the councillors of th...   \n",
       "\n",
       "                              contributor_id contributor_name  bytes  \\\n",
       "7                              76.28.186.133              NaN   1875   \n",
       "15                            140.232.153.45              NaN  11279   \n",
       "16                             24.188.31.147              NaN  11394   \n",
       "17                             24.188.31.147              NaN  11486   \n",
       "18                            213.253.39.175              NaN  11488   \n",
       "...                                      ...              ...    ...   \n",
       "548270                        86.139.205.230              NaN  32920   \n",
       "548275  2A00:23C7:BB09:201:C873:9543:7F67:27              NaN  33097   \n",
       "548280                          90.62.81.138              NaN  33626   \n",
       "548281                          90.62.81.138              NaN  33627   \n",
       "548282                          90.62.81.138              NaN  33636   \n",
       "\n",
       "                                                  revtext       dates  \\\n",
       "7       \">File talk</namespace>   <namespace key=\"8\" c...  2010-08-26   \n",
       "15      [[talk:Anarchism/Talk]] <br>[[Anarchism/Todo/T...  2002-02-25   \n",
       "16      * David Hart's [http://www.arts.adelaide.edu.a...  2002-02-27   \n",
       "17      * David Hart's [http://www.arts.adelaide.edu.a...  2002-02-27   \n",
       "18      [[Anarchism/Todo/Todo]] <br>[[talk:Anarchy]] [...  2002-03-01   \n",
       "...                                                   ...         ...   \n",
       "548270  *[http://www.aberdeenshire.gov.uk/ Aberdeenshi...  2021-03-28   \n",
       "548275  *[http://www.aberdeenshire.gov.uk/ Aberdeenshi...  2021-04-10   \n",
       "548280  *[http://www.aberdeenshire.gov.uk/ Aberdeenshi...  2021-04-17   \n",
       "548281  *[https://web.archive.org/web/20060126034453/h...  2021-04-17   \n",
       "548282  *[http://www.aberdeenshire.gov.uk/ Aberdeenshi...  2021-04-17   \n",
       "\n",
       "           times    revbytes    revperc  \n",
       "7       22:23:51        2848  65.835674  \n",
       "15      15:43:11  1689954733   0.000667  \n",
       "16      17:34:09  1689954733   0.000674  \n",
       "17      17:36:41  1689954733   0.000680  \n",
       "18      00:13:17  1689954733   0.000680  \n",
       "...          ...         ...        ...  \n",
       "548270  23:47:39    14056754   0.234193  \n",
       "548275  01:19:05    14056754   0.235453  \n",
       "548280  16:36:57    14056754   0.239216  \n",
       "548281  17:05:49    14056754   0.239223  \n",
       "548282  17:10:06    14056754   0.239287  \n",
       "\n",
       "[172342 rows x 13 columns]"
      ],
      "text/html": "<div>\n<style scoped>\n    .dataframe tbody tr th:only-of-type {\n        vertical-align: middle;\n    }\n\n    .dataframe tbody tr th {\n        vertical-align: top;\n    }\n\n    .dataframe thead th {\n        text-align: right;\n    }\n</style>\n<table border=\"1\" class=\"dataframe\">\n  <thead>\n    <tr style=\"text-align: right;\">\n      <th></th>\n      <th>page_id</th>\n      <th>page_title</th>\n      <th>revision_id</th>\n      <th>timestamp</th>\n      <th>comment</th>\n      <th>contributor_id</th>\n      <th>contributor_name</th>\n      <th>bytes</th>\n      <th>revtext</th>\n      <th>dates</th>\n      <th>times</th>\n      <th>revbytes</th>\n      <th>revperc</th>\n    </tr>\n  </thead>\n  <tbody>\n    <tr>\n      <th>7</th>\n      <td>10</td>\n      <td>AccessibleComputing</td>\n      <td>381200179</td>\n      <td>2010-08-26 22:23:51</td>\n      <td>no comment</td>\n      <td>76.28.186.133</td>\n      <td>NaN</td>\n      <td>1875</td>\n      <td>\"&gt;File talk&lt;/namespace&gt;   &lt;namespace key=\"8\" c...</td>\n      <td>2010-08-26</td>\n      <td>22:23:51</td>\n      <td>2848</td>\n      <td>65.835674</td>\n    </tr>\n    <tr>\n      <th>15</th>\n      <td>12</td>\n      <td>Anarchism</td>\n      <td>19746</td>\n      <td>2002-02-25 15:43:11</td>\n      <td>*</td>\n      <td>140.232.153.45</td>\n      <td>NaN</td>\n      <td>11279</td>\n      <td>[[talk:Anarchism/Talk]] &lt;br&gt;[[Anarchism/Todo/T...</td>\n      <td>2002-02-25</td>\n      <td>15:43:11</td>\n      <td>1689954733</td>\n      <td>0.000667</td>\n    </tr>\n    <tr>\n      <th>16</th>\n      <td>12</td>\n      <td>Anarchism</td>\n      <td>19749</td>\n      <td>2002-02-27 17:34:09</td>\n      <td>*</td>\n      <td>24.188.31.147</td>\n      <td>NaN</td>\n      <td>11394</td>\n      <td>* David Hart's [http://www.arts.adelaide.edu.a...</td>\n      <td>2002-02-27</td>\n      <td>17:34:09</td>\n      <td>1689954733</td>\n      <td>0.000674</td>\n    </tr>\n    <tr>\n      <th>17</th>\n      <td>12</td>\n      <td>Anarchism</td>\n      <td>20514</td>\n      <td>2002-02-27 17:36:41</td>\n      <td>*</td>\n      <td>24.188.31.147</td>\n      <td>NaN</td>\n      <td>11486</td>\n      <td>* David Hart's [http://www.arts.adelaide.edu.a...</td>\n      <td>2002-02-27</td>\n      <td>17:36:41</td>\n      <td>1689954733</td>\n      <td>0.000680</td>\n    </tr>\n    <tr>\n      <th>18</th>\n      <td>12</td>\n      <td>Anarchism</td>\n      <td>42733</td>\n      <td>2002-03-01 00:13:17</td>\n      <td>term in bold</td>\n      <td>213.253.39.175</td>\n      <td>NaN</td>\n      <td>11488</td>\n      <td>[[Anarchism/Todo/Todo]] &lt;br&gt;[[talk:Anarchy]] [...</td>\n      <td>2002-03-01</td>\n      <td>00:13:17</td>\n      <td>1689954733</td>\n      <td>0.000680</td>\n    </tr>\n    <tr>\n      <th>...</th>\n      <td>...</td>\n      <td>...</td>\n      <td>...</td>\n      <td>...</td>\n      <td>...</td>\n      <td>...</td>\n      <td>...</td>\n      <td>...</td>\n      <td>...</td>\n      <td>...</td>\n      <td>...</td>\n      <td>...</td>\n      <td>...</td>\n    </tr>\n    <tr>\n      <th>548270</th>\n      <td>857</td>\n      <td>Aberdeenshire</td>\n      <td>1014766994</td>\n      <td>2021-03-28 23:47:39</td>\n      <td>/* Governance and politics */</td>\n      <td>86.139.205.230</td>\n      <td>NaN</td>\n      <td>32920</td>\n      <td>*[http://www.aberdeenshire.gov.uk/ Aberdeenshi...</td>\n      <td>2021-03-28</td>\n      <td>23:47:39</td>\n      <td>14056754</td>\n      <td>0.234193</td>\n    </tr>\n    <tr>\n      <th>548275</th>\n      <td>857</td>\n      <td>Aberdeenshire</td>\n      <td>1016965461</td>\n      <td>2021-04-10 01:19:05</td>\n      <td>no comment</td>\n      <td>2A00:23C7:BB09:201:C873:9543:7F67:27</td>\n      <td>NaN</td>\n      <td>33097</td>\n      <td>*[http://www.aberdeenshire.gov.uk/ Aberdeenshi...</td>\n      <td>2021-04-10</td>\n      <td>01:19:05</td>\n      <td>14056754</td>\n      <td>0.235453</td>\n    </tr>\n    <tr>\n      <th>548280</th>\n      <td>857</td>\n      <td>Aberdeenshire</td>\n      <td>1018352476</td>\n      <td>2021-04-17 16:36:57</td>\n      <td>interesting development that Aberdeenshire was...</td>\n      <td>90.62.81.138</td>\n      <td>NaN</td>\n      <td>33626</td>\n      <td>*[http://www.aberdeenshire.gov.uk/ Aberdeenshi...</td>\n      <td>2021-04-17</td>\n      <td>16:36:57</td>\n      <td>14056754</td>\n      <td>0.239216</td>\n    </tr>\n    <tr>\n      <th>548281</th>\n      <td>857</td>\n      <td>Aberdeenshire</td>\n      <td>1018356524</td>\n      <td>2021-04-17 17:05:49</td>\n      <td>correcting membership of Mearns; the SNP membe...</td>\n      <td>90.62.81.138</td>\n      <td>NaN</td>\n      <td>33627</td>\n      <td>*[https://web.archive.org/web/20060126034453/h...</td>\n      <td>2021-04-17</td>\n      <td>17:05:49</td>\n      <td>14056754</td>\n      <td>0.239223</td>\n    </tr>\n    <tr>\n      <th>548282</th>\n      <td>857</td>\n      <td>Aberdeenshire</td>\n      <td>1018357202</td>\n      <td>2021-04-17 17:10:06</td>\n      <td>Correcting membership of the councillors of th...</td>\n      <td>90.62.81.138</td>\n      <td>NaN</td>\n      <td>33636</td>\n      <td>*[http://www.aberdeenshire.gov.uk/ Aberdeenshi...</td>\n      <td>2021-04-17</td>\n      <td>17:10:06</td>\n      <td>14056754</td>\n      <td>0.239287</td>\n    </tr>\n  </tbody>\n</table>\n<p>172342 rows × 13 columns</p>\n</div>"
     },
     "metadata": {},
     "execution_count": 14
    }
   ],
   "source": [
    "filter = df[df['contributor_name'].isna()]\n",
    "filter"
   ]
  },
  {
   "cell_type": "code",
   "execution_count": 15,
   "metadata": {},
   "outputs": [],
   "source": [
    "df['contributor_id'] = df['contributor_id'].fillna('no id')"
   ]
  },
  {
   "cell_type": "code",
   "execution_count": 16,
   "metadata": {},
   "outputs": [],
   "source": [
    "df['contributor_name'] = df['contributor_name'].fillna('anon')"
   ]
  },
  {
   "cell_type": "code",
   "execution_count": 17,
   "metadata": {},
   "outputs": [],
   "source": [
    "df['revtext'] = df['revtext'].fillna('no text')"
   ]
  },
  {
   "cell_type": "code",
   "execution_count": 18,
   "metadata": {},
   "outputs": [
    {
     "output_type": "stream",
     "name": "stdout",
     "text": [
      "<class 'pandas.core.frame.DataFrame'>\nRangeIndex: 548305 entries, 0 to 548304\nData columns (total 13 columns):\n #   Column            Non-Null Count   Dtype         \n---  ------            --------------   -----         \n 0   page_id           548305 non-null  int64         \n 1   page_title        548305 non-null  object        \n 2   revision_id       548305 non-null  int64         \n 3   timestamp         548305 non-null  datetime64[ns]\n 4   comment           548305 non-null  object        \n 5   contributor_id    548305 non-null  object        \n 6   contributor_name  548305 non-null  object        \n 7   bytes             548305 non-null  int64         \n 8   revtext           548305 non-null  object        \n 9   dates             548305 non-null  object        \n 10  times             548305 non-null  object        \n 11  revbytes          548305 non-null  int64         \n 12  revperc           548305 non-null  float64       \ndtypes: datetime64[ns](1), float64(1), int64(4), object(7)\nmemory usage: 54.4+ MB\n"
     ]
    }
   ],
   "source": [
    "df.info()"
   ]
  },
  {
   "source": [
    "### Verarbeitung der Revisionstexte"
   ],
   "cell_type": "markdown",
   "metadata": {}
  },
  {
   "cell_type": "code",
   "execution_count": 19,
   "metadata": {
    "tags": [
     "outputPrepend"
    ]
   },
   "outputs": [
    {
     "output_type": "stream",
     "name": "stdout",
     "text": [
      "://www.aberdeenshirearts.org.uk/ Aberdeenshire Arts]*[http://www.aberdeenshire-sports-council.org.uk/ Aberdeenshire Sports Council]*{{dmozRegional/Europe/United_Kingdom/Scotland/Aberdeenshire}}{{Aberdeenshire placesstate=uncollapsed}}{{Scotland subdivisions}}[[Category:Council areas of Scotland]][[Category:Aberdeenshire ]]\n",
      "*[http://www.aberdeenshire-sports-council.org.uk/ Aberdeenshire Sports Council]*{{dmozRegional/Europe/United_Kingdom/Scotland/Aberdeenshire}}{{Aberdeenshire placesstate=uncollapsed}}{{Scotland subdivisions}}[[Category:Council areas of Scotland]][[Category:Aberdeenshire ]]\n",
      "{{commons categoryAberdeenshire}}==External links=={{WikivoyageAberdeenshire}}*[http://www.aberdeenshire.gov.uk/ Aberdeenshire Council]*[http://www.aberdeenshire.gov.uk/alis Aberdeenshire Libraries Service]*[http://webarchive.nationalarchives.gov.uk/20130107175733/http://www.aberdeenshire.gov.uk/museums/index.asp/ Aberdeenshire Museums Service]*[http://www.visitpeterhead.org.uk/ Peterhead and Buchan Tourism Web Site]*[http://www.aberdeenshirearts.org.uk/ Aberdeenshire Arts]*[http://www.aberdeenshire-sports-council.org.uk/ Aberdeenshire Sports Council]*{{dmozRegional/Europe/United_Kingdom/Scotland/Aberdeenshire}}{{Aberdeenshire placesstate=uncollapsed}}{{Scotland subdivisions}}[[Category:Council areas of Scotland]][[Category:Aberdeenshire ]]\n",
      "*[http://www.aberdeenshire.gov.uk/alis Aberdeenshire Libraries Service]*[http://webarchive.nationalarchives.gov.uk/20130107175733/http://www.aberdeenshire.gov.uk/museums/index.asp/ Aberdeenshire Museums Service]*[http://www.visitpeterhead.org.uk/ Peterhead and Buchan Tourism Web Site]*[http://www.aberdeenshirearts.org.uk/ Aberdeenshire Arts]*[http://www.aberdeenshire-sports-council.org.uk/ Aberdeenshire Sports Council]*{{dmozRegional/Europe/United_Kingdom/Scotland/Aberdeenshire}}{{Aberdeenshire placesstate=uncollapsed}}{{Scotland subdivisions}}[[Category:Council areas of Scotland]][[Category:Aberdeenshire ]]\n",
      "==References=={{reflist}}{{commons categoryAberdeenshire}}==External links=={{WikivoyageAberdeenshire}}*[http://www.aberdeenshire.gov.uk/ Aberdeenshire Council]*[http://www.aberdeenshire.gov.uk/alis Aberdeenshire Libraries Service]*[http://webarchive.nationalarchives.gov.uk/20130107175733/http://www.aberdeenshire.gov.uk/museums/index.asp/ Aberdeenshire Museums Service]*[http://www.visitpeterhead.org.uk/ Peterhead and Buchan Tourism Web Site]*[http://www.aberdeenshirearts.org.uk/ Aberdeenshire Arts]*[http://www.aberdeenshire-sports-council.org.uk/ Aberdeenshire Sports Council]*{{dmozRegional/Europe/United_Kingdom/Scotland/Aberdeenshire}}{{Aberdeenshire placesstate=uncollapsed}}{{Scotland subdivisions}}[[Category:Council areas of Scotland]][[Category:Aberdeenshire ]]\n",
      "was a key inspiration for his debut album ''Shire and City''.*[[Peter Shepherd (British Army officer)Peter Shepherd]], (1841&ndash;1879), Surgeon Major, [[Royal Medical Corps]]==References=={{reflist}}{{commons categoryAberdeenshire}}==External links=={{WikivoyageAberdeenshire}}*[http://www.aberdeenshire.gov.uk/ Aberdeenshire Council]*[http://www.aberdeenshire.gov.uk/alis Aberdeenshire Libraries Service]*[http://webarchive.nationalarchives.gov.uk/20130107175733/http://www.aberdeenshire.gov.uk/museums/index.asp/ Aberdeenshire Museums Service]*[http://www.visitpeterhead.org.uk/ Peterhead and Buchan Tourism Web Site]*[http://www.aberdeenshirearts.org.uk/ Aberdeenshire Arts]*[http://www.aberdeenshire-sports-council.org.uk/ Aberdeenshire Sports Council]*{{dmozRegional/Europe/United_Kingdom/Scotland/Aberdeenshire}}{{Aberdeenshire placesstate=uncollapsed}}{{Scotland subdivisions}}[[Category:Council areas of Scotland]][[Category:Aberdeenshire ]]\n",
      "{{WikivoyageAberdeenshire}}*[http://www.aberdeenshire.gov.uk/ Aberdeenshire Council]*[http://www.aberdeenshire.gov.uk/alis Aberdeenshire Libraries Service]*[http://webarchive.nationalarchives.gov.uk/20130107175733/http://www.aberdeenshire.gov.uk/museums/index.asp/ Aberdeenshire Museums Service]*[http://www.visitpeterhead.org.uk/ Peterhead and Buchan Tourism Web Site]*[http://www.aberdeenshirearts.org.uk/ Aberdeenshire Arts]*[http://www.aberdeenshire-sports-council.org.uk/ Aberdeenshire Sports Council]*{{dmozRegional/Europe/United_Kingdom/Scotland/Aberdeenshire}}{{Aberdeenshire placesstate=uncollapsed}}{{Scotland subdivisions}}[[Category:Council areas of Scotland]][[Category:Aberdeenshire ]]\n",
      "*[http://www.aberdeenshire.gov.uk/alis Aberdeenshire Libraries Service]*[https://web.archive.org/web/20060126034453/http://www.aberdeenshire.gov.uk:80/museums/index.asp Aberdeenshire Museums Service]*[http://www.visitpeterhead.org.uk/ Peterhead and Buchan Tourism Web Site]*[http://www.aberdeenshirearts.org.uk/ Aberdeenshire Arts]*[http://www.aberdeenshire-sports-council.org.uk/ Aberdeenshire Sports Council]*{{dmozRegional/Europe/United_Kingdom/Scotland/Aberdeenshire}}{{Aberdeenshire placesstate=uncollapsed}}{{Scotland subdivisions}}[[Category:Council areas of Scotland]][[Category:Aberdeenshire ]]\n",
      "*[https://web.archive.org/web/20060126034453/http://www.aberdeenshire.gov.uk/museums/index.asp Aberdeenshire Museums Service]*[http://www.visitpeterhead.org.uk/ Peterhead and Buchan Tourism Web Site]*[http://www.aberdeenshirearts.org.uk/ Aberdeenshire Arts]*[http://www.aberdeenshire-sports-council.org.uk/ Aberdeenshire Sports Council]*{{dmozRegional/Europe/United_Kingdom/Scotland/Aberdeenshire}}{{Aberdeenshire placesstate=uncollapsed}}{{Scotland subdivisions}}[[Category:Council areas of Scotland]][[Category:Aberdeenshire ]]\n",
      "*[http://www.aberdeenshire.gov.uk/alis Aberdeenshire Libraries Service]*[https://web.archive.org/web/20060126034453/http://www.aberdeenshire.gov.uk/museums/index.asp Aberdeenshire Museums Service]*[http://www.visitpeterhead.org.uk/ Peterhead and Buchan Tourism Web Site]*[http://www.aberdeenshirearts.org.uk/ Aberdeenshire Arts]*[http://www.aberdeenshire-sports-council.org.uk/ Aberdeenshire Sports Council]*{{dmozRegional/Europe/United_Kingdom/Scotland/Aberdeenshire}}{{Aberdeenshire placesstate=uncollapsed}}{{Scotland subdivisions}}[[Category:Council areas of Scotland]][[Category:Aberdeenshire ]]\n",
      "{{reflist}}{{commons categoryAberdeenshire}}==External links=={{WikivoyageAberdeenshire}}*[http://www.aberdeenshire.gov.uk/ Aberdeenshire Council]*[http://www.aberdeenshire.gov.uk/alis Aberdeenshire Libraries Service]*[https://web.archive.org/web/20060126034453/http://www.aberdeenshire.gov.uk/museums/index.asp Aberdeenshire Museums Service]*[http://www.visitpeterhead.org.uk/ Peterhead and Buchan Tourism Web Site]*[http://www.aberdeenshirearts.org.uk/ Aberdeenshire Arts]*[http://www.aberdeenshire-sports-council.org.uk/ Aberdeenshire Sports Council]*{{dmozRegional/Europe/United_Kingdom/Scotland/Aberdeenshire}}{{Aberdeenshire placesstate=uncollapsed}}{{Scotland subdivisions}}[[Category:Council areas of Scotland]][[Category:Aberdeenshire ]]\n",
      "*[https://www.visitabdn.com/ Aberdeenshire Tourist Guide]*[http://www.aberdeenshire.gov.uk/alis Aberdeenshire Libraries Service]*[https://web.archive.org/web/20060126034453/http://www.aberdeenshire.gov.uk/museums/index.asp Aberdeenshire Museums Service]*[http://www.visitpeterhead.org.uk/ Peterhead and Buchan Tourism Web Site]*[http://www.aberdeenshirearts.org.uk/ Aberdeenshire Arts]*[http://www.aberdeenshire-sports-council.org.uk/ Aberdeenshire Sports Council]*{{dmozRegional/Europe/United_Kingdom/Scotland/Aberdeenshire}}{{Aberdeenshire placesstate=uncollapsed}}{{Scotland subdivisions}}[[Category:Council areas of Scotland]][[Category:Aberdeenshire ]]\n",
      "*[https://www.visitabdn.com/ Aberdeenshire Tourist Guide]*[http://www.aberdeenshire.gov.uk/alis Aberdeenshire Libraries Service]*[https://web.archive.org/web/20060126034453/http://www.aberdeenshire.gov.uk/museums/index.asp Aberdeenshire Museums Service]*[http://www.visitpeterhead.org.uk/ Peterhead and Buchan Tourism Web Site]*[https://web.archive.org/web/20030701105942/http://www.aberdeenshirearts.org.uk/ Aberdeenshire Arts]*[https://web.archive.org/web/20060207060408/http://www.aberdeenshire-sports-council.org.uk/ Aberdeenshire Sports Council]*{{dmozRegional/Europe/United_Kingdom/Scotland/Aberdeenshire}}{{Aberdeenshire placesstate=uncollapsed}}{{Scotland subdivisions}}[[Category:Council areas of Scotland]][[Category:Aberdeenshire ]]\n",
      "*[https://www.visitabdn.com/ Aberdeenshire Tourist Guide]*[https://web.archive.org/web/20130104192813/http://www.aberdeenshire.gov.uk/alis/ Aberdeenshire Libraries Service]*[https://web.archive.org/web/20060126034453/http://www.aberdeenshire.gov.uk/museums/index.asp Aberdeenshire Museums Service]*[http://www.visitpeterhead.org.uk/ Peterhead and Buchan Tourism Web Site]*[https://web.archive.org/web/20030701105942/http://www.aberdeenshirearts.org.uk/ Aberdeenshire Arts]*[https://web.archive.org/web/20060207060408/http://www.aberdeenshire-sports-council.org.uk/ Aberdeenshire Sports Council]*{{dmozRegional/Europe/United_Kingdom/Scotland/Aberdeenshire}}{{Aberdeenshire placesstate=uncollapsed}}{{Scotland subdivisions}}[[Category:Council areas of Scotland]][[Category:Aberdeenshire ]]\n",
      "[https://web.archive.org/web/20060126034453/http://www.aberdeenshire.gov.uk/museums/index.asp Aberdeenshire Museums Service]*[http://www.visitpeterhead.org.uk/ Peterhead and Buchan Tourism Web Site]*[https://web.archive.org/web/20030701105942/http://www.aberdeenshirearts.org.uk/ Aberdeenshire Arts]*[https://web.archive.org/web/20060207060408/http://www.aberdeenshire-sports-council.org.uk/ Aberdeenshire Sports Council]*{{dmozRegional/Europe/United_Kingdom/Scotland/Aberdeenshire}}{{Aberdeenshire placesstate=uncollapsed}}{{Scotland subdivisions}}[[Category:Council areas of Scotland]][[Category:Aberdeenshire ]]\n",
      "*[https://web.archive.org/web/20060126034453/http://www.aberdeenshire.gov.uk/museums/index.asp Aberdeenshire Museums Service]*[http://www.visitpeterhead.org.uk/ Peterhead and Buchan Tourism Web Site]*[https://web.archive.org/web/20030701105942/http://www.aberdeenshirearts.org.uk/ Aberdeenshire Arts]*[https://web.archive.org/web/20060207060408/http://www.aberdeenshire-sports-council.org.uk/ Aberdeenshire Sports Council]*{{dmozRegional/Europe/United_Kingdom/Scotland/Aberdeenshire}}{{Aberdeenshire placesstate=uncollapsed}}{{Scotland subdivisions}}[[Category:Council areas of Scotland]][[Category:Aberdeenshire ]]\n",
      "eb/20060126034453/http://www.aberdeenshire.gov.uk/museums/index.asp Aberdeenshire Museums Service]*[http://www.visitpeterhead.org.uk/ Peterhead and Buchan Tourism Web Site]*[https://web.archive.org/web/20030701105942/http://www.aberdeenshirearts.org.uk/ Aberdeenshire Arts]*[https://web.archive.org/web/20060207060408/http://www.aberdeenshire-sports-council.org.uk/ Aberdeenshire Sports Council]*{{dmozRegional/Europe/United_Kingdom/Scotland/Aberdeenshire}}{{Aberdeenshire placesstate=uncollapsed}}{{Scotland subdivisions}}[[Category:Council areas of Scotland]][[Category:Aberdeenshire ]]\n",
      "*[https://web.archive.org/web/20130104192813/http://www.aberdeenshire.gov.uk/alis/ Aberdeenshire Libraries Service]*[https://web.archive.org/web/20060126034453/http://www.aberdeenshire.gov.uk/museums/index.asp Aberdeenshire Museums Service]*[http://www.visitpeterhead.org.uk/ Peterhead and Buchan Tourism Web Site]*[https://web.archive.org/web/20030701105942/http://www.aberdeenshirearts.org.uk/ Aberdeenshire Arts]*[https://web.archive.org/web/20060207060408/http://www.aberdeenshire-sports-council.org.uk/ Aberdeenshire Sports Council]*{{dmozRegional/Europe/United_Kingdom/Scotland/Aberdeenshire}}{{Aberdeenshire placesstate=uncollapsed}}{{Scotland subdivisions}}[[Category:Council areas of Scotland]][[Category:Aberdeenshire ]]\n",
      "ttps://web.archive.org/web/20130104192813/http://www.aberdeenshire.gov.uk/alis/ Aberdeenshire Libraries Service]*[https://web.archive.org/web/20060126034453/http://www.aberdeenshire.gov.uk/museums/index.asp Aberdeenshire Museums Service]*[http://www.visitpeterhead.org.uk/ Peterhead and Buchan Tourism Web Site]*[https://web.archive.org/web/20030701105942/http://www.aberdeenshirearts.org.uk/ Aberdeenshire Arts]*[https://web.archive.org/web/20060207060408/http://www.aberdeenshire-sports-council.org.uk/ Aberdeenshire Sports Council]*{{dmozRegional/Europe/United_Kingdom/Scotland/Aberdeenshire}}{{Aberdeenshire placesstate=uncollapsed}}{{Scotland subdivisions}}[[Category:Council areas of Scotland]][[Category:Aberdeenshire ]]\n",
      "*[https://www.visitabdn.com/ Aberdeenshire Tourist Guide]*[https://web.archive.org/web/20130104192813/http://www.aberdeenshire.gov.uk/alis/ Aberdeenshire Libraries Service]*[https://web.archive.org/web/20060126034453/http://www.aberdeenshire.gov.uk/museums/index.asp Aberdeenshire Museums Service]*[http://www.visitpeterhead.org.uk/ Peterhead and Buchan Tourism Web Site]*[https://web.archive.org/web/20030701105942/http://www.aberdeenshirearts.org.uk/ Aberdeenshire Arts]*[https://web.archive.org/web/20060207060408/http://www.aberdeenshire-sports-council.org.uk/ Aberdeenshire Sports Council]*{{curlieRegional/Europe/United_Kingdom/Scotland/Aberdeenshire}}{{Aberdeenshire placesstate=uncollapsed}}{{Scotland subdivisions}}[[Category:Aberdeenshire ]][[Category:Council areas of Scotland]]\n",
      "*[http://www.aberdeenshire.gov.uk/ Aberdeenshire Council]*[https://www.visitabdn.com/ Aberdeenshire Tourist Guide]*[https://web.archive.org/web/20130104192813/http://www.aberdeenshire.gov.uk/alis/ Aberdeenshire Libraries Service]*[https://web.archive.org/web/20060126034453/http://www.aberdeenshire.gov.uk/museums/index.asp Aberdeenshire Museums Service]*[http://www.visitpeterhead.org.uk/ Peterhead and Buchan Tourism Web Site]*[https://web.archive.org/web/20030701105942/http://www.aberdeenshirearts.org.uk/ Aberdeenshire Arts]*[https://web.archive.org/web/20060207060408/http://www.aberdeenshire-sports-council.org.uk/ Aberdeenshire Sports Council]*{{curlieRegional/Europe/United_Kingdom/Scotland/Aberdeenshire}}{{Aberdeenshire placesstate=uncollapsed}}{{Scotland subdivisions}}[[Category:Aberdeenshire ]][[Category:Council areas of Scotland]]\n",
      "*[https://web.archive.org/web/20060126034453/http://www.aberdeenshire.gov.uk/museums/index.asp Aberdeenshire Museums Service]*[http://www.visitpeterhead.org.uk/ Peterhead and Buchan Tourism Web Site]*[https://web.archive.org/web/20030701105942/http://www.aberdeenshirearts.org.uk/ Aberdeenshire Arts]*[https://web.archive.org/web/20060207060408/http://www.aberdeenshire-sports-council.org.uk/ Aberdeenshire Sports Council]*{{curlieRegional/Europe/United_Kingdom/Scotland/Aberdeenshire}}{{Aberdeenshire placesstate=uncollapsed}}{{Scotland subdivisions}}[[Category:Aberdeenshire ]][[Category:Council areas of Scotland]]\n",
      "*[https://web.archive.org/web/20130104192813/http://www.aberdeenshire.gov.uk/alis/ Aberdeenshire Libraries Service]*[https://web.archive.org/web/20060126034453/http://www.aberdeenshire.gov.uk/museums/index.asp Aberdeenshire Museums Service]*[http://www.visitpeterhead.org.uk/ Peterhead and Buchan Tourism Web Site]*[https://web.archive.org/web/20030701105942/http://www.aberdeenshirearts.org.uk/ Aberdeenshire Arts]*[https://web.archive.org/web/20060207060408/http://www.aberdeenshire-sports-council.org.uk/ Aberdeenshire Sports Council]*{{curlieRegional/Europe/United_Kingdom/Scotland/Aberdeenshire}}{{Aberdeenshire placesstate=uncollapsed}}{{Scotland subdivisions}}{{Authority control}}[[Category:Aberdeenshire ]][[Category:Council areas of Scotland]]\n",
      "*[http://www.aberdeenshire.gov.uk/ Aberdeenshire Council]*[https://www.visitabdn.com/ Aberdeenshire Tourist Guide]*[https://web.archive.org/web/20130104192813/http://www.aberdeenshire.gov.uk/alis/ Aberdeenshire Libraries Service]*[https://web.archive.org/web/20060126034453/http://www.aberdeenshire.gov.uk/museums/index.asp Aberdeenshire Museums Service]*[http://www.visitpeterhead.org.uk/ Peterhead and Buchan Tourism Web Site]*[https://web.archive.org/web/20030701105942/http://www.aberdeenshirearts.org.uk/ Aberdeenshire Arts]*[https://web.archive.org/web/20060207060408/http://www.aberdeenshire-sports-council.org.uk/ Aberdeenshire Sports Council]*{{curlieRegional/Europe/United_Kingdom/Scotland/Aberdeenshire}}{{Aberdeenshire placesstate=uncollapsed}}{{Scotland subdivisions}}{{Authority control}}[[Category:Aberdeenshire ]][[Category:Council areas of Scotland]]\n",
      "://web.archive.org/web/20060126034453/http://www.aberdeenshire.gov.uk/museums/index.asp Aberdeenshire Museums Service]*[http://www.visitpeterhead.org.uk/ Peterhead and Buchan Tourism Web Site]*[https://web.archive.org/web/20030701105942/http://www.aberdeenshirearts.org.uk/ Aberdeenshire Arts]*[https://web.archive.org/web/20060207060408/http://www.aberdeenshire-sports-council.org.uk/ Aberdeenshire Sports Council]*{{curlieRegional/Europe/United_Kingdom/Scotland/Aberdeenshire}}{{Aberdeenshire placesstate=uncollapsed}}{{Scotland subdivisions}}{{Authority control}}[[Category:Aberdeenshire ]][[Category:Council areas of Scotland]]\n",
      "*[https://web.archive.org/web/20060126034453/http://www.aberdeenshire.gov.uk/museums/index.asp Aberdeenshire Museums Service]*[http://www.visitpeterhead.org.uk/ Peterhead and Buchan Tourism Web Site]*[https://web.archive.org/web/20030701105942/http://www.aberdeenshirearts.org.uk/ Aberdeenshire Arts]*[https://web.archive.org/web/20060207060408/http://www.aberdeenshire-sports-council.org.uk/ Aberdeenshire Sports Council]*{{curlieRegional/Europe/United_Kingdom/Scotland/Aberdeenshire}}{{Aberdeenshire placesstate=uncollapsed}}{{Scotland subdivisions}}{{Authority control}}[[Category:Aberdeenshire ]][[Category:Council areas of Scotland]]\n",
      "*[http://www.aberdeenshire.gov.uk/ Aberdeenshire Council]*[https://www.visitabdn.com/ Aberdeenshire Tourist Guide]*[https://web.archive.org/web/20130104192813/http://www.aberdeenshire.gov.uk/alis/ Aberdeenshire Libraries Service]*[https://web.archive.org/web/20060126034453/http://www.aberdeenshire.gov.uk/museums/index.asp Aberdeenshire Museums Service]*[http://www.visitpeterhead.org.uk/ Peterhead and Buchan Tourism Web Site]*[https://web.archive.org/web/20030701105942/http://www.aberdeenshirearts.org.uk/ Aberdeenshire Arts]*[https://web.archive.org/web/20060207060408/http://www.aberdeenshire-sports-council.org.uk/ Aberdeenshire Sports Council]*{{curlieRegional/Europe/United_Kingdom/Scotland/Aberdeenshire}}{{Aberdeenshire placesstate=uncollapsed}}{{Aberdeenshire elections}}{{Scotland subdivisions}}{{Authority control}}[[Category:Aberdeenshire ]][[Category:Council areas of Scotland]]\n",
      "*[http://www.aberdeenshire.gov.uk/ Aberdeenshire Council]*[https://www.visitabdn.com/ Aberdeenshire Tourist Guide]*[https://web.archive.org/web/20130104192813/http://www.aberdeenshire.gov.uk/alis/ Aberdeenshire Libraries Service]*[https://web.archive.org/web/20060126034453/http://www.aberdeenshire.gov.uk/museums/index.asp Aberdeenshire Museums Service]*[http://www.visitpeterhead.org.uk/ Peterhead and Buchan Tourism Web Site]*[https://web.archive.org/web/20030701105942/http://www.aberdeenshirearts.org.uk/ Aberdeenshire Arts]*[https://web.archive.org/web/20060207060408/http://www.aberdeenshire-sports-council.org.uk/ Aberdeenshire Sports Council]*{{curlieRegional/Europe/United_Kingdom/Scotland/Aberdeenshire}}{{Aberdeenshire placesstate=uncollapsed}}{{Aberdeenshire elections}}{{Wards of Aberdeenshire}}{{Scotland subdivisions}}{{Authority control}}[[Category:Aberdeenshire ]][[Category:Council areas of Scotland]]\n",
      "*[https://web.archive.org/web/20060126034453/http://www.aberdeenshire.gov.uk/museums/index.asp Aberdeenshire Museums Service]*[http://www.visitpeterhead.org.uk/ Peterhead and Buchan Tourism Web Site]*[https://web.archive.org/web/20030701105942/http://www.aberdeenshirearts.org.uk/ Aberdeenshire Arts]*[https://web.archive.org/web/20060207060408/http://www.aberdeenshire-sports-council.org.uk/ Aberdeenshire Sports Council]*{{curlieRegional/Europe/United_Kingdom/Scotland/Aberdeenshire}}{{Aberdeenshire placesstate=uncollapsed}}{{Aberdeenshire elections}}{{Wards of Aberdeenshire}}{{Scotland subdivisions}}{{Authority control}}[[Category:Aberdeenshire ]][[Category:Council areas of Scotland]]\n"
     ]
    }
   ],
   "source": [
    "filter = (~df['revtext'].str.contains('^#'))\n",
    "x = df[filter]['revtext'].unique()\n",
    "for i in x: \n",
    "    print(i)"
   ]
  },
  {
   "cell_type": "code",
   "execution_count": 20,
   "metadata": {},
   "outputs": [
    {
     "output_type": "execute_result",
     "data": {
      "text/plain": [
       "   page_id           page_title  revision_id           timestamp  \\\n",
       "0       10  AccessibleComputing       233192 2001-01-21 02:12:21   \n",
       "1       10  AccessibleComputing       862220 2002-02-25 15:43:11   \n",
       "2       10  AccessibleComputing     15898945 2003-04-25 22:18:38   \n",
       "3       10  AccessibleComputing     56681914 2006-06-03 16:55:41   \n",
       "4       10  AccessibleComputing     74466685 2006-09-08 04:16:04   \n",
       "\n",
       "                comment contributor_id   contributor_name  bytes  \\\n",
       "0                     *             99          RoseParks    124   \n",
       "1  Automated conversion        1226483  Conversion script     35   \n",
       "2       Fixing redirect           7543              Ams80     34   \n",
       "3   fix double redirect         516514                Nzd     36   \n",
       "4                cat rd         750223            Rory096     57   \n",
       "\n",
       "                                             revtext       dates     times  \\\n",
       "0  This subject covers* AssistiveTechnology* Acce...  2001-01-21  02:12:21   \n",
       "1                 #REDIRECT [[Accessible Computing]]  2002-02-25  15:43:11   \n",
       "2                 #REDIRECT [[Accessible_computing]]  2003-04-25  22:18:38   \n",
       "3               #REDIRECT [[Computer accessibility]]  2006-06-03  16:55:41   \n",
       "4  #REDIRECT [[Computer accessibility]] {{R from ...  2006-09-08  04:16:04   \n",
       "\n",
       "   revbytes   revperc  textedit  \n",
       "0      2848  4.353933      True  \n",
       "1      2848  1.228933     False  \n",
       "2      2848  1.193820     False  \n",
       "3      2848  1.264045     False  \n",
       "4      2848  2.001404     False  "
      ],
      "text/html": "<div>\n<style scoped>\n    .dataframe tbody tr th:only-of-type {\n        vertical-align: middle;\n    }\n\n    .dataframe tbody tr th {\n        vertical-align: top;\n    }\n\n    .dataframe thead th {\n        text-align: right;\n    }\n</style>\n<table border=\"1\" class=\"dataframe\">\n  <thead>\n    <tr style=\"text-align: right;\">\n      <th></th>\n      <th>page_id</th>\n      <th>page_title</th>\n      <th>revision_id</th>\n      <th>timestamp</th>\n      <th>comment</th>\n      <th>contributor_id</th>\n      <th>contributor_name</th>\n      <th>bytes</th>\n      <th>revtext</th>\n      <th>dates</th>\n      <th>times</th>\n      <th>revbytes</th>\n      <th>revperc</th>\n      <th>textedit</th>\n    </tr>\n  </thead>\n  <tbody>\n    <tr>\n      <th>0</th>\n      <td>10</td>\n      <td>AccessibleComputing</td>\n      <td>233192</td>\n      <td>2001-01-21 02:12:21</td>\n      <td>*</td>\n      <td>99</td>\n      <td>RoseParks</td>\n      <td>124</td>\n      <td>This subject covers* AssistiveTechnology* Acce...</td>\n      <td>2001-01-21</td>\n      <td>02:12:21</td>\n      <td>2848</td>\n      <td>4.353933</td>\n      <td>True</td>\n    </tr>\n    <tr>\n      <th>1</th>\n      <td>10</td>\n      <td>AccessibleComputing</td>\n      <td>862220</td>\n      <td>2002-02-25 15:43:11</td>\n      <td>Automated conversion</td>\n      <td>1226483</td>\n      <td>Conversion script</td>\n      <td>35</td>\n      <td>#REDIRECT [[Accessible Computing]]</td>\n      <td>2002-02-25</td>\n      <td>15:43:11</td>\n      <td>2848</td>\n      <td>1.228933</td>\n      <td>False</td>\n    </tr>\n    <tr>\n      <th>2</th>\n      <td>10</td>\n      <td>AccessibleComputing</td>\n      <td>15898945</td>\n      <td>2003-04-25 22:18:38</td>\n      <td>Fixing redirect</td>\n      <td>7543</td>\n      <td>Ams80</td>\n      <td>34</td>\n      <td>#REDIRECT [[Accessible_computing]]</td>\n      <td>2003-04-25</td>\n      <td>22:18:38</td>\n      <td>2848</td>\n      <td>1.193820</td>\n      <td>False</td>\n    </tr>\n    <tr>\n      <th>3</th>\n      <td>10</td>\n      <td>AccessibleComputing</td>\n      <td>56681914</td>\n      <td>2006-06-03 16:55:41</td>\n      <td>fix double redirect</td>\n      <td>516514</td>\n      <td>Nzd</td>\n      <td>36</td>\n      <td>#REDIRECT [[Computer accessibility]]</td>\n      <td>2006-06-03</td>\n      <td>16:55:41</td>\n      <td>2848</td>\n      <td>1.264045</td>\n      <td>False</td>\n    </tr>\n    <tr>\n      <th>4</th>\n      <td>10</td>\n      <td>AccessibleComputing</td>\n      <td>74466685</td>\n      <td>2006-09-08 04:16:04</td>\n      <td>cat rd</td>\n      <td>750223</td>\n      <td>Rory096</td>\n      <td>57</td>\n      <td>#REDIRECT [[Computer accessibility]] {{R from ...</td>\n      <td>2006-09-08</td>\n      <td>04:16:04</td>\n      <td>2848</td>\n      <td>2.001404</td>\n      <td>False</td>\n    </tr>\n  </tbody>\n</table>\n</div>"
     },
     "metadata": {},
     "execution_count": 20
    }
   ],
   "source": [
    "df['textedit'] = filter\n",
    "df.head()"
   ]
  },
  {
   "cell_type": "code",
   "execution_count": 30,
   "metadata": {},
   "outputs": [],
   "source": [
    "df.to_csv('vorverarbeiteter_dataframe.csv')"
   ]
  }
 ]
}