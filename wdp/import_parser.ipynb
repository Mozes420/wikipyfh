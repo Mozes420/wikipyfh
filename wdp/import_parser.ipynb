{
 "metadata": {
  "language_info": {
   "codemirror_mode": {
    "name": "ipython",
    "version": 3
   },
   "file_extension": ".py",
   "mimetype": "text/x-python",
   "name": "python",
   "nbconvert_exporter": "python",
   "pygments_lexer": "ipython3",
   "version": "3.10.2-final"
  },
  "orig_nbformat": 2,
  "kernelspec": {
   "name": "python3",
   "display_name": "Python 3.10.2 64-bit",
   "metadata": {
    "interpreter": {
     "hash": "98590ff4fe04c8543246b2a01debd3de3c5ca9b666f43f1fa87d5110c692004c"
    }
   }
  }
 },
 "nbformat": 4,
 "nbformat_minor": 2,
 "cells": [
  {
   "source": [
    "# File 1: Import und Parsen von Wikidump"
   ],
   "cell_type": "markdown",
   "metadata": {}
  },
  {
   "source": [
    "### Libraries"
   ],
   "cell_type": "markdown",
   "metadata": {}
  },
  {
   "cell_type": "code",
   "execution_count": 1,
   "metadata": {},
   "outputs": [],
   "source": [
    "import numpy as np\n",
    "import pandas as pd\n",
    "import wdp as parser"
   ]
  },
  {
   "source": [
    "### Parsen des XML-Dumps"
   ],
   "cell_type": "markdown",
   "metadata": {}
  },
  {
   "cell_type": "code",
   "execution_count": null,
   "metadata": {},
   "outputs": [],
   "source": [
    "parser.xml_to_csv('enwiki-p1p857.xml')"
   ]
  },
  {
   "source": [
    "### Einlesen des geparsten CSV-Dump Files"
   ],
   "cell_type": "markdown",
   "metadata": {}
  },
  {
   "cell_type": "code",
   "execution_count": 2,
   "metadata": {},
   "outputs": [],
   "source": [
    "df = pd.read_csv('/Users/m.wieser/Documents/vscode_workspace/pyscripts/dump_unpacked/enwiki-p1p857.csv', quotechar='|', sep = '#', engine = 'python', on_bad_lines='warn')\n",
    "df['timestamp'] = pd.to_datetime(df['timestamp'],format='%Y-%m-%dT%H:%M:%SZ')"
   ]
  },
  {
   "cell_type": "code",
   "execution_count": 8,
   "metadata": {},
   "outputs": [
    {
     "output_type": "stream",
     "name": "stdout",
     "text": [
      "<class 'pandas.core.frame.DataFrame'>\nRangeIndex: 548305 entries, 0 to 548304\nData columns (total 9 columns):\n #   Column            Non-Null Count   Dtype         \n---  ------            --------------   -----         \n 0   page_id           548305 non-null  int64         \n 1   page_title        548305 non-null  object        \n 2   revision_id       548305 non-null  int64         \n 3   timestamp         548305 non-null  datetime64[ns]\n 4   comment           448614 non-null  object        \n 5   contributor_id    548291 non-null  object        \n 6   contributor_name  375963 non-null  object        \n 7   bytes             548305 non-null  int64         \n 8   revtext           546854 non-null  object        \ndtypes: datetime64[ns](1), int64(3), object(5)\nmemory usage: 37.6+ MB\n"
     ]
    },
    {
     "output_type": "execute_result",
     "data": {
      "text/plain": [
       "             page_id   revision_id         bytes\n",
       "count  548305.000000  5.483050e+05  5.483050e+05\n",
       "mean      615.323158  3.511284e+08  6.548075e+04\n",
       "std       223.177424  2.980818e+08  5.329390e+04\n",
       "min        10.000000  4.430000e+02  0.000000e+00\n",
       "25%       579.000000  9.593874e+07  2.751700e+04\n",
       "50%       689.000000  2.697240e+08  5.281700e+04\n",
       "75%       771.000000  5.521281e+08  8.866000e+04\n",
       "max       857.000000  1.069247e+09  1.788058e+06"
      ],
      "text/html": "<div>\n<style scoped>\n    .dataframe tbody tr th:only-of-type {\n        vertical-align: middle;\n    }\n\n    .dataframe tbody tr th {\n        vertical-align: top;\n    }\n\n    .dataframe thead th {\n        text-align: right;\n    }\n</style>\n<table border=\"1\" class=\"dataframe\">\n  <thead>\n    <tr style=\"text-align: right;\">\n      <th></th>\n      <th>page_id</th>\n      <th>revision_id</th>\n      <th>bytes</th>\n    </tr>\n  </thead>\n  <tbody>\n    <tr>\n      <th>count</th>\n      <td>548305.000000</td>\n      <td>5.483050e+05</td>\n      <td>5.483050e+05</td>\n    </tr>\n    <tr>\n      <th>mean</th>\n      <td>615.323158</td>\n      <td>3.511284e+08</td>\n      <td>6.548075e+04</td>\n    </tr>\n    <tr>\n      <th>std</th>\n      <td>223.177424</td>\n      <td>2.980818e+08</td>\n      <td>5.329390e+04</td>\n    </tr>\n    <tr>\n      <th>min</th>\n      <td>10.000000</td>\n      <td>4.430000e+02</td>\n      <td>0.000000e+00</td>\n    </tr>\n    <tr>\n      <th>25%</th>\n      <td>579.000000</td>\n      <td>9.593874e+07</td>\n      <td>2.751700e+04</td>\n    </tr>\n    <tr>\n      <th>50%</th>\n      <td>689.000000</td>\n      <td>2.697240e+08</td>\n      <td>5.281700e+04</td>\n    </tr>\n    <tr>\n      <th>75%</th>\n      <td>771.000000</td>\n      <td>5.521281e+08</td>\n      <td>8.866000e+04</td>\n    </tr>\n    <tr>\n      <th>max</th>\n      <td>857.000000</td>\n      <td>1.069247e+09</td>\n      <td>1.788058e+06</td>\n    </tr>\n  </tbody>\n</table>\n</div>"
     },
     "metadata": {},
     "execution_count": 8
    }
   ],
   "source": [
    "df.info()\n",
    "df.describe()"
   ]
  },
  {
   "cell_type": "code",
   "execution_count": 3,
   "metadata": {},
   "outputs": [
    {
     "output_type": "execute_result",
     "data": {
      "text/plain": [
       "   page_id           page_title  revision_id           timestamp  \\\n",
       "0       10  AccessibleComputing       233192 2001-01-21 02:12:21   \n",
       "1       10  AccessibleComputing       862220 2002-02-25 15:43:11   \n",
       "2       10  AccessibleComputing     15898945 2003-04-25 22:18:38   \n",
       "3       10  AccessibleComputing     56681914 2006-06-03 16:55:41   \n",
       "4       10  AccessibleComputing     74466685 2006-09-08 04:16:04   \n",
       "\n",
       "                comment contributor_id   contributor_name  bytes  \\\n",
       "0                     *             99          RoseParks    124   \n",
       "1  Automated conversion        1226483  Conversion script     35   \n",
       "2       Fixing redirect           7543              Ams80     34   \n",
       "3   fix double redirect         516514                Nzd     36   \n",
       "4                cat rd         750223            Rory096     57   \n",
       "\n",
       "                                             revtext  \n",
       "0  This subject covers* AssistiveTechnology* Acce...  \n",
       "1                 #REDIRECT [[Accessible Computing]]  \n",
       "2                 #REDIRECT [[Accessible_computing]]  \n",
       "3               #REDIRECT [[Computer accessibility]]  \n",
       "4  #REDIRECT [[Computer accessibility]] {{R from ...  "
      ],
      "text/html": "<div>\n<style scoped>\n    .dataframe tbody tr th:only-of-type {\n        vertical-align: middle;\n    }\n\n    .dataframe tbody tr th {\n        vertical-align: top;\n    }\n\n    .dataframe thead th {\n        text-align: right;\n    }\n</style>\n<table border=\"1\" class=\"dataframe\">\n  <thead>\n    <tr style=\"text-align: right;\">\n      <th></th>\n      <th>page_id</th>\n      <th>page_title</th>\n      <th>revision_id</th>\n      <th>timestamp</th>\n      <th>comment</th>\n      <th>contributor_id</th>\n      <th>contributor_name</th>\n      <th>bytes</th>\n      <th>revtext</th>\n    </tr>\n  </thead>\n  <tbody>\n    <tr>\n      <th>0</th>\n      <td>10</td>\n      <td>AccessibleComputing</td>\n      <td>233192</td>\n      <td>2001-01-21 02:12:21</td>\n      <td>*</td>\n      <td>99</td>\n      <td>RoseParks</td>\n      <td>124</td>\n      <td>This subject covers* AssistiveTechnology* Acce...</td>\n    </tr>\n    <tr>\n      <th>1</th>\n      <td>10</td>\n      <td>AccessibleComputing</td>\n      <td>862220</td>\n      <td>2002-02-25 15:43:11</td>\n      <td>Automated conversion</td>\n      <td>1226483</td>\n      <td>Conversion script</td>\n      <td>35</td>\n      <td>#REDIRECT [[Accessible Computing]]</td>\n    </tr>\n    <tr>\n      <th>2</th>\n      <td>10</td>\n      <td>AccessibleComputing</td>\n      <td>15898945</td>\n      <td>2003-04-25 22:18:38</td>\n      <td>Fixing redirect</td>\n      <td>7543</td>\n      <td>Ams80</td>\n      <td>34</td>\n      <td>#REDIRECT [[Accessible_computing]]</td>\n    </tr>\n    <tr>\n      <th>3</th>\n      <td>10</td>\n      <td>AccessibleComputing</td>\n      <td>56681914</td>\n      <td>2006-06-03 16:55:41</td>\n      <td>fix double redirect</td>\n      <td>516514</td>\n      <td>Nzd</td>\n      <td>36</td>\n      <td>#REDIRECT [[Computer accessibility]]</td>\n    </tr>\n    <tr>\n      <th>4</th>\n      <td>10</td>\n      <td>AccessibleComputing</td>\n      <td>74466685</td>\n      <td>2006-09-08 04:16:04</td>\n      <td>cat rd</td>\n      <td>750223</td>\n      <td>Rory096</td>\n      <td>57</td>\n      <td>#REDIRECT [[Computer accessibility]] {{R from ...</td>\n    </tr>\n  </tbody>\n</table>\n</div>"
     },
     "metadata": {},
     "execution_count": 3
    }
   ],
   "source": [
    "df.head()"
   ]
  },
  {
   "cell_type": "code",
   "execution_count": null,
   "metadata": {},
   "outputs": [],
   "source": []
  },
  {
   "cell_type": "code",
   "execution_count": null,
   "metadata": {},
   "outputs": [],
   "source": []
  }
 ]
}